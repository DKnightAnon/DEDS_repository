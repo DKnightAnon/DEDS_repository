{
 "cells": [
  {
   "cell_type": "markdown",
   "metadata": {},
   "source": [
    "# Practicumopdrachten Week 2.2 (eerste kans)"
   ]
  },
  {
   "cell_type": "markdown",
   "metadata": {},
   "source": [
    "## Dependencies importeren"
   ]
  },
  {
   "cell_type": "markdown",
   "metadata": {},
   "source": [
    "Importeer in het codeblok hieronder de packages die worden gebruikt om data in te lezen. Geef er ook de gebruikelijke aliassen aan.<br>\n",
    "N.B.: de 2 reeds geschreven coderegels zorgen ervoor dat eventuele warnings, die code-outputs lelijker maken, uitgezet worden."
   ]
  },
  {
   "cell_type": "code",
   "execution_count": 3,
   "metadata": {},
   "outputs": [],
   "source": [
    "\n",
    "import warnings\n",
    "import numpy as np\n",
    "import sqlite3\n",
    "import pandas as pd\n",
    "warnings.simplefilter('ignore')"
   ]
  },
  {
   "cell_type": "markdown",
   "metadata": {},
   "source": [
    "Zet het bestand go_sales.sqlite in hetzelfde mapje als dit notebook."
   ]
  },
  {
   "cell_type": "markdown",
   "metadata": {},
   "source": [
    "## Databasetabel inlezen"
   ]
  },
  {
   "cell_type": "markdown",
   "metadata": {},
   "source": [
    "Creëer een databaseconnectie met het bestand go_sales.sqlite."
   ]
  },
  {
   "cell_type": "code",
   "execution_count": 4,
   "metadata": {},
   "outputs": [],
   "source": [
    "con = sqlite3.connect(\"Assets/Week 2/go_sales.sqlite\")"
   ]
  },
  {
   "cell_type": "markdown",
   "metadata": {},
   "source": [
    "Gebruik de onderstaande sql_query om te achterhalen welke databasetabellen in go_sales zitten."
   ]
  },
  {
   "cell_type": "code",
   "execution_count": 57,
   "metadata": {},
   "outputs": [
    {
     "name": "stdout",
     "output_type": "stream",
     "text": [
      "Connected to sqlite.\n",
      "Total rows are:   14\n",
      "    ('country',)\n",
      "    ('order_details',)\n",
      "    ('order_header',)\n",
      "    ('order_method',)\n",
      "    ('product',)\n",
      "    ('product_line',)\n",
      "    ('product_type',)\n",
      "    ('retailer_site',)\n",
      "    ('return_reason',)\n",
      "    ('returned_item',)\n",
      "    ('sales_branch',)\n",
      "    ('sales_staff',)\n",
      "    ('SALES_TARGETData',)\n",
      "    ('sqlite_sequence',)\n",
      "The SQLite connection is now closed.\n"
     ]
    }
   ],
   "source": [
    "sql_query = \"SELECT name FROM sqlite_master WHERE type='table';\"\n",
    "#Vul dit codeblok verder in\n",
    "def discoverTables() :\n",
    "    try :\n",
    "        con = sqlite3.connect(\"Assets/Week 2/go_sales.sqlite\")\n",
    "        cursor = con.cursor() \n",
    "        print(\"Connected to sqlite.\")\n",
    "        cursor.execute(sql_query)\n",
    "        records = cursor.fetchall()\n",
    "        print(\"Total rows are:  \", len(records))\n",
    "        for row in records : \n",
    "            print(f\"    {row}\")\n",
    "    except sqlite3.Error as error:\n",
    "        print(\"Failed to read data from sqlite table\", error)\n",
    "    finally:\n",
    "        if con:\n",
    "            con.close()\n",
    "            print(\"The SQLite connection is now closed.\")\n",
    "\n",
    "discoverTables()"
   ]
  },
  {
   "cell_type": "markdown",
   "metadata": {},
   "source": [
    "Gebruik de gecreëerde databaseconnectie om de resultaten van de volgende query in een DataFrame te zetten:<br>\n",
    "*SELECT * FROM sales_staff* "
   ]
  },
  {
   "cell_type": "code",
   "execution_count": 58,
   "metadata": {},
   "outputs": [
    {
     "name": "stdout",
     "output_type": "stream",
     "text": [
      "Connected to sqlite.\n",
      "    SALES_STAFF_CODE FIRST_NAME   LAST_NAME                   POSITION_EN  \\\n",
      "0                100     Tuomas  Savolainen  Level 2 Sales Representative   \n",
      "1                101   Chang-ho         Kim  Level 2 Sales Representative   \n",
      "2                102    Jung-ho        Choi  Level 3 Sales Representative   \n",
      "3                103  Kwei-Ping         Kao  Level 2 Sales Representative   \n",
      "4                104  Chin-Tsai        Fang  Level 3 Sales Representative   \n",
      "..               ...        ...         ...                           ...   \n",
      "97                95      Tomás    Iglesias  Level 2 Sales Representative   \n",
      "98                96     Bayard       Lopes                Branch Manager   \n",
      "99                97     Viviam      Barros  Level 3 Sales Representative   \n",
      "100               98    Eduardo   Guimarães  Level 2 Sales Representative   \n",
      "101               99     Helena    Lindholm  Level 3 Sales Representative   \n",
      "\n",
      "              WORK_PHONE EXTENSION                  FAX  \\\n",
      "0    +358(0)17 - 433 127       825  +358(0)17 - 433 129   \n",
      "1          82-2-778-6587      1228        82-2-778-6586   \n",
      "2          82-2-778-6587      2641        82-2-778-6586   \n",
      "3        886-2-2975-1988      1541      886-2-2989-4978   \n",
      "4        886-2-2975-1988      2311      886-2-2989-4978   \n",
      "..                   ...       ...                  ...   \n",
      "97       +35 94 322 3540       325      +35 91 548 1637   \n",
      "98     +55 (11) 344-4444      3490    +55 (11) 333-2223   \n",
      "99     +55 (11) 344-4444      3364    +55 (11) 333-2223   \n",
      "100    +55 (11) 344-4444      1442    +55 (11) 333-2223   \n",
      "101  +358(0)17 - 433 127       489  +358(0)17 - 433 129   \n",
      "\n",
      "                       EMAIL  DATE_HIRED SALES_BRANCH_CODE TRIAL888  \n",
      "0    TSavolainen@grtd123.com   23-7-2014                31        T  \n",
      "1           CKim@grtd123.com  15-12-2014                32        T  \n",
      "2          JChoi@grtd123.com  27-11-2014                32        T  \n",
      "3          KKwao@grtd123.com   7-10-2014                33        T  \n",
      "4           CFon@grtd123.com    8-5-2012                33        T  \n",
      "..                       ...         ...               ...      ...  \n",
      "97     TIglesias@grtd123.com   19-2-2014                29        T  \n",
      "98        BLopes@grtd123.com   12-8-2013                30        T  \n",
      "99       VBarros@grtd123.com   10-2-2017                30        T  \n",
      "100   EGuimaraes@grtd123.com   14-2-2015                30        T  \n",
      "101    HLindholm@grtd123.com   17-8-2013                31        T  \n",
      "\n",
      "[102 rows x 11 columns]\n",
      "The SQLite connection is now closed.\n"
     ]
    }
   ],
   "source": [
    "sql_query = \"SELECT * FROM sales_staff;\"\n",
    "global original_result\n",
    "\n",
    "def dataframe() : \n",
    "    try : \n",
    "        con = sqlite3.connect(\"Assets/Week 2/go_sales.sqlite\")\n",
    "        print(\"Connected to sqlite.\")\n",
    "        result = pd.read_sql_query(sql_query,con)\n",
    "        print(result)\n",
    "        global original_result\n",
    "        original_result = result\n",
    "    except sqlite3.Error as error: \n",
    "        print(\"Failed to read data from sqlite table\", error)\n",
    "    finally : \n",
    "        if con:\n",
    "            con.close()\n",
    "            print(\"The SQLite connection is now closed.\")\n",
    "\n",
    "dataframe()"
   ]
  },
  {
   "cell_type": "markdown",
   "metadata": {},
   "source": [
    "## DataFrames uitsplitsen en opbouwen met Series"
   ]
  },
  {
   "cell_type": "markdown",
   "metadata": {},
   "source": [
    "De volgende 5 kolommen hebben betrekking op de contactdetails van elke medewerker in dit DataFrame:\n",
    "- SALES_STAFF_CODE\n",
    "- WORK_PHONE\n",
    "- EXTENSION\n",
    "- FAX\n",
    "- EMAIL\n",
    "\n",
    "Maak van elk van deze 5 kolommen een serie."
   ]
  },
  {
   "cell_type": "code",
   "execution_count": 7,
   "metadata": {},
   "outputs": [
    {
     "name": "stdout",
     "output_type": "stream",
     "text": [
      "Connected to sqlite.\n",
      "The SQLite connection is now closed.\n"
     ]
    }
   ],
   "source": [
    "sql_query = \"SELECT * FROM sales_staff;\"\n",
    "global sales_staff_column \n",
    "global work_phone_column\n",
    "global extension_column\n",
    "global fax_column\n",
    "global email_column\n",
    "\n",
    "\n",
    "def go_sales_series() : \n",
    "   try : \n",
    "        con = sqlite3.connect(\"Assets/Week 2/go_sales.sqlite\")\n",
    "        print(\"Connected to sqlite.\")\n",
    "        result =  pd.read_sql_query(sql_query,con)\n",
    "\n",
    "        global sales_staff_column \n",
    "        sales_staff_column = result[\"SALES_STAFF_CODE\"]\n",
    "\n",
    "        global work_phone_column\n",
    "        work_phone_column = result[\"WORK_PHONE\"]\n",
    "\n",
    "        global extension_column\n",
    "        extension_column = result[\"EXTENSION\"]\n",
    "\n",
    "        global fax_column\n",
    "        fax_column = result[\"FAX\"]\n",
    "\n",
    "        global email_column\n",
    "        email_column = result[\"EMAIL\"]\n",
    "\n",
    "        db_series = (sales_staff_column,work_phone_column,extension_column,fax_column,email_column)\n",
    "        #print(db_series)\n",
    "\n",
    "        #print(result)\n",
    "        # print(sales_staff_column)\n",
    "   except sqlite3.Error as error: \n",
    "       print(\"Failed to read data from sqlite table\", error)\n",
    "   finally : \n",
    "        if con:\n",
    "            con.close()\n",
    "            print(\"The SQLite connection is now closed.\")\n",
    "\n",
    "go_sales_series()\n",
    "\n",
    "#print(sales_staff_column)\n",
    "#print(work_phone_column)\n",
    "#print(extension_column)\n",
    "#print(fax_column)\n",
    "#print(email_column)"
   ]
  },
  {
   "cell_type": "markdown",
   "metadata": {},
   "source": [
    "Zet allevijf gecreëerde series als kolommen naast elkaar in een DataFrame (*contact_details*). Gebruik pd.concat(...)<br>\n",
    "Hulpvraag: welke waarde geef je aan de axis-parameter?"
   ]
  },
  {
   "cell_type": "code",
   "execution_count": 8,
   "metadata": {},
   "outputs": [
    {
     "name": "stdout",
     "output_type": "stream",
     "text": [
      "    SALES_STAFF_CODE           WORK_PHONE EXTENSION                  FAX  \\\n",
      "0                100  +358(0)17 - 433 127       825  +358(0)17 - 433 129   \n",
      "1                101        82-2-778-6587      1228        82-2-778-6586   \n",
      "2                102        82-2-778-6587      2641        82-2-778-6586   \n",
      "3                103      886-2-2975-1988      1541      886-2-2989-4978   \n",
      "4                104      886-2-2975-1988      2311      886-2-2989-4978   \n",
      "..               ...                  ...       ...                  ...   \n",
      "97                95      +35 94 322 3540       325      +35 91 548 1637   \n",
      "98                96    +55 (11) 344-4444      3490    +55 (11) 333-2223   \n",
      "99                97    +55 (11) 344-4444      3364    +55 (11) 333-2223   \n",
      "100               98    +55 (11) 344-4444      1442    +55 (11) 333-2223   \n",
      "101               99  +358(0)17 - 433 127       489  +358(0)17 - 433 129   \n",
      "\n",
      "                       EMAIL  \n",
      "0    TSavolainen@grtd123.com  \n",
      "1           CKim@grtd123.com  \n",
      "2          JChoi@grtd123.com  \n",
      "3          KKwao@grtd123.com  \n",
      "4           CFon@grtd123.com  \n",
      "..                       ...  \n",
      "97     TIglesias@grtd123.com  \n",
      "98        BLopes@grtd123.com  \n",
      "99       VBarros@grtd123.com  \n",
      "100   EGuimaraes@grtd123.com  \n",
      "101    HLindholm@grtd123.com  \n",
      "\n",
      "[102 rows x 5 columns]\n"
     ]
    }
   ],
   "source": [
    "# print(sales_staff_column)\n",
    "# print(work_phone_column)\n",
    "# print(extension_column)\n",
    "# print(fax_column)\n",
    "# print(email_column)\n",
    "\n",
    "\n",
    "\n",
    "contact_details = pd.concat([sales_staff_column,work_phone_column,extension_column,fax_column,email_column], axis=1)\n",
    "print(contact_details)"
   ]
  },
  {
   "cell_type": "markdown",
   "metadata": {},
   "source": [
    "## Series en DataFrames maken vanuit lists en dictionaries"
   ]
  },
  {
   "cell_type": "markdown",
   "metadata": {},
   "source": [
    "Met .head(*getal*) kan je de bovenste *getal* rijen van een tabel selecteren.<br>\n",
    "Selecteer op deze manier de bovenste 5 rijen van *contact_details*.<br>\n",
    "Sla dit resultaat op in een nieuw DataFrame."
   ]
  },
  {
   "cell_type": "code",
   "execution_count": 32,
   "metadata": {},
   "outputs": [
    {
     "name": "stdout",
     "output_type": "stream",
     "text": [
      "  SALES_STAFF_CODE           WORK_PHONE EXTENSION                  FAX  \\\n",
      "0              100  +358(0)17 - 433 127       825  +358(0)17 - 433 129   \n",
      "1              101        82-2-778-6587      1228        82-2-778-6586   \n",
      "2              102        82-2-778-6587      2641        82-2-778-6586   \n",
      "3              103      886-2-2975-1988      1541      886-2-2989-4978   \n",
      "4              104      886-2-2975-1988      2311      886-2-2989-4978   \n",
      "\n",
      "                     EMAIL  \n",
      "0  TSavolainen@grtd123.com  \n",
      "1         CKim@grtd123.com  \n",
      "2        JChoi@grtd123.com  \n",
      "3        KKwao@grtd123.com  \n",
      "4         CFon@grtd123.com  \n"
     ]
    }
   ],
   "source": [
    "# print(contact_details.head(5))\n",
    "top5_contactdetails = pd.DataFrame(contact_details.head(5))\n",
    "print(top5_contactdetails)"
   ]
  },
  {
   "cell_type": "markdown",
   "metadata": {},
   "source": [
    "Aan deze 10 rijen met contactdetails willen we 3 kolommen toevoegen: 'FIRST_LANGUAGE', 'SECOND_LANGUAGE' & 'THIRD_LANGUAGE'.<br>\n",
    "Iedereens 'First Language' is Engels, afgekort 'EN'. Maak een lijst waarin 5x 'EN' staat.<br>\n",
    "Converteer deze lijst vervolgens naar een serie en voeg deze horizontaal samen met het resultaat van de vorige opdracht.<br>\n",
    "Vergeet niet een passende naam te geven aan de nieuw ontstane kolom."
   ]
  },
  {
   "cell_type": "code",
   "execution_count": 33,
   "metadata": {},
   "outputs": [
    {
     "name": "stdout",
     "output_type": "stream",
     "text": [
      "  SALES_STAFF_CODE           WORK_PHONE EXTENSION                  FAX  \\\n",
      "0              100  +358(0)17 - 433 127       825  +358(0)17 - 433 129   \n",
      "1              101        82-2-778-6587      1228        82-2-778-6586   \n",
      "2              102        82-2-778-6587      2641        82-2-778-6586   \n",
      "3              103      886-2-2975-1988      1541      886-2-2989-4978   \n",
      "4              104      886-2-2975-1988      2311      886-2-2989-4978   \n",
      "\n",
      "                     EMAIL FIRST_LANGUAGE  \n",
      "0  TSavolainen@grtd123.com             EN  \n",
      "1         CKim@grtd123.com             EN  \n",
      "2        JChoi@grtd123.com             EN  \n",
      "3        KKwao@grtd123.com             EN  \n",
      "4         CFon@grtd123.com             EN  \n"
     ]
    }
   ],
   "source": [
    "language_column = pd.Series([\"EN\",\"EN\",\"EN\",\"EN\",\"EN\"], name=\"FIRST_LANGUAGE\")\n",
    "truncated_Contact = pd.concat([top5_contactdetails,language_column], axis=1)\n",
    "print(truncated_Contact)"
   ]
  },
  {
   "cell_type": "markdown",
   "metadata": {},
   "source": [
    "Maak nu de tweede kolom ('SECOND_LANGUAGE'). Maak daarvoor een dictionary, met daarin...\n",
    "- Als keys: alle indexen uit het resultaat van het vorige codeblok.\n",
    "- Als values: bij de eerste 3 elementen 'FR' (Frankrijk), bij de laatste 2 'DE' (Duitsland).\n",
    "\n",
    "Maak vervolgens ook hier weer een serie van en voeg ook deze weer horizontaal samen met het rsultaat van de vorige opdracht.<br>\n",
    "Vergeet niet een passende naam te geven aan de nieuw ontstane kolom."
   ]
  },
  {
   "cell_type": "code",
   "execution_count": 34,
   "metadata": {},
   "outputs": [
    {
     "name": "stdout",
     "output_type": "stream",
     "text": [
      "  SALES_STAFF_CODE           WORK_PHONE EXTENSION                  FAX  \\\n",
      "0              100  +358(0)17 - 433 127       825  +358(0)17 - 433 129   \n",
      "1              101        82-2-778-6587      1228        82-2-778-6586   \n",
      "2              102        82-2-778-6587      2641        82-2-778-6586   \n",
      "3              103      886-2-2975-1988      1541      886-2-2989-4978   \n",
      "4              104      886-2-2975-1988      2311      886-2-2989-4978   \n",
      "\n",
      "                     EMAIL FIRST_LANGUAGE SECOND_LANGUAGE  \n",
      "0  TSavolainen@grtd123.com             EN              FR  \n",
      "1         CKim@grtd123.com             EN              FR  \n",
      "2        JChoi@grtd123.com             EN              FR  \n",
      "3        KKwao@grtd123.com             EN              DE  \n",
      "4         CFon@grtd123.com             EN              DE  \n"
     ]
    }
   ],
   "source": [
    "second_language_column = pd.Series({0:\"FR\", 1:\"FR\",2:\"FR\",3:\"DE\",4:\"DE\"}, name=\"SECOND_LANGUAGE\")\n",
    "truncated_Contact = pd.concat([truncated_Contact, second_language_column], axis=1)\n",
    "print(truncated_Contact)"
   ]
  },
  {
   "cell_type": "markdown",
   "metadata": {},
   "source": [
    "Maak ten slotte de derde kolom ('THIRD_LANGUAGE') door een dictionary te maken met daarin...\n",
    "- Als key: de naam van de nieuwe kolom. Zie je het verschil qua keys met de vorige opdracht?\n",
    "- Als waarde: een lijst met daarin 'NL', 'NL', 'JPN', 'JPN', 'KOR'.\n",
    "\n",
    "Converteer deze dictionary nu naar een DataFrame en voeg deze horizontaal samen met het resultaat van de vorige opdracht.<br>\n",
    "Waarom hoef je hierna de nieuw ontstane kolom geen passende naam meer te geven?"
   ]
  },
  {
   "cell_type": "code",
   "execution_count": 41,
   "metadata": {},
   "outputs": [
    {
     "name": "stdout",
     "output_type": "stream",
     "text": [
      "  SALES_STAFF_CODE           WORK_PHONE EXTENSION                  FAX  \\\n",
      "0              100  +358(0)17 - 433 127       825  +358(0)17 - 433 129   \n",
      "1              101        82-2-778-6587      1228        82-2-778-6586   \n",
      "2              102        82-2-778-6587      2641        82-2-778-6586   \n",
      "3              103      886-2-2975-1988      1541      886-2-2989-4978   \n",
      "4              104      886-2-2975-1988      2311      886-2-2989-4978   \n",
      "\n",
      "                     EMAIL FIRST_LANGUAGE SECOND_LANGUAGE THIRD_LANGUAGE  \\\n",
      "0  TSavolainen@grtd123.com             EN              FR             NL   \n",
      "1         CKim@grtd123.com             EN              FR             NL   \n",
      "2        JChoi@grtd123.com             EN              FR            JPN   \n",
      "3        KKwao@grtd123.com             EN              DE            JPN   \n",
      "4         CFon@grtd123.com             EN              DE            KOR   \n",
      "\n",
      "  THIRD_LANGUAGE  \n",
      "0             NL  \n",
      "1             NL  \n",
      "2            JPN  \n",
      "3            JPN  \n",
      "4            KOR  \n"
     ]
    }
   ],
   "source": [
    "third_language_dict = {\"THIRD_LANGUAGE\":[\"NL\",\"NL\",\"JPN\",\"JPN\",\"KOR\"]}\n",
    "third_language_column = pd.DataFrame.from_dict(third_language_dict)\n",
    "df_third_lang = pd.DataFrame(third_language_column)\n",
    "# print(df_third_lang)\n",
    "truncated_Contact = pd.concat([truncated_Contact,df_third_lang], axis=1)\n",
    "print(truncated_Contact)"
   ]
  },
  {
   "cell_type": "markdown",
   "metadata": {},
   "source": [
    "## Data toevoegen"
   ]
  },
  {
   "cell_type": "markdown",
   "metadata": {},
   "source": [
    "### Rijen"
   ]
  },
  {
   "cell_type": "markdown",
   "metadata": {},
   "source": [
    "Gebruik de originele databasetabel *sales_staff*.<br>\n",
    "Voeg een extra rij toe met eigen invulling. Zorg ervoor dat de index netjes doorloopt.<br>\n",
    "Hulpvraag: welke waarde geef je nu aan axis?"
   ]
  },
  {
   "cell_type": "code",
   "execution_count": 53,
   "metadata": {},
   "outputs": [
    {
     "name": "stdout",
     "output_type": "stream",
     "text": [
      "    SALES_STAFF_CODE      FIRST_NAME         LAST_NAME  \\\n",
      "0                100          Tuomas        Savolainen   \n",
      "1                101        Chang-ho               Kim   \n",
      "2                102         Jung-ho              Choi   \n",
      "3                103       Kwei-Ping               Kao   \n",
      "4                104       Chin-Tsai              Fang   \n",
      "..               ...             ...               ...   \n",
      "98                96          Bayard             Lopes   \n",
      "99                97          Viviam            Barros   \n",
      "100               98         Eduardo         Guimarães   \n",
      "101               99          Helena          Lindholm   \n",
      "102              999  Nieuw voornaam  Niewe achternaam   \n",
      "\n",
      "                      POSITION_EN           WORK_PHONE EXTENSION  \\\n",
      "0    Level 2 Sales Representative  +358(0)17 - 433 127       825   \n",
      "1    Level 2 Sales Representative        82-2-778-6587      1228   \n",
      "2    Level 3 Sales Representative        82-2-778-6587      2641   \n",
      "3    Level 2 Sales Representative      886-2-2975-1988      1541   \n",
      "4    Level 3 Sales Representative      886-2-2975-1988      2311   \n",
      "..                            ...                  ...       ...   \n",
      "98                 Branch Manager    +55 (11) 344-4444      3490   \n",
      "99   Level 3 Sales Representative    +55 (11) 344-4444      3364   \n",
      "100  Level 2 Sales Representative    +55 (11) 344-4444      1442   \n",
      "101  Level 3 Sales Representative  +358(0)17 - 433 127       489   \n",
      "102               General Manager           0612345678      9876   \n",
      "\n",
      "                     FAX                    EMAIL  DATE_HIRED  \\\n",
      "0    +358(0)17 - 433 129  TSavolainen@grtd123.com   23-7-2014   \n",
      "1          82-2-778-6586         CKim@grtd123.com  15-12-2014   \n",
      "2          82-2-778-6586        JChoi@grtd123.com  27-11-2014   \n",
      "3        886-2-2989-4978        KKwao@grtd123.com   7-10-2014   \n",
      "4        886-2-2989-4978         CFon@grtd123.com    8-5-2012   \n",
      "..                   ...                      ...         ...   \n",
      "98     +55 (11) 333-2223       BLopes@grtd123.com   12-8-2013   \n",
      "99     +55 (11) 333-2223      VBarros@grtd123.com   10-2-2017   \n",
      "100    +55 (11) 333-2223   EGuimaraes@grtd123.com   14-2-2015   \n",
      "101  +358(0)17 - 433 129    HLindholm@grtd123.com   17-8-2013   \n",
      "102    +(44) 181 5030282                      NaN   10-2-2016   \n",
      "\n",
      "    SALES_BRANCH_CODE TRIAL888                     MAIL  \n",
      "0                  31        T                      NaN  \n",
      "1                  32        T                      NaN  \n",
      "2                  32        T                      NaN  \n",
      "3                  33        T                      NaN  \n",
      "4                  33        T                      NaN  \n",
      "..                ...      ...                      ...  \n",
      "98                 30        T                      NaN  \n",
      "99                 30        T                      NaN  \n",
      "100                30        T                      NaN  \n",
      "101                31        T                      NaN  \n",
      "102                39        T  HWilloughby@grtd123.com  \n",
      "\n",
      "[103 rows x 12 columns]\n"
     ]
    }
   ],
   "source": [
    "\n",
    "# print(original_result)\n",
    "DT1 = original_result\n",
    "\n",
    "new_row = {\n",
    "    \"SALES_STAFF_CODE\":[999],\n",
    "    \"FIRST_NAME\":[\"Nieuw voornaam\"],\n",
    "    \"LAST_NAME\":[\"Niewe achternaam\"],\n",
    "    \"POSITION_EN\":[\"General Manager\"], \n",
    "    \"WORK_PHONE\":[\"0612345678\"],\n",
    "    \"EXTENSION\":[\"9876\"],\n",
    "    \"FAX\":[\"+(44) 181 5030282\"], \n",
    "    \"MAIL\":[\"HWilloughby@grtd123.com\"],\n",
    "    \"DATE_HIRED\":[\"10-2-2016\"], \n",
    "    \"SALES_BRANCH_CODE\":[\"39\"], \n",
    "    \"TRIAL888\":[\"T\"]  }\n",
    "new_pd = pd.concat([DT1, pd.DataFrame(new_row)], ignore_index=True)\n",
    "print(new_pd)\n"
   ]
  },
  {
   "cell_type": "markdown",
   "metadata": {},
   "source": [
    "### Kolommen"
   ]
  },
  {
   "cell_type": "markdown",
   "metadata": {},
   "source": [
    "Voeg een kolom *FULL_NAME* toe die de waarden van *FIRST_NAME* en *LAST_NAME* achter elkaar zet, gescheiden door een spatie."
   ]
  },
  {
   "cell_type": "code",
   "execution_count": 55,
   "metadata": {},
   "outputs": [
    {
     "name": "stdout",
     "output_type": "stream",
     "text": [
      "    SALES_STAFF_CODE FIRST_NAME   LAST_NAME                   POSITION_EN  \\\n",
      "0                100     Tuomas  Savolainen  Level 2 Sales Representative   \n",
      "1                101   Chang-ho         Kim  Level 2 Sales Representative   \n",
      "2                102    Jung-ho        Choi  Level 3 Sales Representative   \n",
      "3                103  Kwei-Ping         Kao  Level 2 Sales Representative   \n",
      "4                104  Chin-Tsai        Fang  Level 3 Sales Representative   \n",
      "..               ...        ...         ...                           ...   \n",
      "97                95      Tomás    Iglesias  Level 2 Sales Representative   \n",
      "98                96     Bayard       Lopes                Branch Manager   \n",
      "99                97     Viviam      Barros  Level 3 Sales Representative   \n",
      "100               98    Eduardo   Guimarães  Level 2 Sales Representative   \n",
      "101               99     Helena    Lindholm  Level 3 Sales Representative   \n",
      "\n",
      "              WORK_PHONE EXTENSION                  FAX  \\\n",
      "0    +358(0)17 - 433 127       825  +358(0)17 - 433 129   \n",
      "1          82-2-778-6587      1228        82-2-778-6586   \n",
      "2          82-2-778-6587      2641        82-2-778-6586   \n",
      "3        886-2-2975-1988      1541      886-2-2989-4978   \n",
      "4        886-2-2975-1988      2311      886-2-2989-4978   \n",
      "..                   ...       ...                  ...   \n",
      "97       +35 94 322 3540       325      +35 91 548 1637   \n",
      "98     +55 (11) 344-4444      3490    +55 (11) 333-2223   \n",
      "99     +55 (11) 344-4444      3364    +55 (11) 333-2223   \n",
      "100    +55 (11) 344-4444      1442    +55 (11) 333-2223   \n",
      "101  +358(0)17 - 433 127       489  +358(0)17 - 433 129   \n",
      "\n",
      "                       EMAIL  DATE_HIRED SALES_BRANCH_CODE TRIAL888  \\\n",
      "0    TSavolainen@grtd123.com   23-7-2014                31        T   \n",
      "1           CKim@grtd123.com  15-12-2014                32        T   \n",
      "2          JChoi@grtd123.com  27-11-2014                32        T   \n",
      "3          KKwao@grtd123.com   7-10-2014                33        T   \n",
      "4           CFon@grtd123.com    8-5-2012                33        T   \n",
      "..                       ...         ...               ...      ...   \n",
      "97     TIglesias@grtd123.com   19-2-2014                29        T   \n",
      "98        BLopes@grtd123.com   12-8-2013                30        T   \n",
      "99       VBarros@grtd123.com   10-2-2017                30        T   \n",
      "100   EGuimaraes@grtd123.com   14-2-2015                30        T   \n",
      "101    HLindholm@grtd123.com   17-8-2013                31        T   \n",
      "\n",
      "             FULL_NAME  \n",
      "0    Tuomas Savolainen  \n",
      "1         Chang-ho Kim  \n",
      "2         Jung-ho Choi  \n",
      "3        Kwei-Ping Kao  \n",
      "4       Chin-Tsai Fang  \n",
      "..                 ...  \n",
      "97      Tomás Iglesias  \n",
      "98        Bayard Lopes  \n",
      "99       Viviam Barros  \n",
      "100  Eduardo Guimarães  \n",
      "101    Helena Lindholm  \n",
      "\n",
      "[102 rows x 12 columns]\n"
     ]
    }
   ],
   "source": [
    "joincolumn = original_result\n",
    "joincolumn[\"FULL_NAME\"] = joincolumn[[\"FIRST_NAME\", \"LAST_NAME\"]].agg( \" \".join, axis=1)\n",
    "print(original_result)"
   ]
  },
  {
   "cell_type": "markdown",
   "metadata": {},
   "source": [
    "## Data wijzigen"
   ]
  },
  {
   "cell_type": "markdown",
   "metadata": {},
   "source": [
    "### Datatypen"
   ]
  },
  {
   "cell_type": "markdown",
   "metadata": {},
   "source": [
    "Door het attribuut .dtypes van een DataFrame op te vragen krijg je een serie die per kolom het datatype weergeeft. Doe dit bij de originele databasetabel *sales_staff*"
   ]
  },
  {
   "cell_type": "code",
   "execution_count": 56,
   "metadata": {},
   "outputs": [
    {
     "name": "stdout",
     "output_type": "stream",
     "text": [
      "SALES_STAFF_CODE     object\n",
      "FIRST_NAME           object\n",
      "LAST_NAME            object\n",
      "POSITION_EN          object\n",
      "WORK_PHONE           object\n",
      "EXTENSION            object\n",
      "FAX                  object\n",
      "EMAIL                object\n",
      "DATE_HIRED           object\n",
      "SALES_BRANCH_CODE    object\n",
      "TRIAL888             object\n",
      "FULL_NAME            object\n",
      "dtype: object\n"
     ]
    }
   ],
   "source": [
    "print(original_result.dtypes)"
   ]
  },
  {
   "cell_type": "markdown",
   "metadata": {},
   "source": [
    "Hier valt op dat elke kolom het datatype 'object' heeft: Python leest dus alles als string. Wiskundige operaties zijn hierdoor niet mogelijk.<br>\n",
    "We kunnen proberen om kolommen met getallen, bijvoorbeeld de 'extension', te converteren naar een int. Zie onderstaande code."
   ]
  },
  {
   "cell_type": "code",
   "execution_count": 61,
   "metadata": {},
   "outputs": [
    {
     "ename": "AttributeError",
     "evalue": "'function' object has no attribute 'dtypes'",
     "output_type": "error",
     "traceback": [
      "\u001b[1;31m---------------------------------------------------------------------------\u001b[0m",
      "\u001b[1;31mAttributeError\u001b[0m                            Traceback (most recent call last)",
      "Cell \u001b[1;32mIn[61], line 4\u001b[0m\n\u001b[0;32m      2\u001b[0m \u001b[38;5;66;03m# convertInt['EXTENSION'] = convertInt['EXTENSION'].astype(int)\u001b[39;00m\n\u001b[0;32m      3\u001b[0m convertInt \u001b[38;5;241m=\u001b[39m convertInt\u001b[38;5;241m.\u001b[39mconvert_dtypes\n\u001b[1;32m----> 4\u001b[0m \u001b[38;5;28mprint\u001b[39m(\u001b[43mconvertInt\u001b[49m\u001b[38;5;241;43m.\u001b[39;49m\u001b[43mdtypes\u001b[49m)\n",
      "\u001b[1;31mAttributeError\u001b[0m: 'function' object has no attribute 'dtypes'"
     ]
    }
   ],
   "source": [
    "convertInt = original_result\n",
    "# convertInt['EXTENSION'] = convertInt['EXTENSION'].astype(int)\n",
    "convertInt = convertInt.convert_dtypes\n",
    "print(convertInt.dtypes)"
   ]
  },
  {
   "cell_type": "markdown",
   "metadata": {},
   "source": [
    "Dit lukt echter niet, omdat er in de kolom 'EXTENSION' lege waarden zitten die niet geconverteerd kunnen worden naar een int.<br>\n",
    "Wél kan je deze naar een float converteren, zie onderstaande code:"
   ]
  },
  {
   "cell_type": "code",
   "execution_count": 64,
   "metadata": {},
   "outputs": [
    {
     "data": {
      "text/plain": [
       "SALES_STAFF_CODE      object\n",
       "FIRST_NAME            object\n",
       "LAST_NAME             object\n",
       "POSITION_EN           object\n",
       "WORK_PHONE            object\n",
       "EXTENSION            float64\n",
       "FAX                   object\n",
       "EMAIL                 object\n",
       "DATE_HIRED            object\n",
       "SALES_BRANCH_CODE     object\n",
       "TRIAL888              object\n",
       "dtype: object"
      ]
     },
     "execution_count": 64,
     "metadata": {},
     "output_type": "execute_result"
    }
   ],
   "source": [
    "convertInt = original_result\n",
    "convertInt['EXTENSION'] = convertInt['EXTENSION'].astype(float)\n",
    "convertInt.dtypes"
   ]
  },
  {
   "cell_type": "markdown",
   "metadata": {},
   "source": [
    "Als we in de rij van 'EXTENSION' kijken zien we dat de conversie van het datatype nu is gelukt.<br>\n",
    "Dit is <b>randvoorwaardelijk</b> voor het uitvoeren van wiskundige operaties.<br>"
   ]
  },
  {
   "cell_type": "markdown",
   "metadata": {},
   "source": [
    "### Rijen"
   ]
  },
  {
   "cell_type": "markdown",
   "metadata": {},
   "source": [
    "Zorg er nu voor dat bij alle extensions 1 wordt opgeteld."
   ]
  },
  {
   "cell_type": "code",
   "execution_count": 65,
   "metadata": {},
   "outputs": [
    {
     "name": "stdout",
     "output_type": "stream",
     "text": [
      "    SALES_STAFF_CODE FIRST_NAME   LAST_NAME                   POSITION_EN  \\\n",
      "0                100     Tuomas  Savolainen  Level 2 Sales Representative   \n",
      "1                101   Chang-ho         Kim  Level 2 Sales Representative   \n",
      "2                102    Jung-ho        Choi  Level 3 Sales Representative   \n",
      "3                103  Kwei-Ping         Kao  Level 2 Sales Representative   \n",
      "4                104  Chin-Tsai        Fang  Level 3 Sales Representative   \n",
      "..               ...        ...         ...                           ...   \n",
      "97                95      Tomás    Iglesias  Level 2 Sales Representative   \n",
      "98                96     Bayard       Lopes                Branch Manager   \n",
      "99                97     Viviam      Barros  Level 3 Sales Representative   \n",
      "100               98    Eduardo   Guimarães  Level 2 Sales Representative   \n",
      "101               99     Helena    Lindholm  Level 3 Sales Representative   \n",
      "\n",
      "              WORK_PHONE  EXTENSION                  FAX  \\\n",
      "0    +358(0)17 - 433 127      826.0  +358(0)17 - 433 129   \n",
      "1          82-2-778-6587     1229.0        82-2-778-6586   \n",
      "2          82-2-778-6587     2642.0        82-2-778-6586   \n",
      "3        886-2-2975-1988     1542.0      886-2-2989-4978   \n",
      "4        886-2-2975-1988     2312.0      886-2-2989-4978   \n",
      "..                   ...        ...                  ...   \n",
      "97       +35 94 322 3540      326.0      +35 91 548 1637   \n",
      "98     +55 (11) 344-4444     3491.0    +55 (11) 333-2223   \n",
      "99     +55 (11) 344-4444     3365.0    +55 (11) 333-2223   \n",
      "100    +55 (11) 344-4444     1443.0    +55 (11) 333-2223   \n",
      "101  +358(0)17 - 433 127      490.0  +358(0)17 - 433 129   \n",
      "\n",
      "                       EMAIL  DATE_HIRED SALES_BRANCH_CODE TRIAL888  \n",
      "0    TSavolainen@grtd123.com   23-7-2014                31        T  \n",
      "1           CKim@grtd123.com  15-12-2014                32        T  \n",
      "2          JChoi@grtd123.com  27-11-2014                32        T  \n",
      "3          KKwao@grtd123.com   7-10-2014                33        T  \n",
      "4           CFon@grtd123.com    8-5-2012                33        T  \n",
      "..                       ...         ...               ...      ...  \n",
      "97     TIglesias@grtd123.com   19-2-2014                29        T  \n",
      "98        BLopes@grtd123.com   12-8-2013                30        T  \n",
      "99       VBarros@grtd123.com   10-2-2017                30        T  \n",
      "100   EGuimaraes@grtd123.com   14-2-2015                30        T  \n",
      "101    HLindholm@grtd123.com   17-8-2013                31        T  \n",
      "\n",
      "[102 rows x 11 columns]\n"
     ]
    }
   ],
   "source": [
    "convertInt[\"EXTENSION\"] += 1\n",
    "print(convertInt)"
   ]
  },
  {
   "cell_type": "markdown",
   "metadata": {},
   "source": [
    "Elke 'Branch Manager' wordt nu 'General Manager'. Schrijf code zodat deze wijziging doorgevoerd wordt in het DataFrame."
   ]
  },
  {
   "cell_type": "code",
   "execution_count": 69,
   "metadata": {},
   "outputs": [
    {
     "name": "stdout",
     "output_type": "stream",
     "text": [
      "    SALES_STAFF_CODE FIRST_NAME   LAST_NAME                   POSITION_EN  \\\n",
      "0                100     Tuomas  Savolainen  Level 2 Sales Representative   \n",
      "1                101   Chang-ho         Kim  Level 2 Sales Representative   \n",
      "2                102    Jung-ho        Choi  Level 3 Sales Representative   \n",
      "3                103  Kwei-Ping         Kao  Level 2 Sales Representative   \n",
      "4                104  Chin-Tsai        Fang  Level 3 Sales Representative   \n",
      "..               ...        ...         ...                           ...   \n",
      "97                95      Tomás    Iglesias  Level 2 Sales Representative   \n",
      "98                96     Bayard       Lopes                Branch Manager   \n",
      "99                97     Viviam      Barros  Level 3 Sales Representative   \n",
      "100               98    Eduardo   Guimarães  Level 2 Sales Representative   \n",
      "101               99     Helena    Lindholm  Level 3 Sales Representative   \n",
      "\n",
      "              WORK_PHONE  EXTENSION                  FAX  \\\n",
      "0    +358(0)17 - 433 127      826.0  +358(0)17 - 433 129   \n",
      "1          82-2-778-6587     1229.0        82-2-778-6586   \n",
      "2          82-2-778-6587     2642.0        82-2-778-6586   \n",
      "3        886-2-2975-1988     1542.0      886-2-2989-4978   \n",
      "4        886-2-2975-1988     2312.0      886-2-2989-4978   \n",
      "..                   ...        ...                  ...   \n",
      "97       +35 94 322 3540      326.0      +35 91 548 1637   \n",
      "98     +55 (11) 344-4444     3491.0    +55 (11) 333-2223   \n",
      "99     +55 (11) 344-4444     3365.0    +55 (11) 333-2223   \n",
      "100    +55 (11) 344-4444     1443.0    +55 (11) 333-2223   \n",
      "101  +358(0)17 - 433 127      490.0  +358(0)17 - 433 129   \n",
      "\n",
      "                       EMAIL  DATE_HIRED SALES_BRANCH_CODE TRIAL888  \n",
      "0    TSavolainen@grtd123.com   23-7-2014                31        T  \n",
      "1           CKim@grtd123.com  15-12-2014                32        T  \n",
      "2          JChoi@grtd123.com  27-11-2014                32        T  \n",
      "3          KKwao@grtd123.com   7-10-2014                33        T  \n",
      "4           CFon@grtd123.com    8-5-2012                33        T  \n",
      "..                       ...         ...               ...      ...  \n",
      "97     TIglesias@grtd123.com   19-2-2014                29        T  \n",
      "98        BLopes@grtd123.com   12-8-2013                30        T  \n",
      "99       VBarros@grtd123.com   10-2-2017                30        T  \n",
      "100   EGuimaraes@grtd123.com   14-2-2015                30        T  \n",
      "101    HLindholm@grtd123.com   17-8-2013                31        T  \n",
      "\n",
      "[102 rows x 11 columns]\n"
     ]
    }
   ],
   "source": [
    "convertInt.replace(\"Branch Manager\", \"General Manager\")\n",
    "print(convertInt)"
   ]
  },
  {
   "cell_type": "markdown",
   "metadata": {},
   "source": [
    "### Kolommen"
   ]
  },
  {
   "cell_type": "markdown",
   "metadata": {},
   "source": [
    "Verander de kolomnaam 'POSITION_EN' naar 'POSITION'."
   ]
  },
  {
   "cell_type": "code",
   "execution_count": null,
   "metadata": {},
   "outputs": [],
   "source": []
  },
  {
   "cell_type": "markdown",
   "metadata": {},
   "source": [
    "## Data verwijderen"
   ]
  },
  {
   "cell_type": "markdown",
   "metadata": {},
   "source": [
    "### Rijen"
   ]
  },
  {
   "cell_type": "markdown",
   "metadata": {},
   "source": [
    "De medewerkers op indexen 99, 100 en 101 hebben helaas ontslag genomen.<br>\n",
    "Verwijder de bijbehorende rijen uit het DataFrame. Gebruik slechts één keer de .drop()-methode."
   ]
  },
  {
   "cell_type": "code",
   "execution_count": null,
   "metadata": {},
   "outputs": [],
   "source": []
  },
  {
   "cell_type": "markdown",
   "metadata": {},
   "source": [
    "### Kolommen"
   ]
  },
  {
   "cell_type": "markdown",
   "metadata": {},
   "source": [
    "Faxen zijn inmiddels ouderwets: niemand gebruikt zijn/haar faxnummer nog.<br>\n",
    "Verwijder de bijbehorende kolom uit het DataFrame."
   ]
  },
  {
   "cell_type": "code",
   "execution_count": null,
   "metadata": {},
   "outputs": [],
   "source": []
  }
 ],
 "metadata": {
  "kernelspec": {
   "display_name": "python-in-deds-P4iSP_yI-py3.11",
   "language": "python",
   "name": "python3"
  },
  "language_info": {
   "codemirror_mode": {
    "name": "ipython",
    "version": 3
   },
   "file_extension": ".py",
   "mimetype": "text/x-python",
   "name": "python",
   "nbconvert_exporter": "python",
   "pygments_lexer": "ipython3",
   "version": "3.12.2"
  }
 },
 "nbformat": 4,
 "nbformat_minor": 2
}
