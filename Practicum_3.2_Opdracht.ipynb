{
 "cells": [
  {
   "cell_type": "markdown",
   "metadata": {},
   "source": [
    "# Practicumopdrachten Week 3.2 (Datastructuren)"
   ]
  },
  {
   "cell_type": "markdown",
   "metadata": {},
   "source": [
    "## Opdracht\n",
    "https://www.geeksforgeeks.org/python-data-structures/\n",
    "1. Bestudeer de link hierboven om bekend te raken met de datastructuren van Python\n",
    "2. Kies ten minste drie van de datastructuren van python uit\n",
    "3. Zoek online op per datastructuur die je gekozen hebt hoe deze wordt gebruikt in een bekend algoritme en onderzoek (zoek op) daarvan de complexiteit (big oh). Zorg ervoor dat je de big oh kunt onderbouwen.\n",
    "4. Schrijf een Python programma waarin je de datastructuren gebruikt om data in op te slaan en weer op te halen. Hiervoor mag je een bekend algoritme gebruiken, maar dat hoeft niet.\n",
    "5. Schrijf je bevindingen op in je portfolio. Onderbouw de big oh.\n",
    "\n",
    "Gebruik geen chatgpt. Je mag natuurlijk wel je docent vragen stellen ;)"
   ]
  },
  {
   "cell_type": "markdown",
   "metadata": {},
   "source": [
    "### Big O notation\n",
    "\n",
    "<img src=\"Assets\\Week 3\\Big_O_Notation.png\" width=600 height=600>"
   ]
  },
  {
   "cell_type": "markdown",
   "metadata": {},
   "source": [
    "### Datastructuren\n",
    "\n",
    "1. Linked List"
   ]
  },
  {
   "cell_type": "markdown",
   "metadata": {},
   "source": [
    "#### Linked List\n",
    "\n",
    "Een linked list is een linear datastructuur dat een verzameling van zogenaamde \"nodes\" is, waarbij elke node wijst naar de locatie van de volgende node. Linked Lists worden onder andere gebruikt om stacks en queus te implementeren. \n",
    "\n",
    "##### gebruiksituaties\n",
    "1. Playlists in muziekspelers: Je kan een liedje van het begin of einde van de lijst afspelen, waarna de volgende start.\n",
    "2. Foto's in een computergallerij: de volgende en vorige foto's zijn te zien.\n",
    "3. \"Vorige pagina\" in een browser; je kan wisselen tussen de URLs met de \"volgende\" en \"vorige\" knoppen.\n",
    "\n",
    "##### Big O\n",
    "Vergeleken met een array is een linked list niet een grote, vaste collectie in het geheugen van een computer. Wanneer je een element in een linked list wilt opzoeken moet je de hele lijst aflopen. Als je een element aan het einde van de lijst zou willen toevoegen is de snelheid daarvan proportioneel tot de grootte van de linked lijst, wat resulteert in en Big O notatie van O(n). Deze redenering volgende is het toevoegen van een element aan het begin van de lijst nog sneller; je hoeft immer niet de volledige lijst af te lopen. Omdat deze operatie niet afhankelijk is van de grootte van de lijst heeft *alleen* deze operatie een Big O notatie van O(1).\n",
    "\n",
    "##### Voor- en Nadelen\n",
    "\n",
    "Voordelen : \n",
    "1. Toevoegen en verwijderen van elementen is snel een envoudig\n",
    "2. Vanwege de kettingstructuur van een Linked List is er geen vooraf gestelde of initiele grootte nodig voor de lijst. \n",
    "\n",
    "Nadelen : \n",
    "1. Vergeleken met een Array is er meer geheugen nodig omdat elk element een pointer naar de volgende heeft. \n",
    "2. Zoekoperaties op een Linked List zijn traag omdat je geen toegang hebt tot random access. \n",
    "\n",
    "\n",
    "##### Bronnen\n",
    "1. McKenzie. (2021, December 7). Arrays, linked lists, and big o notation - McKenzie - medium. Medium. https://medium.com/@mckenziefiege/arrays-linked-lists-and-big-o-notation-486727b6259b \n",
    "2. GfG. (2023, December 6). Python Linked List. GeeksforGeeks. https://www.geeksforgeeks.org/python-linked-list/"
   ]
  },
  {
   "cell_type": "code",
   "execution_count": null,
   "metadata": {},
   "outputs": [],
   "source": [
    "class Node:    \n",
    "\tdef __init__(self,value):        \n",
    "\t\tself.value = value        \n",
    "\t\tself.next = None\n",
    "                \n",
    "\tdef get_data(self) :\n",
    "        return self.value\n",
    "\n",
    "\tdef set_data(self, value):\n",
    "        self.value = value\n",
    " \n",
    "    def get_next(self):\n",
    "        return self.next\n",
    " \n",
    "    def set_next(self, next):\n",
    "        self.next = next"
   ]
  }
 ],
 "metadata": {
  "kernelspec": {
   "display_name": ".venv",
   "language": "python",
   "name": "python3"
  },
  "language_info": {
   "name": "python",
   "version": "3.12.2"
  }
 },
 "nbformat": 4,
 "nbformat_minor": 2
}
