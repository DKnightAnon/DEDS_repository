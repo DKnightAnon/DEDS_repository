{
 "cells": [
  {
   "cell_type": "markdown",
   "metadata": {},
   "source": [
    "# Practicumopdrachten Week 3.2 (Datastructuren)"
   ]
  },
  {
   "cell_type": "markdown",
   "metadata": {},
   "source": [
    "## Opdracht\n",
    "https://www.geeksforgeeks.org/python-data-structures/\n",
    "1. Bestudeer de link hierboven om bekend te raken met de datastructuren van Python\n",
    "2. Kies ten minste drie van de datastructuren van python uit\n",
    "3. Zoek online op per datastructuur die je gekozen hebt hoe deze wordt gebruikt in een bekend algoritme en onderzoek (zoek op) daarvan de complexiteit (big oh). Zorg ervoor dat je de big oh kunt onderbouwen.\n",
    "4. Schrijf een Python programma waarin je de datastructuren gebruikt om data in op te slaan en weer op te halen. Hiervoor mag je een bekend algoritme gebruiken, maar dat hoeft niet.\n",
    "5. Schrijf je bevindingen op in je portfolio. Onderbouw de big oh.\n",
    "\n",
    "Gebruik geen chatgpt. Je mag natuurlijk wel je docent vragen stellen ;)"
   ]
  },
  {
   "cell_type": "markdown",
   "metadata": {},
   "source": [
    "### Sorteer algoritmes en imports"
   ]
  },
  {
   "cell_type": "code",
   "execution_count": 32,
   "metadata": {},
   "outputs": [],
   "source": [
    "import warnings\n",
    "import numpy as np\n",
    "import sqlite3\n",
    "import pandas as pd\n",
    "import math\n",
    "import random\n",
    "warnings.simplefilter('ignore')"
   ]
  },
  {
   "cell_type": "code",
   "execution_count": 2,
   "metadata": {},
   "outputs": [],
   "source": [
    "def shellSort(array):\n",
    "    n = len(array)\n",
    "    k = int(math.log2(n))\n",
    "    interval = 2**k -1\n",
    "    while interval > 0:\n",
    "        for i in range(interval, n):\n",
    "            temp = array[i]\n",
    "            j = i\n",
    "            while j >= interval and array[j - interval] > temp:\n",
    "                array[j] = array[j - interval]\n",
    "                j -= interval\n",
    "            array[j] = temp\n",
    "        k -= 1\n",
    "        interval = 2**k -1\n",
    "    return array"
   ]
  },
  {
   "cell_type": "markdown",
   "metadata": {},
   "source": [
    "### Big O notation\n",
    "\n",
    "<img src=\"Assets\\Week 3\\Big_O_Notation.png\" width=600 height=600>"
   ]
  },
  {
   "cell_type": "markdown",
   "metadata": {},
   "source": [
    "### Datastructuren\n",
    "\n",
    "1. Linked List"
   ]
  },
  {
   "cell_type": "markdown",
   "metadata": {},
   "source": [
    "#### Linked List\n",
    "\n",
    "Een linked list is een linear datastructuur dat een verzameling van zogenaamde \"nodes\" is, waarbij elke node wijst naar de locatie van de volgende node. Linked Lists worden onder andere gebruikt om stacks en queus te implementeren. "
   ]
  },
  {
   "cell_type": "markdown",
   "metadata": {},
   "source": [
    "##### gebruiksituaties\n",
    "1. Playlists in muziekspelers: Je kan een liedje van het begin of einde van de lijst afspelen, waarna de volgende start.\n",
    "2. Foto's in een computergallerij: de volgende en vorige foto's zijn te zien.\n",
    "3. \"Vorige pagina\" in een browser; je kan wisselen tussen de URLs met de \"volgende\" en \"vorige\" knoppen."
   ]
  },
  {
   "cell_type": "markdown",
   "metadata": {},
   "source": [
    "##### Big O\n",
    "Vergeleken met een array is een linked list niet een grote, vaste collectie in het geheugen van een computer. Wanneer je een element in een linked list wilt opzoeken moet je de hele lijst aflopen. Als je een element aan het einde van de lijst zou willen toevoegen is de snelheid daarvan proportioneel tot de grootte van de linked lijst, wat resulteert in en Big O notatie van O(n). Deze redenering volgende is het toevoegen van een element aan het begin van de lijst nog sneller; je hoeft immer niet de volledige lijst af te lopen. Omdat deze operatie niet afhankelijk is van de grootte van de lijst heeft *alleen* deze operatie een Big O notatie van O(1)."
   ]
  },
  {
   "cell_type": "markdown",
   "metadata": {},
   "source": [
    "##### Voor- en Nadelen\n",
    "\n",
    "Voordelen : \n",
    "1. Toevoegen en verwijderen van elementen is snel een envoudig\n",
    "2. Vanwege de kettingstructuur van een Linked List is er geen vooraf gestelde of initiele grootte nodig voor de lijst. \n",
    "\n",
    "Nadelen : \n",
    "1. Vergeleken met een Array is er meer geheugen nodig omdat elk element een pointer naar de volgende heeft. \n",
    "2. Zoekoperaties op een Linked List zijn traag omdat je geen toegang hebt tot random access. "
   ]
  },
  {
   "cell_type": "markdown",
   "metadata": {},
   "source": [
    "##### Bronnen\n",
    "1. McKenzie. (2021, December 7). Arrays, linked lists, and big o notation - McKenzie - medium. Medium. https://medium.com/@mckenziefiege/arrays-linked-lists-and-big-o-notation-486727b6259b \n",
    "2. GfG. (2023, December 6). Python Linked List. GeeksforGeeks. https://www.geeksforgeeks.org/python-linked-list/\n",
    "3. Wilkinson, P. (2022, September 30). An introduction to Python linked list and how to create one. Built In. https://builtin.com/data-science/python-linked-list"
   ]
  },
  {
   "cell_type": "markdown",
   "metadata": {},
   "source": [
    "##### Programma"
   ]
  },
  {
   "cell_type": "code",
   "execution_count": 36,
   "metadata": {},
   "outputs": [
    {
     "name": "stdout",
     "output_type": "stream",
     "text": [
      "Array : [951, 701, 930, 786, 807, 668, 395, 229, 115, 697, 689, 717, 431, 781, 74, 981, 453, 81, 90, 186, 98, 774, 99, 502, 106, 705, 946, 151, 587, 100, 37, 780, 46, 569, 795, 686, 800, 554, 190, 7, 401, 819, 351, 450, 393, 11, 758, 148, 474, 155, 358, 743, 308, 641, 955, 854, 85, 855, 269, 542, 977, 487, 485, 149, 500, 429, 950, 44, 711, 473, 516, 476, 600, 904, 280, 691, 744, 547, 252, 386, 483, 170, 39, 967, 290, 824, 590, 88, 191, 285, 205, 948, 804, 462, 652, 460, 934]\n",
      "Waarde 445 is niet gevonden.\n"
     ]
    }
   ],
   "source": [
    "class Node:    \n",
    "    def __init__(self,value):        \n",
    "        self.value = value        \n",
    "        self.next = None\n",
    "                \n",
    "    def get_data(self) :\n",
    "        return self.value\n",
    "\n",
    "    def set_data(self, value): \n",
    "        self.value = value\n",
    "    \n",
    "    def get_next(self):\n",
    "        return self.next\n",
    "    def set_next(self, next):\n",
    "        self.next = next\n",
    "        \n",
    "        \n",
    "class LinkedList:\n",
    "    def __init__(self):\n",
    "        self.head = None\n",
    "        \n",
    "    def push(self, new_key):\n",
    "        new_node = Node(new_key)\n",
    "        new_node.next = self.head\n",
    "        self.head = new_node\n",
    "        \n",
    "    def search(self, key):\n",
    "        temp = self.head\n",
    "        tempArr = []\n",
    "        while (temp):\n",
    "            tempArr.append(temp.value)\n",
    "            temp = temp.next\n",
    "        if key in tempArr:\n",
    "            return True\n",
    "        else: \n",
    "            return False\n",
    "        \n",
    "randomIntArray = []\n",
    "linkedListArray = LinkedList()\n",
    "for i in range(100):\n",
    "    r=random.randint(1,1000)\n",
    "    if r not in randomIntArray:\n",
    "        randomIntArray.append(r)\n",
    "    \n",
    "print(f\"Array : {randomIntArray}\")\n",
    "        \n",
    "for i in randomIntArray:\n",
    "    linkedListArray.push(i)\n",
    "    \n",
    "searchValue = 445\n",
    "if linkedListArray.search(searchValue):\n",
    "    print(f\"Waarde {searchValue} gevonden.\")\n",
    "else :\n",
    "    print(f\"Waarde {searchValue} is niet gevonden.\")    \n",
    "            \n",
    "        \n",
    "        \n"
   ]
  },
  {
   "cell_type": "markdown",
   "metadata": {},
   "source": [
    "#### Binary Tree\n",
    "\n",
    "<img src=\"Assets\\Week 3\\Binary_tree_v2.svg.png\" width=400 height=400> \n",
    "\n",
    "\n",
    "Het bovenste element van de boom is de \"root\". Elementen zonder child-nodes of die onderaan de boom staan zijn \"leafnodes\". Nodes dat boven een andere node staan zijn \"Parent nodes\", en nodes die ergens onder staan zijn \"Child nodes\" Een Binary Tree Node bestaat uit de volgende componenten : \n",
    "\n",
    "1. Data (Informatie dat daadwerkelijk in de Node wordt opgeslagen)\n",
    "2. Pointer naar linker Child node\n",
    "3. Pointer naar rechter Child node \n",
    "\n",
    "Bij het beschrijven van de inhoud van een Binary Tree zijn de termen Size(grootte) en Depth(diepte) belangrijk. Size slaat op het aantal Nodes in de Tree. Depth is hoeveel lagen er zijn in de hierarchie. Om het plaatje hierboven als een voorbeeld te nemen: Er zijn 15 elementen, dus het heeft een Size voor 15. Er zijn 3 lagen, dus het heeft een Depth van 3. \n",
    "\n",
    "Bij het opstellen van een Binary Tree is het belangrijk om te onthouden dat de parent een grotere waarde moet hebben dan de linker child node maar groter dan de rechter child node. Dus :   Child1 (waarde 2) < Parent (waarde 4) < Child2 (waarde 6)"
   ]
  },
  {
   "cell_type": "markdown",
   "metadata": {},
   "source": [
    "##### Gebruiksituaties\n",
    "\n",
    "Binary wordt gebruikt voor verschillende doeleinden, waaronder : Zoek algoritmes, sorteer algoritmes, database systemen, bestandsystemen, compressie algoritmes, beslissingsbomen en (specifiek) Game AI. \n",
    "\n",
    "Binary Trees worden ook gebruikt om Binary Search mogelijk te maken. Van Binary Search is de Big O notatie O(n). "
   ]
  },
  {
   "cell_type": "markdown",
   "metadata": {},
   "source": [
    "##### Big O\n",
    "\n",
    "Voor Binary Trees duren operaties gemiddeld O(log *n*). In het slechtste geval duurt het O(n). Binary Tree is dus een efficient data structuur. "
   ]
  },
  {
   "cell_type": "markdown",
   "metadata": {},
   "source": [
    "##### Voor- en Nadelen\n",
    "\n",
    "Voordelen\n",
    "1. Efficient elementen opzoeken\n",
    "2. Geheugen-efficient\n",
    "3. Snelle toevoegingen en verwijdering van data\n",
    "4. Simpel te implementeren\n",
    "5. Handig voor sorteren\n",
    "\n",
    "Nadelen\n",
    "1. Traag in worst-case scenarios\n",
    "2. Structuur van Tree limiteert toepassingen\n",
    "3. Inefficiente zoekoperaties door ongebalanceerde Tree"
   ]
  },
  {
   "cell_type": "markdown",
   "metadata": {},
   "source": [
    "##### Bronnen\n",
    "1. GfG. (2024, February 22). Binary Tree Data structure. GeeksforGeeks. https://www.geeksforgeeks.org/binary-tree-data-structure/\n",
    "2. Do binary trees serve a specific purpose in storing hierarchical data? What is their canonical use? (n.d.). Software Engineering Stack Exchange. https://softwareengineering.stackexchange.com/questions/288231/do-binary-trees-serve-a-specific-purpose-in-storing-hierarchical-data-what-is-t\n",
    "3. GfG. (2023, April 5). Sorted array to balanced BST. GeeksforGeeks. https://www.geeksforgeeks.org/sorted-array-to-balanced-bst/"
   ]
  },
  {
   "cell_type": "code",
   "execution_count": 31,
   "metadata": {},
   "outputs": [
    {
     "name": "stdout",
     "output_type": "stream",
     "text": [
      "Initial array : [9 9 0 8 9 5 5 9 4 6 0 3 4 6 2 9 8 4 7 5]\n",
      "\n",
      "Sorted array : [0 0 2 3 4 4 4 5 5 5 6 6 7 8 8 9 9 9 9 9]\n",
      "Sorted array : [0 0 2 3 4 4 4 5 5 5]\n",
      "Sorted array : [0 0 2 3 4]\n",
      "Sorted array : [3 4]\n",
      "Sorted array : [3]\n",
      "Sorted array : [4 5 5 5]\n",
      "Sorted array : [4 5]\n",
      "Sorted array : [4]\n",
      "Sorted array : [5]\n",
      "Sorted array : [6 7 8 8 9 9 9 9 9]\n",
      "Sorted array : [6 7 8 8]\n",
      "Sorted array : [6 7]\n",
      "Sorted array : [6]\n",
      "Sorted array : [8]\n",
      "Sorted array : [9 9 9 9]\n",
      "Sorted array : [9 9]\n",
      "Sorted array : [9]\n",
      "Sorted array : [9]\n",
      "\n",
      "waarde   6  gevonden.\n",
      "\n"
     ]
    }
   ],
   "source": [
    "class binaryNode:\n",
    "    def __init__(self,key):\n",
    "        self.left = None\n",
    "        self.right = None\n",
    "        self.val = key\n",
    "        \n",
    "        \n",
    "# deze functie maakt gebruik van recursiviteit om te sorteren. \n",
    "def binaryTreeSortConvert(array) : \n",
    "    \n",
    "    if not array.any(): \n",
    "        return None\n",
    "    \n",
    "    sortedArray = shellSort(array)\n",
    "    print (f\"Sorted array : {sortedArray}\")\n",
    "    \n",
    "    \n",
    "    #take length, divide by 2(rounded down)\n",
    "    midPoint = (len(sortedArray))//2\n",
    "    #rootNode moet het middelste getal in een array zijn. Zie uitleg in markdown hierboven.\n",
    "    rootNode = binaryNode(sortedArray[midPoint])\n",
    "    # de [:midpoint] zorgt ervoor dat alleen waardes voor deze waarde uit het array worden gepakt.\n",
    "    rootNode.left = binaryTreeSortConvert(sortedArray[:midPoint])\n",
    "    # de [midpoint+1:] zorgt ervoor dat alleen waardes na deze waarde uit het array worden gepakt.\n",
    "    rootNode.right = binaryTreeSortConvert(sortedArray[midPoint+1:])\n",
    "    \n",
    "    #geeft array terug als een binaryNode object met genestte objecten.\n",
    "    return rootNode\n",
    "\n",
    "def binarySearch(rootNode, keyValue):\n",
    "    \n",
    "    #als rootNode waarde gelijk is aan keyValue is het gewenste nummer gevonden\n",
    "    if rootNode is None or rootNode.val == keyValue:\n",
    "        return rootNode\n",
    "    \n",
    "    #node.val is kleiner dan keyValue, kijk in rechter Child node voor waarde groter dan Node.val\n",
    "    if rootNode.value < keyValue:\n",
    "        return binarySearch(rootNode.right, keyValue)\n",
    "    \n",
    "    #node.val is groter dan keyValue, kijk in linker Child node voor waarde kleiner dan Node.val\n",
    "    if rootNode.value > keyValue(rootNode.left, keyValue):\n",
    "        return binarySearch(rootNode.left, keyValue)\n",
    "    \n",
    "\n",
    "binaryArray = np.array([9, 9, 0, 8, 9, 5, 5, 9, 4, 6, 0, 3, 4, 6, 2, 9, 8, 4, 7, 5])\n",
    "print(f\"Initial array : {binaryArray}\")\n",
    "print()\n",
    "binaryNodeRoot = binaryTreeSortConvert(binaryArray)\n",
    "print()\n",
    "#zoek voor waarde 6\n",
    "print(f\"waarde   {binarySearch(binaryNodeRoot, 6).val}  gevonden.\") \n",
    "print()\n",
    "\n",
    "\n",
    "### DIT WERKT NOG NIET\n",
    "#zoek voor niet bestaande waarde 1\n",
    "# if binarySearch(binaryNodeRoot, 1) is None:\n",
    "#     print(\"Gewenste waarde niet gevonden.\")\n",
    "                \n",
    "            "
   ]
  },
  {
   "cell_type": "markdown",
   "metadata": {},
   "source": [
    "#### Graphs\n",
    "\n",
    "<img src=\"Assets\\Week 3\\undirectedgraph.png\" width=400 height=300>\n",
    "\n",
    "\n",
    "Graphs zijn non-lineaire datastructuren opgebouwd uit Nodes(edges/vertices) en Edges(lines/arcs), vaak gedefinieerd op de volgende manier: G={N,E}. De twee meest voorkomende soorten graphs zijn Directen en Undirected graphs."
   ]
  },
  {
   "cell_type": "markdown",
   "metadata": {},
   "source": [
    "##### Gebruiksituaties\n",
    "\n",
    "Graps worden veelal gebruikt om problemen in de echte wereld te modelleren, zoals sociale, transportatie en communicatie netwerken. "
   ]
  },
  {
   "cell_type": "markdown",
   "metadata": {},
   "source": [
    "##### Big O"
   ]
  },
  {
   "cell_type": "markdown",
   "metadata": {},
   "source": [
    "##### Voor- en Nadelen"
   ]
  },
  {
   "cell_type": "markdown",
   "metadata": {},
   "source": [
    "##### Bronnen\n",
    "1. GfG. (2023, April 17). Applications, Advantages and Disadvantages of Graph. GeeksforGeeks. https://www.geeksforgeeks.org/applications-advantages-and-disadvantages-of-graph/"
   ]
  }
 ],
 "metadata": {
  "kernelspec": {
   "display_name": ".venv",
   "language": "python",
   "name": "python3"
  },
  "language_info": {
   "codemirror_mode": {
    "name": "ipython",
    "version": 3
   },
   "file_extension": ".py",
   "mimetype": "text/x-python",
   "name": "python",
   "nbconvert_exporter": "python",
   "pygments_lexer": "ipython3",
   "version": "3.12.2"
  }
 },
 "nbformat": 4,
 "nbformat_minor": 2
}
