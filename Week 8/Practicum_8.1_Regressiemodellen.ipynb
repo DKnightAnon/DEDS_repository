{
 "cells": [
  {
   "cell_type": "markdown",
   "metadata": {},
   "source": [
    "# PR_8.1 Regressiemodellen in Machine Learning"
   ]
  },
  {
   "cell_type": "markdown",
   "metadata": {},
   "source": [
    "## Opdracht\n",
    "\n",
    "Great Outdoors wil graag weten hoeveel zij gaat verkopen (afhankelijke variabele) in het volgende jaar.\n",
    "- Bedenk met welke onafhankelijke variabelen dit naar verwachting het beste voorspeld kan worden en zet deze samen met de afhankelijke variabele in één DataFrame.\n",
    "- Pas waar nodig Dummy Encoding toe.\n",
    "- Snijd dit DataFrame horizontaal en verticaal op de juiste manier.\n",
    "- Train het regressiemodel.\n",
    "- Evalueer de performance van je getrainde regressiemodel.\n",
    "\n",
    "![Splitsprocess Train- en Testdata sets](../Assets/Week%208/Splitsprocess.jpg) "
   ]
  },
  {
   "cell_type": "markdown",
   "metadata": {},
   "source": [
    "### Onafhankelijke variabelen\n",
    "\n",
    "1. Order_Date in Order_Header\n",
    "2. Order_Number in order_Header\n",
    "\n",
    "### Afhankelijke variabele \n",
    "1. Quantity"
   ]
  },
  {
   "cell_type": "markdown",
   "metadata": {},
   "source": [
    "## Implementatie"
   ]
  },
  {
   "cell_type": "markdown",
   "metadata": {},
   "source": [
    "### Library Imports"
   ]
  },
  {
   "cell_type": "code",
   "execution_count": 3,
   "metadata": {},
   "outputs": [],
   "source": [
    "import pandas as pd\n",
    "import random\n",
    "import matplotlib.pyplot as plt\n",
    "\n",
    "from sklearn.model_selection import train_test_split\n",
    "from sklearn import linear_model\n",
    "from sklearn.linear_model import LinearRegression\n",
    "from sklearn.metrics import mean_squared_error, mean_absolute_error\n",
    "\n",
    "import numpy\n",
    "import sqlite3\n",
    "import csv\n"
   ]
  },
  {
   "cell_type": "markdown",
   "metadata": {},
   "source": [
    "### Data import en samenvoeging"
   ]
  },
  {
   "cell_type": "code",
   "execution_count": 4,
   "metadata": {},
   "outputs": [
    {
     "name": "stdout",
     "output_type": "stream",
     "text": [
      "Connected to go_sales sqlite.\n",
      "Connected to go_crm sqlite.\n",
      "Connected to go_staff sqlite.\n",
      "Connected to GO_SALES_PRODUCT_FORECASTData\n",
      "Connected to GO_SALES_INVENTORY_LEVELSData.csv\n"
     ]
    }
   ],
   "source": [
    "sales_con = None\n",
    "crm_con = None\n",
    "staff_con = None\n",
    "GO_SALES_PRODUCT_FORECASTData = None\n",
    "GO_SALES_INVENTORY_LEVELSData = None\n",
    "\n",
    "try : \n",
    "\n",
    "        sales_con = sqlite3.connect(\"../Assets/Week 2/go_sales.sqlite\")\n",
    "        print(\"Connected to go_sales sqlite.\")\n",
    "\n",
    "   \n",
    "        crm_con = sqlite3.connect(\"../Assets/Week 2/go_crm.sqlite\")\n",
    "        print(\"Connected to go_crm sqlite.\")\n",
    "\n",
    "  \n",
    "        staff_con = sqlite3.connect(\"../Assets/Week 2/go_staff.sqlite\")\n",
    "        print(\"Connected to go_staff sqlite.\")\n",
    "        \n",
    "        GO_SALES_PRODUCT_FORECASTData = pd.read_csv(\"../Assets/Week 2/GO_SALES_PRODUCT_FORECASTData.csv\")\n",
    "        print(\"Connected to GO_SALES_PRODUCT_FORECASTData\")\n",
    "        \n",
    "        GO_SALES_INVENTORY_LEVELSData = pd.read_csv(\"../Assets/Week 2/GO_SALES_INVENTORY_LEVELSData.csv\", header=0, index_col=False)\n",
    "        print(\"Connected to GO_SALES_INVENTORY_LEVELSData.csv\")\n",
    "\n",
    "\n",
    "except sqlite3.Error as error: \n",
    "        print(\"Failed to read data from sqlite table\", error)"
   ]
  },
  {
   "cell_type": "code",
   "execution_count": 5,
   "metadata": {},
   "outputs": [],
   "source": [
    "global product\n",
    "product = pd.read_sql_query(\"SELECT * FROM {}\".format(\"product\"),sales_con)\n",
    "product = product[product.columns.drop(list(product.filter(regex=\"TRIAL\")))]\n",
    "\n",
    "global product_type\n",
    "product_type = pd.read_sql_query(\"SELECT * FROM {}\".format(\"product_type\"),sales_con)\n",
    "product_type = product_type[product_type.columns.drop(list(product_type.filter(regex=\"TRIAL\")))]\n",
    "\n",
    "global product_line\n",
    "product_line = pd.read_sql_query(\"SELECT * FROM {}\".format(\"product_line\"),sales_con)\n",
    "product_line = product_line[product_line.columns.drop(list(product_line.filter(regex=\"TRIAL\")))]\n",
    "\n",
    "global order_header\n",
    "order_header = pd.read_sql_query(\"SELECT * FROM {}\".format(\"order_header\"),sales_con)\n",
    "order_header = order_header[order_header.columns.drop(list(order_header.filter(regex=\"TRIAL\")))]\n",
    "\n",
    "global order_details\n",
    "order_details = pd.read_sql_query(\"SELECT * FROM {}\".format(\"order_details\"),sales_con)\n",
    "order_details = order_details[order_details.columns.drop(list(order_details.filter(regex=\"TRIAL\")))]"
   ]
  },
  {
   "cell_type": "code",
   "execution_count": 32,
   "metadata": {},
   "outputs": [
    {
     "data": {
      "text/html": [
       "<div>\n",
       "<style scoped>\n",
       "    .dataframe tbody tr th:only-of-type {\n",
       "        vertical-align: middle;\n",
       "    }\n",
       "\n",
       "    .dataframe tbody tr th {\n",
       "        vertical-align: top;\n",
       "    }\n",
       "\n",
       "    .dataframe thead th {\n",
       "        text-align: right;\n",
       "    }\n",
       "</style>\n",
       "<table border=\"1\" class=\"dataframe\">\n",
       "  <thead>\n",
       "    <tr style=\"text-align: right;\">\n",
       "      <th></th>\n",
       "      <th></th>\n",
       "      <th></th>\n",
       "      <th>QUANTITY</th>\n",
       "    </tr>\n",
       "    <tr>\n",
       "      <th>PRODUCT_NUMBER</th>\n",
       "      <th>YEAR</th>\n",
       "      <th>MONTH</th>\n",
       "      <th></th>\n",
       "    </tr>\n",
       "  </thead>\n",
       "  <tbody>\n",
       "    <tr>\n",
       "      <th rowspan=\"5\" valign=\"top\">1</th>\n",
       "      <th rowspan=\"5\" valign=\"top\">2020</th>\n",
       "      <th>1</th>\n",
       "      <td>594</td>\n",
       "    </tr>\n",
       "    <tr>\n",
       "      <th>2</th>\n",
       "      <td>344</td>\n",
       "    </tr>\n",
       "    <tr>\n",
       "      <th>3</th>\n",
       "      <td>898</td>\n",
       "    </tr>\n",
       "    <tr>\n",
       "      <th>4</th>\n",
       "      <td>1328</td>\n",
       "    </tr>\n",
       "    <tr>\n",
       "      <th>5</th>\n",
       "      <td>640</td>\n",
       "    </tr>\n",
       "    <tr>\n",
       "      <th>...</th>\n",
       "      <th>...</th>\n",
       "      <th>...</th>\n",
       "      <td>...</td>\n",
       "    </tr>\n",
       "    <tr>\n",
       "      <th rowspan=\"5\" valign=\"top\">115</th>\n",
       "      <th rowspan=\"5\" valign=\"top\">2022</th>\n",
       "      <th>8</th>\n",
       "      <td>304</td>\n",
       "    </tr>\n",
       "    <tr>\n",
       "      <th>9</th>\n",
       "      <td>1020</td>\n",
       "    </tr>\n",
       "    <tr>\n",
       "      <th>10</th>\n",
       "      <td>1146</td>\n",
       "    </tr>\n",
       "    <tr>\n",
       "      <th>11</th>\n",
       "      <td>380</td>\n",
       "    </tr>\n",
       "    <tr>\n",
       "      <th>12</th>\n",
       "      <td>798</td>\n",
       "    </tr>\n",
       "  </tbody>\n",
       "</table>\n",
       "<p>3870 rows × 1 columns</p>\n",
       "</div>"
      ],
      "text/plain": [
       "                           QUANTITY\n",
       "PRODUCT_NUMBER YEAR MONTH          \n",
       "1              2020 1           594\n",
       "                    2           344\n",
       "                    3           898\n",
       "                    4          1328\n",
       "                    5           640\n",
       "...                             ...\n",
       "115            2022 8           304\n",
       "                    9          1020\n",
       "                    10         1146\n",
       "                    11          380\n",
       "                    12          798\n",
       "\n",
       "[3870 rows x 1 columns]"
      ]
     },
     "execution_count": 32,
     "metadata": {},
     "output_type": "execute_result"
    }
   ],
   "source": [
    "dataset = pd.merge(order_header, order_details, left_on=\"ORDER_NUMBER\", how=\"inner\", right_on=\"ORDER_NUMBER\")\n",
    "dataset = dataset.convert_dtypes()\n",
    "dataset[\"PRODUCT_NUMBER\"] = dataset[\"PRODUCT_NUMBER\"].astype(int)\n",
    "dataset = dataset.loc[:,[\"ORDER_DATE\",\"PRODUCT_NUMBER\",\"QUANTITY\"]]\n",
    "dataset[\"YEAR\"] = pd.DatetimeIndex(dataset[\"ORDER_DATE\"]).year\n",
    "dataset[\"MONTH\"] = pd.DatetimeIndex(dataset[\"ORDER_DATE\"]).month\n",
    "dataset = dataset.drop([\"ORDER_DATE\"], axis=1)\n",
    "\n",
    "dataset = dataset.groupby([\"PRODUCT_NUMBER\",\"YEAR\",\"MONTH\"]).sum()\n",
    "\n",
    "\n",
    "dataset\n"
   ]
  },
  {
   "cell_type": "markdown",
   "metadata": {},
   "source": [
    "### One-hot encoding van onafhankelijke niet-numerieke variabelen"
   ]
  },
  {
   "cell_type": "code",
   "execution_count": 7,
   "metadata": {},
   "outputs": [],
   "source": [
    "# pd.get_dummies(DATAFRAME.loc[:, [KOLOMMEN]])"
   ]
  },
  {
   "cell_type": "markdown",
   "metadata": {},
   "source": [
    "### Verticaal en horizontaal snijden"
   ]
  },
  {
   "cell_type": "code",
   "execution_count": 8,
   "metadata": {},
   "outputs": [],
   "source": [
    "# X_dataset = drop afhankelijk\n",
    "# Y_dataset = selecter afhankelijk"
   ]
  }
 ],
 "metadata": {
  "kernelspec": {
   "display_name": ".venv",
   "language": "python",
   "name": "python3"
  },
  "language_info": {
   "codemirror_mode": {
    "name": "ipython",
    "version": 3
   },
   "file_extension": ".py",
   "mimetype": "text/x-python",
   "name": "python",
   "nbconvert_exporter": "python",
   "pygments_lexer": "ipython3",
   "version": "3.12.2"
  }
 },
 "nbformat": 4,
 "nbformat_minor": 2
}
