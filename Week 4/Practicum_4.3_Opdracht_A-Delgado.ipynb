{
 "cells": [
  {
   "cell_type": "markdown",
   "metadata": {},
   "source": [
    "# Practicumopdracht 3 Week 4"
   ]
  },
  {
   "cell_type": "markdown",
   "metadata": {},
   "source": [
    "## Imports"
   ]
  },
  {
   "cell_type": "code",
   "execution_count": 19,
   "metadata": {},
   "outputs": [],
   "source": [
    "import pandas as pd\n",
    "import pyodbc\n",
    "import numpy\n",
    "import sqlite3\n",
    "from decimal import Decimal"
   ]
  },
  {
   "cell_type": "markdown",
   "metadata": {},
   "source": [
    "## Database Connectie SQL Server"
   ]
  },
  {
   "cell_type": "code",
   "execution_count": 20,
   "metadata": {},
   "outputs": [
    {
     "data": {
      "text/plain": [
       "<pyodbc.Cursor at 0x19dfc46ccb0>"
      ]
     },
     "execution_count": 20,
     "metadata": {},
     "output_type": "execute_result"
    }
   ],
   "source": [
    "laptop = 'KNIGHTANON-LAPT\\\\SQLEXPRESS'\n",
    "local = '(localdb)\\\\MSSQLLocalDB'\n",
    "local2 = 'localhost'\n",
    "desktop = 'KNIGHTANON-DESK\\\\SQLEXPRESS'\n",
    "database = 'GreatOutdoorsDW'\n",
    "\n",
    "DB = {\n",
    "    'servername': desktop,\n",
    "    'database' : database\n",
    "}\n",
    "\n",
    "export_conn = pyodbc.connect('DRIVER={SQL Server};' +\n",
    "                             'SERVER='+ DB['servername'] + ';'\n",
    "                            #  'DATABASE='+DB['database'] +';'\n",
    "                             +'Trusted_Connection=yes'\n",
    "                            #  +'integrated security = true' \n",
    "                             )\n",
    "export_cursor = export_conn.cursor()\n",
    "export_cursor.execute(\"CREATE DATABASE GreatOutdoorsDW\")\n",
    "export_cursor.execute(\"USE GreatOutdoorsDW\")\n",
    "\n",
    "export_cursor"
   ]
  },
  {
   "cell_type": "markdown",
   "metadata": {},
   "source": [
    "## Database Connectie Brontabellen"
   ]
  },
  {
   "cell_type": "code",
   "execution_count": 21,
   "metadata": {},
   "outputs": [
    {
     "name": "stdout",
     "output_type": "stream",
     "text": [
      "Connected to go_sales sqlite.\n",
      "Connected to go_crm sqlite.\n",
      "Connected to go_staff sqlite.\n"
     ]
    }
   ],
   "source": [
    "sales_con = None\n",
    "crm_con = None\n",
    "staff_con = None\n",
    "\n",
    "def dataframe() : \n",
    "    try : \n",
    "        global sales_con \n",
    "        sales_con = sqlite3.connect(\"../Assets/Week 2/go_sales.sqlite\")\n",
    "        print(\"Connected to go_sales sqlite.\")\n",
    "\n",
    "        global crm_con \n",
    "        crm_con = sqlite3.connect(\"../Assets/Week 2/go_crm.sqlite\")\n",
    "        print(\"Connected to go_crm sqlite.\")\n",
    "\n",
    "        global staff_con \n",
    "        staff_con = sqlite3.connect(\"../Assets/Week 2/go_staff.sqlite\")\n",
    "        print(\"Connected to go_staff sqlite.\")\n",
    "\n",
    "\n",
    "    except sqlite3.Error as error: \n",
    "        print(\"Failed to read data from sqlite table\", error)\n",
    "\n",
    "dataframe()"
   ]
  },
  {
   "cell_type": "markdown",
   "metadata": {},
   "source": [
    "### Tabellen inlezen"
   ]
  },
  {
   "cell_type": "markdown",
   "metadata": {},
   "source": [
    "#### GO_CRM"
   ]
  },
  {
   "cell_type": "code",
   "execution_count": 22,
   "metadata": {},
   "outputs": [],
   "source": [
    "# go_crm\n",
    "\n",
    "global go_crm_age_group\n",
    "go_crm_age_group = pd.read_sql_query(\"SELECT * FROM {}\".format(\"age_group\"),crm_con)\n",
    "\n",
    "global go_crm_country\n",
    "go_crm_country = pd.read_sql_query(\"SELECT * FROM {}\".format(\"country\"),crm_con)\n",
    "\n",
    "global go_crm_retailer\n",
    "go_crm_retailer = pd.read_sql_query(\"SELECT * FROM {}\".format(\"retailer\"),crm_con)\n",
    "\n",
    "global go_crm_retailer_contact\n",
    "go_crm_retailer_contact = pd.read_sql_query(\"SELECT * FROM {}\".format(\"retailer_contact\"),crm_con)\n",
    "\n",
    "global go_crm_retailer_headquarters\n",
    "go_crm_retailer_headquarters = pd.read_sql_query(\"SELECT * FROM {}\".format(\"retailer_headquarters\"),crm_con)\n",
    "\n",
    "global go_crm_retailer_segment\n",
    "go_crm_retailer_segment = pd.read_sql_query(\"SELECT * FROM {}\".format(\"retailer_segment\"),crm_con)\n",
    "\n",
    "global go_crm_retailer_site\n",
    "go_crm_retailer_site = pd.read_sql_query(\"SELECT * FROM {}\".format(\"retailer_site\"),crm_con)\n",
    "\n",
    "global go_crm_retailer_type\n",
    "go_crm_retailer_type = pd.read_sql_query(\"SELECT * FROM {}\".format(\"retailer_type\"),crm_con)\n",
    "\n",
    "global go_crm_sales_demographic\n",
    "go_crm_sales_demographic = pd.read_sql_query(\"SELECT * FROM {}\".format(\"sales_demographic\"),crm_con)\n",
    "\n",
    "global go_crm_sales_territory\n",
    "go_crm_sales_territory = pd.read_sql_query(\"SELECT * FROM {}\".format(\"sales_territory\"),crm_con)"
   ]
  },
  {
   "cell_type": "markdown",
   "metadata": {},
   "source": [
    "#### GO_STAFF"
   ]
  },
  {
   "cell_type": "code",
   "execution_count": 23,
   "metadata": {},
   "outputs": [],
   "source": [
    "# go_staff\n",
    "\n",
    "global go_staff_course \n",
    "go_staff_course = pd.read_sql_query(\"SELECT * FROM {}\".format(\"course\"),staff_con)\n",
    "\n",
    "global go_staff_sales_branch \n",
    "go_staff_sales_branch = pd.read_sql_query(\"SELECT * FROM {}\".format(\"sales_branch\"),staff_con)\n",
    "\n",
    "global go_staff_staff\n",
    "go_staff_staff = pd.read_sql_query(\"SELECT * FROM {}\".format(\"sales_staff\"),staff_con)\n",
    "\n",
    "global go_staff_satisfaction\n",
    "go_staff_satisfaction = pd.read_sql_query(\"SELECT * FROM {}\".format(\"satisfaction\"),staff_con)\n",
    "\n",
    "global go_staff_satisfaction_type\n",
    "go_staff_satisfaction_type = pd.read_sql_query(\"SELECT * FROM {}\".format(\"satisfaction_type\"),staff_con)"
   ]
  },
  {
   "cell_type": "markdown",
   "metadata": {},
   "source": [
    "#### GO_SALES"
   ]
  },
  {
   "cell_type": "code",
   "execution_count": 24,
   "metadata": {},
   "outputs": [],
   "source": [
    "#go_sales\n",
    "global product\n",
    "product = pd.read_sql_query(\"SELECT * FROM {}\".format(\"product\"),sales_con)\n",
    "\n",
    "global product_type\n",
    "product_type = pd.read_sql_query(\"SELECT * FROM {}\".format(\"product_type\"),sales_con)\n",
    "\n",
    "global product_line\n",
    "product_line = pd.read_sql_query(\"SELECT * FROM {}\".format(\"product_line\"),sales_con)\n",
    "\n",
    "global sales_staff\n",
    "sales_staff = pd.read_sql_query(\"SELECT * FROM {}\".format(\"sales_staff\"),sales_con)\n",
    "\n",
    "global sales_branch\n",
    "sales_branch = pd.read_sql_query(\"SELECT * FROM {}\".format(\"sales_branch\"),sales_con)\n",
    "\n",
    "global retailer_site\n",
    "retailer_site = pd.read_sql_query(\"SELECT * FROM {}\".format(\"retailer_site\"),sales_con)\n",
    "\n",
    "global country\n",
    "country = pd.read_sql_query(\"SELECT * FROM {}\".format(\"country\"),sales_con)\n",
    "\n",
    "global order_header\n",
    "order_header = pd.read_sql_query(\"SELECT * FROM {}\".format(\"order_header\"),sales_con)\n",
    "\n",
    "global order_details\n",
    "order_details = pd.read_sql_query(\"SELECT * FROM {}\".format(\"order_details\"),sales_con)\n",
    "\n",
    "global target\n",
    "target = pd.read_sql_query(\"SELECT * FROM {}\".format(\"sales_targetdata\"),sales_con)\n",
    "\n",
    "global returned_item\n",
    "returned_item = pd.read_sql_query(\"SELECT * FROM {}\".format(\"returned_item\"),sales_con)\n",
    "\n",
    "global return_reason\n",
    "return_reason = pd.read_sql_query(\"SELECT * FROM {}\".format(\"return_reason\"),sales_con)"
   ]
  },
  {
   "cell_type": "markdown",
   "metadata": {},
   "source": [
    "### Tabeltypes converteren"
   ]
  },
  {
   "cell_type": "code",
   "execution_count": 28,
   "metadata": {},
   "outputs": [
    {
     "name": "stdout",
     "output_type": "stream",
     "text": [
      "PRODUCT_NUMBER        object\n",
      "INTRODUCTION_DATE     object\n",
      "PRODUCT_TYPE_CODE     object\n",
      "PRODUCTION_COST      float64\n",
      "MARGIN               float64\n",
      "PRODUCT_IMAGE         object\n",
      "LANGUAGE              object\n",
      "PRODUCT_NAME          object\n",
      "DESCRIPTION           object\n",
      "TRIAL888              object\n",
      "dtype: object\n"
     ]
    }
   ],
   "source": [
    "\n"
   ]
  },
  {
   "cell_type": "code",
   "execution_count": null,
   "metadata": {},
   "outputs": [],
   "source": []
  },
  {
   "cell_type": "markdown",
   "metadata": {},
   "source": [
    "## Data samenvoegen"
   ]
  }
 ],
 "metadata": {
  "kernelspec": {
   "display_name": ".venv",
   "language": "python",
   "name": "python3"
  },
  "language_info": {
   "codemirror_mode": {
    "name": "ipython",
    "version": 3
   },
   "file_extension": ".py",
   "mimetype": "text/x-python",
   "name": "python",
   "nbconvert_exporter": "python",
   "pygments_lexer": "ipython3",
   "version": "3.12.2"
  }
 },
 "nbformat": 4,
 "nbformat_minor": 2
}
