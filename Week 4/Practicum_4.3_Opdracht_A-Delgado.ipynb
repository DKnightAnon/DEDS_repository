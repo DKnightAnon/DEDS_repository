{
 "cells": [
  {
   "cell_type": "markdown",
   "metadata": {},
   "source": [
    "# Practicumopdracht 3 Week 4"
   ]
  },
  {
   "cell_type": "markdown",
   "metadata": {},
   "source": [
    "## Imports"
   ]
  },
  {
   "cell_type": "code",
   "execution_count": 3,
   "metadata": {},
   "outputs": [],
   "source": [
    "import pandas as pd\n",
    "import pyodbc\n",
    "import numpy\n",
    "import sqlite3\n",
    "from decimal import Decimal"
   ]
  },
  {
   "cell_type": "markdown",
   "metadata": {},
   "source": [
    "## Database Connectie SQL Server"
   ]
  },
  {
   "cell_type": "code",
   "execution_count": 4,
   "metadata": {},
   "outputs": [
    {
     "data": {
      "text/plain": [
       "<pyodbc.Cursor at 0x151f1a64830>"
      ]
     },
     "execution_count": 4,
     "metadata": {},
     "output_type": "execute_result"
    }
   ],
   "source": [
    "laptop = 'KNIGHTANON-LAPT\\\\SQLEXPRESS'\n",
    "local = '(localdb)\\\\MSSQLLocalDB'\n",
    "local2 = 'localhost'\n",
    "desktop = 'KNIGHTANON-DESK\\\\SQLEXPRESS'\n",
    "database = 'GreatOutdoorsDW'\n",
    "\n",
    "DB = {\n",
    "    'servername': laptop,\n",
    "    'database' : database\n",
    "}\n",
    "\n",
    "export_conn = pyodbc.connect('DRIVER={SQL Server};' +\n",
    "                             'SERVER='+ DB['servername'] + ';'\n",
    "                            #  'DATABASE='+DB['database'] +';'\n",
    "                             +'Trusted_Connection=yes'\n",
    "                            #  +'integrated security = true' \n",
    "                             )\n",
    "export_cursor = export_conn.cursor()\n",
    "# export_cursor.execute(\"CREATE DATABASE GreatOutdoorsDW\")\n",
    "# export_cursor.execute(\"USE GreatOutdoorsDW\")\n",
    "\n",
    "export_cursor"
   ]
  },
  {
   "cell_type": "markdown",
   "metadata": {},
   "source": [
    "## Database Connectie Brontabellen"
   ]
  },
  {
   "cell_type": "code",
   "execution_count": 5,
   "metadata": {},
   "outputs": [
    {
     "name": "stdout",
     "output_type": "stream",
     "text": [
      "Connected to go_sales sqlite.\n",
      "Connected to go_crm sqlite.\n",
      "Connected to go_staff sqlite.\n"
     ]
    }
   ],
   "source": [
    "sales_con = None\n",
    "crm_con = None\n",
    "staff_con = None\n",
    "\n",
    "def dataframe() : \n",
    "    try : \n",
    "        global sales_con \n",
    "        sales_con = sqlite3.connect(\"../Assets/Week 2/go_sales.sqlite\")\n",
    "        print(\"Connected to go_sales sqlite.\")\n",
    "\n",
    "        global crm_con \n",
    "        crm_con = sqlite3.connect(\"../Assets/Week 2/go_crm.sqlite\")\n",
    "        print(\"Connected to go_crm sqlite.\")\n",
    "\n",
    "        global staff_con \n",
    "        staff_con = sqlite3.connect(\"../Assets/Week 2/go_staff.sqlite\")\n",
    "        print(\"Connected to go_staff sqlite.\")\n",
    "\n",
    "\n",
    "    except sqlite3.Error as error: \n",
    "        print(\"Failed to read data from sqlite table\", error)\n",
    "\n",
    "dataframe()"
   ]
  },
  {
   "cell_type": "markdown",
   "metadata": {},
   "source": [
    "### Tabellen inlezen"
   ]
  },
  {
   "cell_type": "markdown",
   "metadata": {},
   "source": [
    "#### GO_CRM"
   ]
  },
  {
   "cell_type": "code",
   "execution_count": 6,
   "metadata": {},
   "outputs": [],
   "source": [
    "# go_crm\n",
    "\n",
    "global go_crm_age_group\n",
    "go_crm_age_group = pd.read_sql_query(\"SELECT * FROM {}\".format(\"age_group\"),crm_con)\n",
    "\n",
    "global go_crm_country\n",
    "go_crm_country = pd.read_sql_query(\"SELECT * FROM {}\".format(\"country\"),crm_con)\n",
    "\n",
    "global go_crm_retailer\n",
    "go_crm_retailer = pd.read_sql_query(\"SELECT * FROM {}\".format(\"retailer\"),crm_con)\n",
    "\n",
    "global go_crm_retailer_contact\n",
    "go_crm_retailer_contact = pd.read_sql_query(\"SELECT * FROM {}\".format(\"retailer_contact\"),crm_con)\n",
    "\n",
    "global go_crm_retailer_headquarters\n",
    "go_crm_retailer_headquarters = pd.read_sql_query(\"SELECT * FROM {}\".format(\"retailer_headquarters\"),crm_con)\n",
    "\n",
    "global go_crm_retailer_segment\n",
    "go_crm_retailer_segment = pd.read_sql_query(\"SELECT * FROM {}\".format(\"retailer_segment\"),crm_con)\n",
    "\n",
    "global go_crm_retailer_site\n",
    "go_crm_retailer_site = pd.read_sql_query(\"SELECT * FROM {}\".format(\"retailer_site\"),crm_con)\n",
    "\n",
    "global go_crm_retailer_type\n",
    "go_crm_retailer_type = pd.read_sql_query(\"SELECT * FROM {}\".format(\"retailer_type\"),crm_con)\n",
    "\n",
    "global go_crm_sales_demographic\n",
    "go_crm_sales_demographic = pd.read_sql_query(\"SELECT * FROM {}\".format(\"sales_demographic\"),crm_con)\n",
    "\n",
    "global go_crm_sales_territory\n",
    "go_crm_sales_territory = pd.read_sql_query(\"SELECT * FROM {}\".format(\"sales_territory\"),crm_con)"
   ]
  },
  {
   "cell_type": "markdown",
   "metadata": {},
   "source": [
    "#### GO_STAFF"
   ]
  },
  {
   "cell_type": "code",
   "execution_count": 7,
   "metadata": {},
   "outputs": [],
   "source": [
    "# go_staff\n",
    "\n",
    "global go_staff_course \n",
    "go_staff_course = pd.read_sql_query(\"SELECT * FROM {}\".format(\"course\"),staff_con)\n",
    "\n",
    "global go_staff_sales_branch \n",
    "go_staff_sales_branch = pd.read_sql_query(\"SELECT * FROM {}\".format(\"sales_branch\"),staff_con)\n",
    "\n",
    "global go_staff_staff\n",
    "go_staff_staff = pd.read_sql_query(\"SELECT * FROM {}\".format(\"sales_staff\"),staff_con)\n",
    "\n",
    "global go_staff_satisfaction\n",
    "go_staff_satisfaction = pd.read_sql_query(\"SELECT * FROM {}\".format(\"satisfaction\"),staff_con)\n",
    "\n",
    "global go_staff_satisfaction_type\n",
    "go_staff_satisfaction_type = pd.read_sql_query(\"SELECT * FROM {}\".format(\"satisfaction_type\"),staff_con)"
   ]
  },
  {
   "cell_type": "markdown",
   "metadata": {},
   "source": [
    "#### GO_SALES"
   ]
  },
  {
   "cell_type": "code",
   "execution_count": 26,
   "metadata": {},
   "outputs": [],
   "source": [
    "#go_sales\n",
    "global product\n",
    "product = pd.read_sql_query(\"SELECT * FROM {}\".format(\"product\"),sales_con)\n",
    "\n",
    "global product_type\n",
    "product_type = pd.read_sql_query(\"SELECT * FROM {}\".format(\"product_type\"),sales_con)\n",
    "\n",
    "global product_line\n",
    "product_line = pd.read_sql_query(\"SELECT * FROM {}\".format(\"product_line\"),sales_con)\n",
    "\n",
    "global sales_staff\n",
    "sales_staff = pd.read_sql_query(\"SELECT * FROM {}\".format(\"sales_staff\"),sales_con)\n",
    "\n",
    "global sales_branch\n",
    "sales_branch = pd.read_sql_query(\"SELECT * FROM {}\".format(\"sales_branch\"),sales_con)\n",
    "\n",
    "global retailer_site\n",
    "retailer_site = pd.read_sql_query(\"SELECT * FROM {}\".format(\"retailer_site\"),sales_con)\n",
    "\n",
    "global country\n",
    "country = pd.read_sql_query(\"SELECT * FROM {}\".format(\"country\"),sales_con)\n",
    "\n",
    "global order_header\n",
    "order_header = pd.read_sql_query(\"SELECT * FROM {}\".format(\"order_header\"),sales_con)\n",
    "\n",
    "global order_method\n",
    "order_method = pd.read_sql_query(\"SELECT * FROM {}\".format(\"order_method\"),sales_con)\n",
    "\n",
    "global order_details\n",
    "order_details = pd.read_sql_query(\"SELECT * FROM {}\".format(\"order_details\"),sales_con)\n",
    "\n",
    "global target\n",
    "target = pd.read_sql_query(\"SELECT * FROM {}\".format(\"sales_targetdata\"),sales_con)\n",
    "\n",
    "global returned_item\n",
    "returned_item = pd.read_sql_query(\"SELECT * FROM {}\".format(\"returned_item\"),sales_con)\n",
    "\n",
    "global return_reason\n",
    "return_reason = pd.read_sql_query(\"SELECT * FROM {}\".format(\"return_reason\"),sales_con)\n",
    "\n",
    "global SALES_TARGETData\n",
    "SALES_TARGETData = pd.read_sql_query(\"SELECT * FROM {}\".format(\"SALES_TARGETData\"),sales_con)"
   ]
  },
  {
   "cell_type": "markdown",
   "metadata": {},
   "source": [
    "### Tabeltypes converteren"
   ]
  },
  {
   "cell_type": "markdown",
   "metadata": {},
   "source": [
    "#### GO_CRM"
   ]
  },
  {
   "cell_type": "code",
   "execution_count": 9,
   "metadata": {},
   "outputs": [
    {
     "data": {
      "text/plain": [
       "AGE_GROUP_CODE     int32\n",
       "UPPER_AGE          int32\n",
       "LOWER_AGE          int32\n",
       "TRIAL219          object\n",
       "dtype: object"
      ]
     },
     "metadata": {},
     "output_type": "display_data"
    },
    {
     "data": {
      "text/plain": [
       "COUNTRY_CODE             int32\n",
       "COUNTRY_EN              object\n",
       "FLAG_IMAGE              object\n",
       "SALES_TERRITORY_CODE     int32\n",
       "TRIAL219                object\n",
       "dtype: object"
      ]
     },
     "metadata": {},
     "output_type": "display_data"
    },
    {
     "data": {
      "text/plain": [
       "RETAILER_CODE           int32\n",
       "RETAILER_CODEMR       float64\n",
       "COMPANY_NAME           object\n",
       "RETAILER_TYPE_CODE      int32\n",
       "TRIAL219               object\n",
       "dtype: object"
      ]
     },
     "metadata": {},
     "output_type": "display_data"
    },
    {
     "data": {
      "text/plain": [
       "RETAILER_CONTACT_CODE      int32\n",
       "RETAILER_SITE_CODE         int32\n",
       "FIRST_NAME                object\n",
       "LAST_NAME                 object\n",
       "JOB_POSITION_EN           object\n",
       "EXTENSION                float64\n",
       "FAX                       object\n",
       "E_MAIL                    object\n",
       "GENDER                    object\n",
       "TRIAL222                  object\n",
       "dtype: object"
      ]
     },
     "metadata": {},
     "output_type": "display_data"
    },
    {
     "data": {
      "text/plain": [
       "RETAILER_CODEMR    float64\n",
       "RETAILER_NAME       object\n",
       "ADDRESS1            object\n",
       "ADDRESS2            object\n",
       "CITY                object\n",
       "REGION              object\n",
       "POSTAL_ZONE         object\n",
       "COUNTRY_CODE         int32\n",
       "PHONE               object\n",
       "FAX                 object\n",
       "SEGMENT_CODE         int32\n",
       "TRIAL222            object\n",
       "dtype: object"
      ]
     },
     "metadata": {},
     "output_type": "display_data"
    },
    {
     "data": {
      "text/plain": [
       "SEGMENT_CODE            int32\n",
       "LANGUAGE               object\n",
       "SEGMENT_NAME           object\n",
       "SEGMENT_DESCRIPTION    object\n",
       "TRIAL222               object\n",
       "dtype: object"
      ]
     },
     "metadata": {},
     "output_type": "display_data"
    },
    {
     "data": {
      "text/plain": [
       "RETAILER_SITE_CODE     int32\n",
       "RETAILER_CODE          int32\n",
       "ADDRESS1              object\n",
       "ADDRESS2              object\n",
       "CITY                  object\n",
       "REGION                object\n",
       "POSTAL_ZONE           object\n",
       "COUNTRY_CODE           int32\n",
       "ACTIVE_INDICATOR       int32\n",
       "TRIAL222              object\n",
       "dtype: object"
      ]
     },
     "metadata": {},
     "output_type": "display_data"
    },
    {
     "data": {
      "text/plain": [
       "RETAILER_TYPE_CODE     int32\n",
       "RETAILER_TYPE_EN      object\n",
       "TRIAL222              object\n",
       "dtype: object"
      ]
     },
     "metadata": {},
     "output_type": "display_data"
    },
    {
     "data": {
      "text/plain": [
       "DEMOGRAPHIC_CODE    object\n",
       "RETAILER_CODEMR     object\n",
       "AGE_GROUP_CODE      object\n",
       "SALES_PERCENT       object\n",
       "TRIAL222            object\n",
       "dtype: object"
      ]
     },
     "metadata": {},
     "output_type": "display_data"
    },
    {
     "data": {
      "text/plain": [
       "SALES_TERRITORY_CODE    object\n",
       "TERRITORY_NAME_EN       object\n",
       "TRIAL222                object\n",
       "dtype: object"
      ]
     },
     "metadata": {},
     "output_type": "display_data"
    }
   ],
   "source": [
    "\n",
    "go_crm = [go_crm_age_group,go_crm_country,go_crm_retailer,go_crm_retailer_contact,go_crm_retailer_headquarters,\n",
    "          go_crm_retailer_segment,go_crm_retailer_site,go_crm_retailer_type,go_crm_sales_demographic,go_crm_sales_territory]\n",
    "\n",
    "go_crm_age_group[\"AGE_GROUP_CODE\"] = go_crm_age_group[\"AGE_GROUP_CODE\"].astype(int)\n",
    "go_crm_age_group[\"LOWER_AGE\"] = go_crm_age_group[\"LOWER_AGE\"].astype(int)\n",
    "go_crm_age_group[\"UPPER_AGE\"] = go_crm_age_group[\"UPPER_AGE\"].astype(int)\n",
    "\n",
    "go_crm_country[\"COUNTRY_CODE\"] = go_crm_country[\"COUNTRY_CODE\"].astype(int)\n",
    "go_crm_country[\"SALES_TERRITORY_CODE\"] = go_crm_country[\"SALES_TERRITORY_CODE\"].astype(int)\n",
    "\n",
    "go_crm_retailer[\"RETAILER_CODE\"] = go_crm_retailer[\"RETAILER_CODE\"].astype(int)\n",
    "go_crm_retailer[\"RETAILER_CODEMR\"] = go_crm_retailer[\"RETAILER_CODEMR\"].astype(float)\n",
    "go_crm_retailer[\"RETAILER_TYPE_CODE\"] = go_crm_retailer[\"RETAILER_TYPE_CODE\"].astype(int)\n",
    "\n",
    "go_crm_retailer_contact[\"EXTENSION\"] = go_crm_retailer_contact[\"EXTENSION\"].astype(float)\n",
    "go_crm_retailer_contact['RETAILER_CONTACT_CODE'] = go_crm_retailer_contact[\"RETAILER_CONTACT_CODE\"].astype(int)\n",
    "go_crm_retailer_contact[\"RETAILER_SITE_CODE\"] = go_crm_retailer_contact[\"RETAILER_SITE_CODE\"].astype(int)\n",
    "\n",
    "go_crm_retailer_headquarters[\"RETAILER_CODEMR\"] = go_crm_retailer_headquarters[\"RETAILER_CODEMR\"].astype(float)\n",
    "go_crm_retailer_headquarters[\"COUNTRY_CODE\"] = go_crm_retailer_headquarters[\"COUNTRY_CODE\"].astype(int)\n",
    "go_crm_retailer_headquarters[\"SEGMENT_CODE\"] = go_crm_retailer_headquarters[\"SEGMENT_CODE\"].astype(int)\n",
    "\n",
    "go_crm_retailer_segment[\"SEGMENT_CODE\"] = go_crm_retailer_segment[\"SEGMENT_CODE\"].astype(int)\n",
    "\n",
    "go_crm_retailer_site[\"RETAILER_CODE\"] = go_crm_retailer_site[\"RETAILER_CODE\"].astype(int)\n",
    "go_crm_retailer_site[\"RETAILER_SITE_CODE\"] = go_crm_retailer_site[\"RETAILER_SITE_CODE\"].astype(int)\n",
    "go_crm_retailer_site[\"COUNTRY_CODE\"] = go_crm_retailer_site[\"COUNTRY_CODE\"].astype(int)\n",
    "go_crm_retailer_site[\"ACTIVE_INDICATOR\"] = go_crm_retailer_site[\"ACTIVE_INDICATOR\"].astype(int)\n",
    "\n",
    "go_crm_retailer_type[\"RETAILER_TYPE_CODE\"] = go_crm_retailer_type[\"RETAILER_TYPE_CODE\"].astype(int)\n",
    "\n",
    "\n",
    "for table in go_crm:\n",
    "    display(table.dtypes)"
   ]
  },
  {
   "cell_type": "markdown",
   "metadata": {},
   "source": [
    "#### GO_STAFF"
   ]
  },
  {
   "cell_type": "code",
   "execution_count": 19,
   "metadata": {},
   "outputs": [
    {
     "data": {
      "text/plain": [
       "COURSE_CODE            int32\n",
       "COURSE_DESCRIPTION    object\n",
       "TRIAL633              object\n",
       "dtype: object"
      ]
     },
     "metadata": {},
     "output_type": "display_data"
    },
    {
     "data": {
      "text/plain": [
       "SALES_BRANCH_CODE     int32\n",
       "ADDRESS1             object\n",
       "ADDRESS2             object\n",
       "CITY                 object\n",
       "REGION               object\n",
       "POSTAL_ZONE          object\n",
       "COUNTRY_CODE          int32\n",
       "TRIAL633             object\n",
       "dtype: object"
      ]
     },
     "metadata": {},
     "output_type": "display_data"
    },
    {
     "data": {
      "text/plain": [
       "SALES_STAFF_CODE              int32\n",
       "FIRST_NAME                   object\n",
       "LAST_NAME                    object\n",
       "POSITION_EN                  object\n",
       "WORK_PHONE                   object\n",
       "EXTENSION                   float64\n",
       "FAX                          object\n",
       "EMAIL                        object\n",
       "DATE_HIRED           datetime64[ns]\n",
       "SALES_BRANCH_CODE             int32\n",
       "MANAGER_CODE                  int32\n",
       "TRIAL633                     object\n",
       "dtype: object"
      ]
     },
     "metadata": {},
     "output_type": "display_data"
    },
    {
     "data": {
      "text/plain": [
       "YEAR                      object\n",
       "SALES_STAFF_CODE           int32\n",
       "SATISFACTION_TYPE_CODE     int32\n",
       "TRIAL633                  object\n",
       "dtype: object"
      ]
     },
     "metadata": {},
     "output_type": "display_data"
    },
    {
     "data": {
      "text/plain": [
       "SATISFACTION_TYPE_CODE            int32\n",
       "SATISFACTION_TYPE_DESCRIPTION    object\n",
       "TRIAL633                         object\n",
       "dtype: object"
      ]
     },
     "metadata": {},
     "output_type": "display_data"
    }
   ],
   "source": [
    "go_staff = [go_staff_course, go_staff_sales_branch,go_staff_staff,go_staff_satisfaction, go_staff_satisfaction_type]\n",
    "\n",
    "go_staff_course[\"COURSE_CODE\"] = go_staff_course[\"COURSE_CODE\"].astype(int)\n",
    "\n",
    "go_staff_sales_branch[\"COUNTRY_CODE\"] = go_staff_sales_branch[\"COUNTRY_CODE\"].astype(int)\n",
    "go_staff_sales_branch[\"SALES_BRANCH_CODE\"] = go_staff_sales_branch[\"SALES_BRANCH_CODE\"].astype(int)\n",
    "\n",
    "go_staff_staff[\"SALES_STAFF_CODE\"] = go_staff_staff[\"SALES_STAFF_CODE\"].astype(int)\n",
    "go_staff_staff[\"SALES_BRANCH_CODE\"] = go_staff_staff[\"SALES_BRANCH_CODE\"].astype(int)\n",
    "go_staff_staff[\"MANAGER_CODE\"] = go_staff_staff[\"MANAGER_CODE\"].astype(int)\n",
    "go_staff_staff[\"EXTENSION\"] = go_staff_staff[\"EXTENSION\"].astype(float)\n",
    "go_staff_staff[\"DATE_HIRED\"] = pd.to_datetime(go_staff_staff[\"DATE_HIRED\"])\n",
    "\n",
    "go_staff_satisfaction[\"SALES_STAFF_CODE\"] = go_staff_satisfaction[\"SALES_STAFF_CODE\"].astype(int)\n",
    "go_staff_satisfaction[\"SATISFACTION_TYPE_CODE\"] = go_staff_satisfaction[\"SATISFACTION_TYPE_CODE\"].astype(int)\n",
    "# wat voor datatype for Year? Kijken naar dimensiewaardes\n",
    "\n",
    "go_staff_satisfaction_type[\"SATISFACTION_TYPE_CODE\"] = go_staff_satisfaction_type[\"SATISFACTION_TYPE_CODE\"].astype(int)\n",
    "\n",
    "for table in go_staff:\n",
    "    display(table.dtypes)\n",
    "\n"
   ]
  },
  {
   "cell_type": "markdown",
   "metadata": {},
   "source": [
    "#### GO_SALES"
   ]
  },
  {
   "cell_type": "code",
   "execution_count": 33,
   "metadata": {},
   "outputs": [
    {
     "data": {
      "text/plain": [
       "Id                   int32\n",
       "SALES_STAFF_CODE     int32\n",
       "SALES_YEAR          object\n",
       "SALES_PERIOD         int32\n",
       "RETAILER_NAME       object\n",
       "PRODUCT_NUMBER       int32\n",
       "SALES_TARGET         int32\n",
       "RETAILER_CODE        int32\n",
       "TRIAL888            object\n",
       "dtype: object"
      ]
     },
     "metadata": {},
     "output_type": "display_data"
    },
    {
     "data": {
      "text/plain": [
       "COUNTRY_CODE      int32\n",
       "COUNTRY          object\n",
       "LANGUAGE         object\n",
       "CURRENCY_NAME    object\n",
       "TRIAL879         object\n",
       "dtype: object"
      ]
     },
     "metadata": {},
     "output_type": "display_data"
    },
    {
     "data": {
      "text/plain": [
       "ORDER_DETAIL_CODE      int32\n",
       "ORDER_NUMBER           int32\n",
       "PRODUCT_NUMBER         int32\n",
       "QUANTITY               int32\n",
       "UNIT_COST            float64\n",
       "UNIT_PRICE           float64\n",
       "UNIT_SALE_PRICE      float64\n",
       "TRIAL879              object\n",
       "dtype: object"
      ]
     },
     "metadata": {},
     "output_type": "display_data"
    },
    {
     "data": {
      "text/plain": [
       "ORDER_NUMBER                      int32\n",
       "RETAILER_NAME                    object\n",
       "RETAILER_SITE_CODE                int32\n",
       "RETAILER_CONTACT_CODE             int32\n",
       "SALES_STAFF_CODE                  int32\n",
       "SALES_BRANCH_CODE                 int32\n",
       "ORDER_DATE               datetime64[ns]\n",
       "ORDER_METHOD_CODE                 int32\n",
       "TRIAL885                         object\n",
       "dtype: object"
      ]
     },
     "metadata": {},
     "output_type": "display_data"
    },
    {
     "data": {
      "text/plain": [
       "ORDER_METHOD_CODE     int32\n",
       "ORDER_METHOD_EN      object\n",
       "TRIAL888             object\n",
       "dtype: object"
      ]
     },
     "metadata": {},
     "output_type": "display_data"
    },
    {
     "data": {
      "text/plain": [
       "PRODUCT_NUMBER                int32\n",
       "INTRODUCTION_DATE    datetime64[ns]\n",
       "PRODUCT_TYPE_CODE             int32\n",
       "PRODUCTION_COST             float64\n",
       "MARGIN                      float64\n",
       "PRODUCT_IMAGE                object\n",
       "LANGUAGE                     object\n",
       "PRODUCT_NAME                 object\n",
       "DESCRIPTION                  object\n",
       "TRIAL888                     object\n",
       "dtype: object"
      ]
     },
     "metadata": {},
     "output_type": "display_data"
    },
    {
     "data": {
      "text/plain": [
       "PRODUCT_LINE_CODE     int32\n",
       "PRODUCT_LINE_EN      object\n",
       "TRIAL888             object\n",
       "dtype: object"
      ]
     },
     "metadata": {},
     "output_type": "display_data"
    },
    {
     "data": {
      "text/plain": [
       "PRODUCT_TYPE_CODE     int32\n",
       "PRODUCT_LINE_CODE     int32\n",
       "PRODUCT_TYPE_EN      object\n",
       "TRIAL888             object\n",
       "dtype: object"
      ]
     },
     "metadata": {},
     "output_type": "display_data"
    },
    {
     "data": {
      "text/plain": [
       "RETURN_CODE                    int32\n",
       "RETURN_DATE           datetime64[ns]\n",
       "ORDER_DETAIL_CODE              int32\n",
       "RETURN_REASON_CODE             int32\n",
       "RETURN_QUANTITY                int32\n",
       "TRIAL888                      object\n",
       "dtype: object"
      ]
     },
     "metadata": {},
     "output_type": "display_data"
    },
    {
     "data": {
      "text/plain": [
       "RETURN_REASON_CODE        int32\n",
       "RETURN_DESCRIPTION_EN    object\n",
       "TRIAL888                 object\n",
       "dtype: object"
      ]
     },
     "metadata": {},
     "output_type": "display_data"
    },
    {
     "data": {
      "text/plain": [
       "SALES_STAFF_CODE              int32\n",
       "FIRST_NAME                   object\n",
       "LAST_NAME                    object\n",
       "POSITION_EN                  object\n",
       "WORK_PHONE                   object\n",
       "EXTENSION                   float64\n",
       "FAX                          object\n",
       "EMAIL                        object\n",
       "DATE_HIRED           datetime64[ns]\n",
       "SALES_BRANCH_CODE             int32\n",
       "TRIAL888                     object\n",
       "dtype: object"
      ]
     },
     "metadata": {},
     "output_type": "display_data"
    },
    {
     "data": {
      "text/plain": [
       "SALES_BRANCH_CODE     int32\n",
       "ADDRESS1             object\n",
       "ADDRESS2             object\n",
       "CITY                 object\n",
       "REGION               object\n",
       "POSTAL_ZONE          object\n",
       "COUNTRY_CODE          int32\n",
       "TRIAL888             object\n",
       "dtype: object"
      ]
     },
     "metadata": {},
     "output_type": "display_data"
    },
    {
     "data": {
      "text/plain": [
       "RETAILER_SITE_CODE     int32\n",
       "RETAILER_CODE          int32\n",
       "ADDRESS1              object\n",
       "ADDRESS2              object\n",
       "CITY                  object\n",
       "REGION                object\n",
       "POSTAL_ZONE           object\n",
       "COUNTRY_CODE           int32\n",
       "ACTIVE_INDICATOR       int32\n",
       "TRIAL888              object\n",
       "dtype: object"
      ]
     },
     "metadata": {},
     "output_type": "display_data"
    }
   ],
   "source": [
    "go_sales = [SALES_TARGETData,country,order_details,order_header,\n",
    "            order_method,product,product_line,product_type,returned_item,\n",
    "            return_reason, sales_staff,sales_branch,retailer_site]\n",
    "\n",
    "SALES_TARGETData[\"Id\"] = SALES_TARGETData[\"Id\"].astype(int)\n",
    "SALES_TARGETData[\"SALES_STAFF_CODE\"] = SALES_TARGETData[\"SALES_STAFF_CODE\"].astype(int)\n",
    "SALES_TARGETData[\"SALES_PERIOD\"] = SALES_TARGETData[\"SALES_PERIOD\"].astype(int)\n",
    "SALES_TARGETData[\"PRODUCT_NUMBER\"] = SALES_TARGETData[\"PRODUCT_NUMBER\"].astype(int)\n",
    "SALES_TARGETData[\"SALES_TARGET\"] = SALES_TARGETData[\"SALES_TARGET\"].astype(int)\n",
    "SALES_TARGETData[\"RETAILER_CODE\"] = SALES_TARGETData[\"RETAILER_CODE\"].astype(int)\n",
    "# datatype voor sales_year ?\n",
    "\n",
    "country[\"COUNTRY_CODE\"] = country[\"COUNTRY_CODE\"].astype(int)\n",
    "\n",
    "order_details[\"ORDER_DETAIL_CODE\"] = order_details[\"ORDER_DETAIL_CODE\"].astype(int)\n",
    "order_details[\"ORDER_NUMBER\"] = order_details[\"ORDER_NUMBER\"].astype(int)\n",
    "order_details[\"PRODUCT_NUMBER\"] = order_details[\"PRODUCT_NUMBER\"].astype(int)\n",
    "order_details[\"QUANTITY\"] = order_details[\"QUANTITY\"].astype(int)\n",
    "order_details[\"UNIT_COST\"] = order_details[\"UNIT_COST\"].apply(float)\n",
    "order_details[\"UNIT_PRICE\"] = order_details[\"UNIT_PRICE\"].apply(float)\n",
    "order_details[\"UNIT_SALE_PRICE\"] = order_details[\"UNIT_SALE_PRICE\"].apply(float)\n",
    "\n",
    "order_header[\"ORDER_NUMBER\"] = order_header[\"ORDER_NUMBER\"].astype(int)\n",
    "order_header[\"RETAILER_SITE_CODE\"] = order_header[\"RETAILER_SITE_CODE\"].astype(int)\n",
    "order_header[\"RETAILER_CONTACT_CODE\"] = order_header[\"RETAILER_CONTACT_CODE\"].astype(int)\n",
    "order_header[\"SALES_STAFF_CODE\"] = order_header[\"SALES_STAFF_CODE\"].astype(int)\n",
    "order_header[\"SALES_BRANCH_CODE\"] = order_header[\"SALES_BRANCH_CODE\"].astype(int)\n",
    "order_header[\"ORDER_DATE\"] = pd.to_datetime(order_header[\"ORDER_DATE\"])\n",
    "order_header[\"ORDER_METHOD_CODE\"] = order_header[\"ORDER_METHOD_CODE\"].astype(int)\n",
    "\n",
    "order_method[\"ORDER_METHOD_CODE\"] = order_method[\"ORDER_METHOD_CODE\"].astype(int)\n",
    "\n",
    "product[\"PRODUCT_NUMBER\"] = product[\"PRODUCT_NUMBER\"].astype(int)\n",
    "product[\"INTRODUCTION_DATE\"] = pd.to_datetime(product[\"INTRODUCTION_DATE\"])\n",
    "product[\"PRODUCT_TYPE_CODE\"] = product[\"PRODUCT_TYPE_CODE\"].astype(int)\n",
    "product[\"PRODUCTION_COST\"] = product[\"PRODUCTION_COST\"].astype(float)\n",
    "product[\"MARGIN\"] = product[\"MARGIN\"].astype(float)\n",
    "\n",
    "product_line[\"PRODUCT_LINE_CODE\"] = product_line[\"PRODUCT_LINE_CODE\"].astype(int)\n",
    "\n",
    "product_type[\"PRODUCT_LINE_CODE\"] = product_type[\"PRODUCT_LINE_CODE\"].astype(int)\n",
    "product_type[\"PRODUCT_TYPE_CODE\"] = product_type[\"PRODUCT_TYPE_CODE\"].astype(int)\n",
    "\n",
    "returned_item[\"RETURN_CODE\"] = returned_item[\"RETURN_CODE\"].astype(int)\n",
    "returned_item[\"RETURN_DATE\"] = pd.to_datetime(returned_item[\"RETURN_DATE\"], format=\"%d-%m-%Y %H:%M:%S\")\n",
    "returned_item[\"ORDER_DETAIL_CODE\"] = returned_item[\"ORDER_DETAIL_CODE\"].astype(int)\n",
    "returned_item[\"RETURN_REASON_CODE\"] = returned_item[\"RETURN_REASON_CODE\"].astype(int)\n",
    "returned_item[\"RETURN_QUANTITY\"] = returned_item[\"RETURN_QUANTITY\"].astype(int)\n",
    "\n",
    "return_reason[\"RETURN_REASON_CODE\"] = return_reason[\"RETURN_REASON_CODE\"].astype(int)\n",
    "\n",
    "sales_staff[\"SALES_STAFF_CODE\"] = sales_staff[\"SALES_STAFF_CODE\"].astype(int)\n",
    "sales_staff[\"EXTENSION\"] = sales_staff[\"EXTENSION\"].astype(float)\n",
    "sales_staff[\"DATE_HIRED\"] = pd.to_datetime(sales_staff[\"DATE_HIRED\"])\n",
    "sales_staff[\"SALES_BRANCH_CODE\"] = sales_staff[\"SALES_BRANCH_CODE\"].astype(int) \n",
    "\n",
    "sales_branch[\"SALES_BRANCH_CODE\"] = sales_branch[\"SALES_BRANCH_CODE\"].astype(int)\n",
    "sales_branch[\"COUNTRY_CODE\"] = sales_branch[\"COUNTRY_CODE\"].astype(int)\n",
    "\n",
    "retailer_site[\"RETAILER_SITE_CODE\"] = retailer_site[\"RETAILER_SITE_CODE\"].astype(int)\n",
    "retailer_site[\"RETAILER_CODE\"] = retailer_site[\"RETAILER_CODE\"].astype(int)\n",
    "retailer_site[\"COUNTRY_CODE\"] = retailer_site[\"COUNTRY_CODE\"].astype(int)\n",
    "retailer_site[\"ACTIVE_INDICATOR\"] = retailer_site[\"ACTIVE_INDICATOR\"].astype(int)\n",
    "\n",
    "for table in go_sales:\n",
    "    display(table.dtypes)"
   ]
  },
  {
   "cell_type": "markdown",
   "metadata": {},
   "source": [
    "### Data opschonen"
   ]
  },
  {
   "cell_type": "code",
   "execution_count": 11,
   "metadata": {},
   "outputs": [],
   "source": [
    "# De bedoeling hier is om ervoor te zorgen dat data zich in de goede kolommen bevindt.\n",
    "# Dus geen plaatsnaam waar een prijs verwacht wordt.\n",
    "\n",
    "#10-3-2024 - De nieuwe SQLite database bestanden dat op brightspace staan lijken schoon aangeleverd te zijn."
   ]
  },
  {
   "cell_type": "markdown",
   "metadata": {},
   "source": [
    "## Data samenvoegen"
   ]
  },
  {
   "cell_type": "markdown",
   "metadata": {},
   "source": [
    "### Feittabellen samenstellen"
   ]
  },
  {
   "cell_type": "markdown",
   "metadata": {},
   "source": [
    "#### Order_Details \n",
    "Feit #1, #2 - Geaggregeerd feit Order_Details en Order_Header"
   ]
  },
  {
   "cell_type": "code",
   "execution_count": null,
   "metadata": {},
   "outputs": [],
   "source": [
    "Order_Details_Feit = None"
   ]
  },
  {
   "cell_type": "markdown",
   "metadata": {},
   "source": [
    "##### "
   ]
  }
 ],
 "metadata": {
  "kernelspec": {
   "display_name": ".venv",
   "language": "python",
   "name": "python3"
  },
  "language_info": {
   "codemirror_mode": {
    "name": "ipython",
    "version": 3
   },
   "file_extension": ".py",
   "mimetype": "text/x-python",
   "name": "python",
   "nbconvert_exporter": "python",
   "pygments_lexer": "ipython3",
   "version": "3.12.2"
  }
 },
 "nbformat": 4,
 "nbformat_minor": 2
}
