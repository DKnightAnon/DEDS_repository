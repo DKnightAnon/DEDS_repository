{
 "cells": [
  {
   "cell_type": "markdown",
   "metadata": {},
   "source": [
    "# Practicumopdracht 3 Week 4"
   ]
  },
  {
   "cell_type": "markdown",
   "metadata": {},
   "source": [
    "## Imports"
   ]
  },
  {
   "cell_type": "code",
   "execution_count": 16,
   "metadata": {},
   "outputs": [],
   "source": [
    "import pandas as pd\n",
    "import pyodbc\n",
    "import numpy\n",
    "import sqlite3\n",
    "from decimal import Decimal"
   ]
  },
  {
   "cell_type": "markdown",
   "metadata": {},
   "source": [
    "## Database Connectie SQL Server"
   ]
  },
  {
   "cell_type": "code",
   "execution_count": 9,
   "metadata": {},
   "outputs": [
    {
     "data": {
      "text/plain": [
       "<pyodbc.Cursor at 0x13e15b84330>"
      ]
     },
     "execution_count": 9,
     "metadata": {},
     "output_type": "execute_result"
    }
   ],
   "source": [
    "laptop = 'KNIGHTANON-LAPT\\\\SQLEXPRESS'\n",
    "local = '(localdb)\\\\MSSQLLocalDB'\n",
    "desktop = 'KNIGHTANON-DESK\\\\SQLEXPRESS'\n",
    "\n",
    "DB = {\n",
    "    'servername': laptop,\n",
    "    'database' : 'GreatOutdoorsDW'\n",
    "}\n",
    "\n",
    "export_conn = pyodbc.connect('DRIVER={SQL Server};SERVER='+ \n",
    "                             DB['servername'] +';DATABASE='+\n",
    "                             DB['database'] +';Trusted_Connection=yes')\n",
    "export_cursor = export_conn.cursor()\n",
    "export_cursor"
   ]
  },
  {
   "cell_type": "markdown",
   "metadata": {},
   "source": [
    "## Database Connectie Brontabellen"
   ]
  },
  {
   "cell_type": "code",
   "execution_count": 12,
   "metadata": {},
   "outputs": [
    {
     "name": "stdout",
     "output_type": "stream",
     "text": [
      "Connected to go_sales sqlite.\n",
      "Connected to go_crm sqlite.\n",
      "Connected to go_staff sqlite.\n"
     ]
    }
   ],
   "source": [
    "sales_con = None\n",
    "crm_con = None\n",
    "staff_con = None\n",
    "\n",
    "def dataframe() : \n",
    "    try : \n",
    "        global sales_con \n",
    "        sales_con = sqlite3.connect(\"../Assets/Week 2/go_sales.sqlite\")\n",
    "        print(\"Connected to go_sales sqlite.\")\n",
    "\n",
    "        global crm_con \n",
    "        crm_con = sqlite3.connect(\"../Assets/Week 2/go_crm.sqlite\")\n",
    "        print(\"Connected to go_crm sqlite.\")\n",
    "\n",
    "        global staff_con \n",
    "        staff_con = sqlite3.connect(\"../Assets/Week 2/go_staff.sqlite\")\n",
    "        print(\"Connected to go_staff sqlite.\")\n",
    "\n",
    "\n",
    "    except sqlite3.Error as error: \n",
    "        print(\"Failed to read data from sqlite table\", error)\n",
    "\n",
    "dataframe()"
   ]
  },
  {
   "cell_type": "markdown",
   "metadata": {},
   "source": [
    "### Tabellen inlezen"
   ]
  },
  {
   "cell_type": "markdown",
   "metadata": {},
   "source": [
    "#### GO_CRM"
   ]
  },
  {
   "cell_type": "code",
   "execution_count": 23,
   "metadata": {},
   "outputs": [],
   "source": [
    "# go_crm\n",
    "\n",
    "global go_crm_age_group\n",
    "go_crm_age_group = pd.read_sql_query(\"SELECT * FROM {}\".format(\"age_group\"),crm_con)\n",
    "\n",
    "global go_crm_country\n",
    "go_crm_country = pd.read_sql_query(\"SELECT * FROM {}\".format(\"country\"),crm_con)\n",
    "\n",
    "global go_crm_retailer\n",
    "go_crm_retailer = pd.read_sql_query(\"SELECT * FROM {}\".format(\"retailer\"),crm_con)\n",
    "\n",
    "global go_crm_retailer_contact\n",
    "go_crm_retailer_contact = pd.read_sql_query(\"SELECT * FROM {}\".format(\"retailer_contact\"),crm_con)\n",
    "\n",
    "global go_crm_retailer_headquarters\n",
    "go_crm_retailer_headquarters = pd.read_sql_query(\"SELECT * FROM {}\".format(\"retailer_headquarters\"),crm_con)\n",
    "\n",
    "global go_crm_retailer_segment\n",
    "go_crm_retailer_segment = pd.read_sql_query(\"SELECT * FROM {}\".format(\"retailer_segment\"),crm_con)\n",
    "\n",
    "global go_crm_retailer_site\n",
    "go_crm_retailer_site = pd.read_sql_query(\"SELECT * FROM {}\".format(\"retailer_site\"),crm_con)\n",
    "\n",
    "global go_crm_retailer_type\n",
    "go_crm_retailer_type = pd.read_sql_query(\"SELECT * FROM {}\".format(\"retailer_type\"),crm_con)\n",
    "\n",
    "global go_crm_sales_demographic\n",
    "go_crm_sales_demographic = pd.read_sql_query(\"SELECT * FROM {}\".format(\"sales_demographic\"),crm_con)\n",
    "\n",
    "global go_crm_sales_territory\n",
    "go_crm_sales_territory = pd.read_sql_query(\"SELECT * FROM {}\".format(\"sales_territory\"),crm_con)"
   ]
  },
  {
   "cell_type": "markdown",
   "metadata": {},
   "source": [
    "#### GO_STAFF"
   ]
  },
  {
   "cell_type": "code",
   "execution_count": null,
   "metadata": {},
   "outputs": [],
   "source": [
    "# go_staff\n",
    "\n",
    "global go_staff_course \n",
    "go_staff_course = pd.read_sql_query(\"SELECT * FROM {}\".format(\"course\"),staff_con)\n",
    "\n",
    "global go_staff_sales_branch \n",
    "go_staff_sales_branch = pd.read_sql_query(\"SELECT * FROM {}\".format(\"sales_branch\"),staff_con)\n",
    "\n",
    "global go_staff_staff\n",
    "go_staff_staff = pd.read_sql_query(\"SELECT * FROM {}\".format(\"sales_staff\"),staff_con)\n",
    "\n",
    "global go_staff_satisfaction\n",
    "go_staff_satisfaction = pd.read_sql_query(\"SELECT * FROM {}\".format(\"satisfaction\"),staff_con)\n",
    "\n",
    "global go_staff_satisfaction_type\n",
    "go_staff_satisfaction_type = pd.read_sql_query(\"SELECT * FROM {}\".format(\"satisfaction_type\"),staff_con)"
   ]
  },
  {
   "cell_type": "markdown",
   "metadata": {},
   "source": [
    "#### GO_SALES"
   ]
  },
  {
   "cell_type": "code",
   "execution_count": 20,
   "metadata": {},
   "outputs": [],
   "source": [
    "#go_sales\n",
    "global product\n",
    "product = pd.read_sql_query(\"SELECT * FROM {}\".format(\"product\"),sales_con)\n",
    "\n",
    "global product_type\n",
    "product_type = pd.read_sql_query(\"SELECT * FROM {}\".format(\"product_type\"),sales_con)\n",
    "\n",
    "global product_line\n",
    "product_line = pd.read_sql_query(\"SELECT * FROM {}\".format(\"product_line\"),sales_con)\n",
    "\n",
    "global sales_staff\n",
    "sales_staff = pd.read_sql_query(\"SELECT * FROM {}\".format(\"sales_staff\"),sales_con)\n",
    "\n",
    "global sales_branch\n",
    "sales_branch = pd.read_sql_query(\"SELECT * FROM {}\".format(\"sales_branch\"),sales_con)\n",
    "\n",
    "global retailer_site\n",
    "retailer_site = pd.read_sql_query(\"SELECT * FROM {}\".format(\"retailer_site\"),sales_con)\n",
    "\n",
    "global country\n",
    "country = pd.read_sql_query(\"SELECT * FROM {}\".format(\"country\"),sales_con)\n",
    "\n",
    "global order_header\n",
    "order_header = pd.read_sql_query(\"SELECT * FROM {}\".format(\"order_header\"),sales_con)\n",
    "\n",
    "global order_details\n",
    "order_details = pd.read_sql_query(\"SELECT * FROM {}\".format(\"order_details\"),sales_con)\n",
    "\n",
    "global target\n",
    "target = pd.read_sql_query(\"SELECT * FROM {}\".format(\"sales_targetdata\"),sales_con)\n",
    "\n",
    "global returned_item\n",
    "returned_item = pd.read_sql_query(\"SELECT * FROM {}\".format(\"returned_item\"),sales_con)\n",
    "\n",
    "global return_reason\n",
    "return_reason = pd.read_sql_query(\"SELECT * FROM {}\".format(\"return_reason\"),sales_con)"
   ]
  },
  {
   "cell_type": "markdown",
   "metadata": {},
   "source": [
    "### Tabeltypes converteren"
   ]
  },
  {
   "cell_type": "code",
   "execution_count": 18,
   "metadata": {},
   "outputs": [
    {
     "ename": "TypeError",
     "evalue": "dtype '<class 'decimal.Decimal'>' not understood",
     "output_type": "error",
     "traceback": [
      "\u001b[1;31m---------------------------------------------------------------------------\u001b[0m",
      "\u001b[1;31mTypeError\u001b[0m                                 Traceback (most recent call last)",
      "Cell \u001b[1;32mIn[18], line 1\u001b[0m\n\u001b[1;32m----> 1\u001b[0m product[\u001b[38;5;124m\"\u001b[39m\u001b[38;5;124mPRODUCTION_COST\u001b[39m\u001b[38;5;124m\"\u001b[39m] \u001b[38;5;241m=\u001b[39m \u001b[43mproduct\u001b[49m\u001b[43m[\u001b[49m\u001b[38;5;124;43m\"\u001b[39;49m\u001b[38;5;124;43mPRODUCTION_COST\u001b[39;49m\u001b[38;5;124;43m\"\u001b[39;49m\u001b[43m]\u001b[49m\u001b[38;5;241;43m.\u001b[39;49m\u001b[43mastype\u001b[49m\u001b[43m(\u001b[49m\u001b[43mDecimal\u001b[49m\u001b[43m)\u001b[49m\n\u001b[0;32m      2\u001b[0m \u001b[38;5;66;03m# product[\"MARGIN\"] = product[\"MARGIN\"].astype(float)\u001b[39;00m\n\u001b[0;32m      3\u001b[0m \u001b[38;5;66;03m# order_details[\"UNIT_SALE_PRICE\"] = order_details[\"UNIT_SALE_PRICE\"].astype(float)\u001b[39;00m\n\u001b[0;32m      4\u001b[0m \u001b[38;5;66;03m# order_details[\"UNIT_PRICE\"] = order_details[\"UNIT_PRICE\"].astype(float)\u001b[39;00m\n\u001b[0;32m      5\u001b[0m \u001b[38;5;66;03m# order_details[\"QUANTITY\"] = order_details[\"QUANTITY\"].astype(int)\u001b[39;00m\n\u001b[0;32m      6\u001b[0m \u001b[38;5;66;03m# returned_item[\"RETURN_QUANTITY\"] = returned_item[\"RETURN_QUANTITY\"].astype(int)\u001b[39;00m\n",
      "File \u001b[1;32mc:\\Users\\arcde\\Documents\\Haagse Hogeschool\\Jaar 2\\Semester 4\\DEDS\\DEDS_portfolio\\.venv\\Lib\\site-packages\\pandas\\core\\generic.py:6637\u001b[0m, in \u001b[0;36mNDFrame.astype\u001b[1;34m(self, dtype, copy, errors)\u001b[0m\n\u001b[0;32m   6631\u001b[0m     results \u001b[38;5;241m=\u001b[39m [\n\u001b[0;32m   6632\u001b[0m         ser\u001b[38;5;241m.\u001b[39mastype(dtype, copy\u001b[38;5;241m=\u001b[39mcopy, errors\u001b[38;5;241m=\u001b[39merrors) \u001b[38;5;28;01mfor\u001b[39;00m _, ser \u001b[38;5;129;01min\u001b[39;00m \u001b[38;5;28mself\u001b[39m\u001b[38;5;241m.\u001b[39mitems()\n\u001b[0;32m   6633\u001b[0m     ]\n\u001b[0;32m   6635\u001b[0m \u001b[38;5;28;01melse\u001b[39;00m:\n\u001b[0;32m   6636\u001b[0m     \u001b[38;5;66;03m# else, only a single dtype is given\u001b[39;00m\n\u001b[1;32m-> 6637\u001b[0m     new_data \u001b[38;5;241m=\u001b[39m \u001b[38;5;28;43mself\u001b[39;49m\u001b[38;5;241;43m.\u001b[39;49m\u001b[43m_mgr\u001b[49m\u001b[38;5;241;43m.\u001b[39;49m\u001b[43mastype\u001b[49m\u001b[43m(\u001b[49m\u001b[43mdtype\u001b[49m\u001b[38;5;241;43m=\u001b[39;49m\u001b[43mdtype\u001b[49m\u001b[43m,\u001b[49m\u001b[43m \u001b[49m\u001b[43mcopy\u001b[49m\u001b[38;5;241;43m=\u001b[39;49m\u001b[43mcopy\u001b[49m\u001b[43m,\u001b[49m\u001b[43m \u001b[49m\u001b[43merrors\u001b[49m\u001b[38;5;241;43m=\u001b[39;49m\u001b[43merrors\u001b[49m\u001b[43m)\u001b[49m\n\u001b[0;32m   6638\u001b[0m     res \u001b[38;5;241m=\u001b[39m \u001b[38;5;28mself\u001b[39m\u001b[38;5;241m.\u001b[39m_constructor_from_mgr(new_data, axes\u001b[38;5;241m=\u001b[39mnew_data\u001b[38;5;241m.\u001b[39maxes)\n\u001b[0;32m   6639\u001b[0m     \u001b[38;5;28;01mreturn\u001b[39;00m res\u001b[38;5;241m.\u001b[39m__finalize__(\u001b[38;5;28mself\u001b[39m, method\u001b[38;5;241m=\u001b[39m\u001b[38;5;124m\"\u001b[39m\u001b[38;5;124mastype\u001b[39m\u001b[38;5;124m\"\u001b[39m)\n",
      "File \u001b[1;32mc:\\Users\\arcde\\Documents\\Haagse Hogeschool\\Jaar 2\\Semester 4\\DEDS\\DEDS_portfolio\\.venv\\Lib\\site-packages\\pandas\\core\\internals\\managers.py:431\u001b[0m, in \u001b[0;36mBaseBlockManager.astype\u001b[1;34m(self, dtype, copy, errors)\u001b[0m\n\u001b[0;32m    428\u001b[0m \u001b[38;5;28;01melif\u001b[39;00m using_copy_on_write():\n\u001b[0;32m    429\u001b[0m     copy \u001b[38;5;241m=\u001b[39m \u001b[38;5;28;01mFalse\u001b[39;00m\n\u001b[1;32m--> 431\u001b[0m \u001b[38;5;28;01mreturn\u001b[39;00m \u001b[38;5;28;43mself\u001b[39;49m\u001b[38;5;241;43m.\u001b[39;49m\u001b[43mapply\u001b[49m\u001b[43m(\u001b[49m\n\u001b[0;32m    432\u001b[0m \u001b[43m    \u001b[49m\u001b[38;5;124;43m\"\u001b[39;49m\u001b[38;5;124;43mastype\u001b[39;49m\u001b[38;5;124;43m\"\u001b[39;49m\u001b[43m,\u001b[49m\n\u001b[0;32m    433\u001b[0m \u001b[43m    \u001b[49m\u001b[43mdtype\u001b[49m\u001b[38;5;241;43m=\u001b[39;49m\u001b[43mdtype\u001b[49m\u001b[43m,\u001b[49m\n\u001b[0;32m    434\u001b[0m \u001b[43m    \u001b[49m\u001b[43mcopy\u001b[49m\u001b[38;5;241;43m=\u001b[39;49m\u001b[43mcopy\u001b[49m\u001b[43m,\u001b[49m\n\u001b[0;32m    435\u001b[0m \u001b[43m    \u001b[49m\u001b[43merrors\u001b[49m\u001b[38;5;241;43m=\u001b[39;49m\u001b[43merrors\u001b[49m\u001b[43m,\u001b[49m\n\u001b[0;32m    436\u001b[0m \u001b[43m    \u001b[49m\u001b[43musing_cow\u001b[49m\u001b[38;5;241;43m=\u001b[39;49m\u001b[43musing_copy_on_write\u001b[49m\u001b[43m(\u001b[49m\u001b[43m)\u001b[49m\u001b[43m,\u001b[49m\n\u001b[0;32m    437\u001b[0m \u001b[43m\u001b[49m\u001b[43m)\u001b[49m\n",
      "File \u001b[1;32mc:\\Users\\arcde\\Documents\\Haagse Hogeschool\\Jaar 2\\Semester 4\\DEDS\\DEDS_portfolio\\.venv\\Lib\\site-packages\\pandas\\core\\internals\\managers.py:364\u001b[0m, in \u001b[0;36mBaseBlockManager.apply\u001b[1;34m(self, f, align_keys, **kwargs)\u001b[0m\n\u001b[0;32m    362\u001b[0m         applied \u001b[38;5;241m=\u001b[39m b\u001b[38;5;241m.\u001b[39mapply(f, \u001b[38;5;241m*\u001b[39m\u001b[38;5;241m*\u001b[39mkwargs)\n\u001b[0;32m    363\u001b[0m     \u001b[38;5;28;01melse\u001b[39;00m:\n\u001b[1;32m--> 364\u001b[0m         applied \u001b[38;5;241m=\u001b[39m \u001b[38;5;28;43mgetattr\u001b[39;49m\u001b[43m(\u001b[49m\u001b[43mb\u001b[49m\u001b[43m,\u001b[49m\u001b[43m \u001b[49m\u001b[43mf\u001b[49m\u001b[43m)\u001b[49m\u001b[43m(\u001b[49m\u001b[38;5;241;43m*\u001b[39;49m\u001b[38;5;241;43m*\u001b[39;49m\u001b[43mkwargs\u001b[49m\u001b[43m)\u001b[49m\n\u001b[0;32m    365\u001b[0m     result_blocks \u001b[38;5;241m=\u001b[39m extend_blocks(applied, result_blocks)\n\u001b[0;32m    367\u001b[0m out \u001b[38;5;241m=\u001b[39m \u001b[38;5;28mtype\u001b[39m(\u001b[38;5;28mself\u001b[39m)\u001b[38;5;241m.\u001b[39mfrom_blocks(result_blocks, \u001b[38;5;28mself\u001b[39m\u001b[38;5;241m.\u001b[39maxes)\n",
      "File \u001b[1;32mc:\\Users\\arcde\\Documents\\Haagse Hogeschool\\Jaar 2\\Semester 4\\DEDS\\DEDS_portfolio\\.venv\\Lib\\site-packages\\pandas\\core\\internals\\blocks.py:758\u001b[0m, in \u001b[0;36mBlock.astype\u001b[1;34m(self, dtype, copy, errors, using_cow, squeeze)\u001b[0m\n\u001b[0;32m    755\u001b[0m         \u001b[38;5;28;01mraise\u001b[39;00m \u001b[38;5;167;01mValueError\u001b[39;00m(\u001b[38;5;124m\"\u001b[39m\u001b[38;5;124mCan not squeeze with more than one column.\u001b[39m\u001b[38;5;124m\"\u001b[39m)\n\u001b[0;32m    756\u001b[0m     values \u001b[38;5;241m=\u001b[39m values[\u001b[38;5;241m0\u001b[39m, :]  \u001b[38;5;66;03m# type: ignore[call-overload]\u001b[39;00m\n\u001b[1;32m--> 758\u001b[0m new_values \u001b[38;5;241m=\u001b[39m \u001b[43mastype_array_safe\u001b[49m\u001b[43m(\u001b[49m\u001b[43mvalues\u001b[49m\u001b[43m,\u001b[49m\u001b[43m \u001b[49m\u001b[43mdtype\u001b[49m\u001b[43m,\u001b[49m\u001b[43m \u001b[49m\u001b[43mcopy\u001b[49m\u001b[38;5;241;43m=\u001b[39;49m\u001b[43mcopy\u001b[49m\u001b[43m,\u001b[49m\u001b[43m \u001b[49m\u001b[43merrors\u001b[49m\u001b[38;5;241;43m=\u001b[39;49m\u001b[43merrors\u001b[49m\u001b[43m)\u001b[49m\n\u001b[0;32m    760\u001b[0m new_values \u001b[38;5;241m=\u001b[39m maybe_coerce_values(new_values)\n\u001b[0;32m    762\u001b[0m refs \u001b[38;5;241m=\u001b[39m \u001b[38;5;28;01mNone\u001b[39;00m\n",
      "File \u001b[1;32mc:\\Users\\arcde\\Documents\\Haagse Hogeschool\\Jaar 2\\Semester 4\\DEDS\\DEDS_portfolio\\.venv\\Lib\\site-packages\\pandas\\core\\dtypes\\astype.py:231\u001b[0m, in \u001b[0;36mastype_array_safe\u001b[1;34m(values, dtype, copy, errors)\u001b[0m\n\u001b[0;32m    225\u001b[0m     msg \u001b[38;5;241m=\u001b[39m (\n\u001b[0;32m    226\u001b[0m         \u001b[38;5;124mf\u001b[39m\u001b[38;5;124m\"\u001b[39m\u001b[38;5;124mExpected an instance of \u001b[39m\u001b[38;5;132;01m{\u001b[39;00mdtype\u001b[38;5;241m.\u001b[39m\u001b[38;5;18m__name__\u001b[39m\u001b[38;5;132;01m}\u001b[39;00m\u001b[38;5;124m, \u001b[39m\u001b[38;5;124m\"\u001b[39m\n\u001b[0;32m    227\u001b[0m         \u001b[38;5;124m\"\u001b[39m\u001b[38;5;124mbut got the class instead. Try instantiating \u001b[39m\u001b[38;5;124m'\u001b[39m\u001b[38;5;124mdtype\u001b[39m\u001b[38;5;124m'\u001b[39m\u001b[38;5;124m.\u001b[39m\u001b[38;5;124m\"\u001b[39m\n\u001b[0;32m    228\u001b[0m     )\n\u001b[0;32m    229\u001b[0m     \u001b[38;5;28;01mraise\u001b[39;00m \u001b[38;5;167;01mTypeError\u001b[39;00m(msg)\n\u001b[1;32m--> 231\u001b[0m dtype \u001b[38;5;241m=\u001b[39m \u001b[43mpandas_dtype\u001b[49m\u001b[43m(\u001b[49m\u001b[43mdtype\u001b[49m\u001b[43m)\u001b[49m\n\u001b[0;32m    232\u001b[0m \u001b[38;5;28;01mif\u001b[39;00m \u001b[38;5;28misinstance\u001b[39m(dtype, NumpyEADtype):\n\u001b[0;32m    233\u001b[0m     \u001b[38;5;66;03m# Ensure we don't end up with a NumpyExtensionArray\u001b[39;00m\n\u001b[0;32m    234\u001b[0m     dtype \u001b[38;5;241m=\u001b[39m dtype\u001b[38;5;241m.\u001b[39mnumpy_dtype\n",
      "File \u001b[1;32mc:\\Users\\arcde\\Documents\\Haagse Hogeschool\\Jaar 2\\Semester 4\\DEDS\\DEDS_portfolio\\.venv\\Lib\\site-packages\\pandas\\core\\dtypes\\common.py:1651\u001b[0m, in \u001b[0;36mpandas_dtype\u001b[1;34m(dtype)\u001b[0m\n\u001b[0;32m   1649\u001b[0m     \u001b[38;5;28;01mreturn\u001b[39;00m npdtype\n\u001b[0;32m   1650\u001b[0m \u001b[38;5;28;01melif\u001b[39;00m npdtype\u001b[38;5;241m.\u001b[39mkind \u001b[38;5;241m==\u001b[39m \u001b[38;5;124m\"\u001b[39m\u001b[38;5;124mO\u001b[39m\u001b[38;5;124m\"\u001b[39m:\n\u001b[1;32m-> 1651\u001b[0m     \u001b[38;5;28;01mraise\u001b[39;00m \u001b[38;5;167;01mTypeError\u001b[39;00m(\u001b[38;5;124mf\u001b[39m\u001b[38;5;124m\"\u001b[39m\u001b[38;5;124mdtype \u001b[39m\u001b[38;5;124m'\u001b[39m\u001b[38;5;132;01m{\u001b[39;00mdtype\u001b[38;5;132;01m}\u001b[39;00m\u001b[38;5;124m'\u001b[39m\u001b[38;5;124m not understood\u001b[39m\u001b[38;5;124m\"\u001b[39m)\n\u001b[0;32m   1653\u001b[0m \u001b[38;5;28;01mreturn\u001b[39;00m npdtype\n",
      "\u001b[1;31mTypeError\u001b[0m: dtype '<class 'decimal.Decimal'>' not understood"
     ]
    }
   ],
   "source": [
    "product[\"PRODUCTION_COST\"] = product[\"PRODUCTION_COST\"].astype(Decimal)\n",
    "# product[\"MARGIN\"] = product[\"MARGIN\"].astype(float)\n",
    "# order_details[\"UNIT_SALE_PRICE\"] = order_details[\"UNIT_SALE_PRICE\"].astype(float)\n",
    "# order_details[\"UNIT_PRICE\"] = order_details[\"UNIT_PRICE\"].astype(float)\n",
    "# order_details[\"QUANTITY\"] = order_details[\"QUANTITY\"].astype(int)\n",
    "# returned_item[\"RETURN_QUANTITY\"] = returned_item[\"RETURN_QUANTITY\"].astype(int)\n",
    "\n",
    "\n"
   ]
  },
  {
   "cell_type": "markdown",
   "metadata": {},
   "source": [
    "## Data samenvoegen"
   ]
  }
 ],
 "metadata": {
  "kernelspec": {
   "display_name": ".venv",
   "language": "python",
   "name": "python3"
  },
  "language_info": {
   "codemirror_mode": {
    "name": "ipython",
    "version": 3
   },
   "file_extension": ".py",
   "mimetype": "text/x-python",
   "name": "python",
   "nbconvert_exporter": "python",
   "pygments_lexer": "ipython3",
   "version": "3.12.2"
  }
 },
 "nbformat": 4,
 "nbformat_minor": 2
}
