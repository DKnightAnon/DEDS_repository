{
 "cells": [
  {
   "cell_type": "markdown",
   "metadata": {},
   "source": [
    "# Practicumopdracht 3 Week 4"
   ]
  },
  {
   "cell_type": "markdown",
   "metadata": {},
   "source": [
    "## Imports"
   ]
  },
  {
   "cell_type": "code",
   "execution_count": 2,
   "metadata": {},
   "outputs": [
    {
     "name": "stderr",
     "output_type": "stream",
     "text": [
      "C:\\Users\\arcde\\AppData\\Local\\Temp\\ipykernel_13044\\4213564620.py:1: DeprecationWarning: \n",
      "Pyarrow will become a required dependency of pandas in the next major release of pandas (pandas 3.0),\n",
      "(to allow more performant data types, such as the Arrow string type, and better interoperability with other libraries)\n",
      "but was not found to be installed on your system.\n",
      "If this would cause problems for you,\n",
      "please provide us feedback at https://github.com/pandas-dev/pandas/issues/54466\n",
      "        \n",
      "  import pandas as pd\n"
     ]
    }
   ],
   "source": [
    "import pandas as pd\n",
    "import pyodbc\n",
    "import numpy\n",
    "import sqlite3\n",
    "from decimal import Decimal"
   ]
  },
  {
   "cell_type": "markdown",
   "metadata": {},
   "source": [
    "## Database Connectie SQL Server"
   ]
  },
  {
   "cell_type": "code",
   "execution_count": 9,
   "metadata": {},
   "outputs": [
    {
     "data": {
      "text/plain": [
       "<pyodbc.Cursor at 0x13e15b84330>"
      ]
     },
     "execution_count": 9,
     "metadata": {},
     "output_type": "execute_result"
    }
   ],
   "source": [
    "laptop = 'KNIGHTANON-LAPT\\\\SQLEXPRESS'\n",
    "local = '(localdb)\\\\MSSQLLocalDB'\n",
    "desktop = 'KNIGHTANON-DESK\\\\SQLEXPRESS'\n",
    "\n",
    "DB = {\n",
    "    'servername': laptop,\n",
    "    'database' : 'GreatOutdoorsDW'\n",
    "}\n",
    "\n",
    "export_conn = pyodbc.connect('DRIVER={SQL Server};SERVER='+ \n",
    "                             DB['servername'] +';DATABASE='+\n",
    "                             DB['database'] +';Trusted_Connection=yes')\n",
    "export_cursor = export_conn.cursor()\n",
    "export_cursor"
   ]
  },
  {
   "cell_type": "markdown",
   "metadata": {},
   "source": [
    "## Database Connectie Brontabellen"
   ]
  },
  {
   "cell_type": "code",
   "execution_count": 12,
   "metadata": {},
   "outputs": [
    {
     "name": "stdout",
     "output_type": "stream",
     "text": [
      "Connected to go_sales sqlite.\n",
      "Connected to go_crm sqlite.\n",
      "Connected to go_staff sqlite.\n"
     ]
    }
   ],
   "source": [
    "sales_con = None\n",
    "crm_con = None\n",
    "staff_con = None\n",
    "\n",
    "def dataframe() : \n",
    "    try : \n",
    "        global sales_con \n",
    "        sales_con = sqlite3.connect(\"../Assets/Week 2/go_sales.sqlite\")\n",
    "        print(\"Connected to go_sales sqlite.\")\n",
    "\n",
    "        global crm_con \n",
    "        crm_con = sqlite3.connect(\"../Assets/Week 2/go_crm.sqlite\")\n",
    "        print(\"Connected to go_crm sqlite.\")\n",
    "\n",
    "        global staff_con \n",
    "        staff_con = sqlite3.connect(\"../Assets/Week 2/go_staff.sqlite\")\n",
    "        print(\"Connected to go_staff sqlite.\")\n",
    "\n",
    "\n",
    "    except sqlite3.Error as error: \n",
    "        print(\"Failed to read data from sqlite table\", error)\n",
    "\n",
    "dataframe()"
   ]
  },
  {
   "cell_type": "markdown",
   "metadata": {},
   "source": [
    "### Tabellen inlezen"
   ]
  },
  {
   "cell_type": "markdown",
   "metadata": {},
   "source": [
    "#### GO_CRM"
   ]
  },
  {
   "cell_type": "code",
   "execution_count": null,
   "metadata": {},
   "outputs": [],
   "source": [
    "# go_crm"
   ]
  },
  {
   "cell_type": "markdown",
   "metadata": {},
   "source": [
    "#### GO_STAFF"
   ]
  },
  {
   "cell_type": "code",
   "execution_count": null,
   "metadata": {},
   "outputs": [],
   "source": [
    "# go_staff"
   ]
  },
  {
   "cell_type": "markdown",
   "metadata": {},
   "source": [
    "#### GO_SALES"
   ]
  },
  {
   "cell_type": "code",
   "execution_count": 14,
   "metadata": {},
   "outputs": [],
   "source": [
    "#go_sales\n",
    "global product\n",
    "product = pd.read_sql_query(\"SELECT * FROM {}\".format(\"product\"),sales_con)\n",
    "\n",
    "global product_type\n",
    "product_type = pd.read_sql_query(\"SELECT * FROM {}\".format(\"product_type\"),sales_con)\n",
    "\n",
    "global product_line\n",
    "product_line = pd.read_sql_query(\"SELECT * FROM {}\".format(\"product_line\"),sales_con)\n",
    "\n",
    "global sales_staff\n",
    "sales_staff = pd.read_sql_query(\"SELECT * FROM {}\".format(\"sales_staff\"),sales_con)\n",
    "\n",
    "global sales_branch\n",
    "sales_branch = pd.read_sql_query(\"SELECT * FROM {}\".format(\"sales_branch\"),sales_con)\n",
    "\n",
    "global retailer_site\n",
    "retailer_site = pd.read_sql_query(\"SELECT * FROM {}\".format(\"retailer_site\"),sales_con)\n",
    "\n",
    "global country\n",
    "country = pd.read_sql_query(\"SELECT * FROM {}\".format(\"country\"),sales_con)\n",
    "\n",
    "global order_header\n",
    "order_header = pd.read_sql_query(\"SELECT * FROM {}\".format(\"order_header\"),sales_con)\n",
    "\n",
    "global order_details\n",
    "order_details = pd.read_sql_query(\"SELECT * FROM {}\".format(\"order_details\"),sales_con)\n",
    "\n",
    "global target\n",
    "target = pd.read_sql_query(\"SELECT * FROM {}\".format(\"sales_targetdata\"),sales_con)\n",
    "\n",
    "global returned_item\n",
    "returned_item = pd.read_sql_query(\"SELECT * FROM {}\".format(\"returned_item\"),sales_con)\n",
    "\n",
    "global return_reason\n",
    "return_reason = pd.read_sql_query(\"SELECT * FROM {}\".format(\"return_reason\"),sales_con)"
   ]
  },
  {
   "cell_type": "markdown",
   "metadata": {},
   "source": [
    "### Tabeltypes converteren"
   ]
  },
  {
   "cell_type": "code",
   "execution_count": null,
   "metadata": {},
   "outputs": [],
   "source": [
    "product[\"PRODUCTION_COST\"] = product[\"PRODUCTION_COST\"].astype(Decimal)\n",
    "product[\"MARGIN\"] = product[\"MARGIN\"].astype(float)\n",
    "order_details[\"UNIT_SALE_PRICE\"] = order_details[\"UNIT_SALE_PRICE\"].astype(float)\n",
    "order_details[\"UNIT_PRICE\"] = order_details[\"UNIT_PRICE\"].astype(float)\n",
    "order_details[\"QUANTITY\"] = order_details[\"QUANTITY\"].astype(int)\n",
    "returned_item[\"RETURN_QUANTITY\"] = returned_item[\"RETURN_QUANTITY\"].astype(int)\n",
    "\n",
    "\n"
   ]
  },
  {
   "cell_type": "markdown",
   "metadata": {},
   "source": [
    "## Data invoeren"
   ]
  }
 ],
 "metadata": {
  "kernelspec": {
   "display_name": ".venv",
   "language": "python",
   "name": "python3"
  },
  "language_info": {
   "codemirror_mode": {
    "name": "ipython",
    "version": 3
   },
   "file_extension": ".py",
   "mimetype": "text/x-python",
   "name": "python",
   "nbconvert_exporter": "python",
   "pygments_lexer": "ipython3",
   "version": "3.12.2"
  }
 },
 "nbformat": 4,
 "nbformat_minor": 2
}
