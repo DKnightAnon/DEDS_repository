{
 "cells": [
  {
   "cell_type": "markdown",
   "metadata": {},
   "source": [
    "# Practicumopdracht 3 Week 4"
   ]
  },
  {
   "cell_type": "markdown",
   "metadata": {},
   "source": [
    "## Imports"
   ]
  },
  {
   "cell_type": "code",
   "execution_count": 35,
   "metadata": {},
   "outputs": [],
   "source": [
    "import pandas as pd\n",
    "import pyodbc\n",
    "import numpy\n",
    "import sqlite3\n",
    "from decimal import Decimal"
   ]
  },
  {
   "cell_type": "markdown",
   "metadata": {},
   "source": [
    "## Database Connectie SQL Server"
   ]
  },
  {
   "cell_type": "code",
   "execution_count": 36,
   "metadata": {},
   "outputs": [
    {
     "data": {
      "text/plain": [
       "<pyodbc.Cursor at 0x151f1cb3e30>"
      ]
     },
     "execution_count": 36,
     "metadata": {},
     "output_type": "execute_result"
    }
   ],
   "source": [
    "laptop = 'KNIGHTANON-LAPT\\\\SQLEXPRESS'\n",
    "local = '(localdb)\\\\MSSQLLocalDB'\n",
    "local2 = 'localhost'\n",
    "desktop = 'KNIGHTANON-DESK\\\\SQLEXPRESS'\n",
    "database = 'GreatOutdoorsDW'\n",
    "\n",
    "DB = {\n",
    "    'servername': laptop,\n",
    "    'database' : database\n",
    "}\n",
    "\n",
    "export_conn = pyodbc.connect('DRIVER={SQL Server};' +\n",
    "                             'SERVER='+ DB['servername'] + ';'\n",
    "                            #  'DATABASE='+DB['database'] +';'\n",
    "                             +'Trusted_Connection=yes'\n",
    "                            #  +'integrated security = true' \n",
    "                             )\n",
    "export_cursor = export_conn.cursor()\n",
    "# export_cursor.execute(\"CREATE DATABASE GreatOutdoorsDW\")\n",
    "# export_cursor.execute(\"USE GreatOutdoorsDW\")\n",
    "\n",
    "export_cursor"
   ]
  },
  {
   "cell_type": "markdown",
   "metadata": {},
   "source": [
    "## Database Connectie Brontabellen"
   ]
  },
  {
   "cell_type": "code",
   "execution_count": 37,
   "metadata": {},
   "outputs": [
    {
     "name": "stdout",
     "output_type": "stream",
     "text": [
      "Connected to go_sales sqlite.\n",
      "Connected to go_crm sqlite.\n",
      "Connected to go_staff sqlite.\n"
     ]
    }
   ],
   "source": [
    "sales_con = None\n",
    "crm_con = None\n",
    "staff_con = None\n",
    "\n",
    "def dataframe() : \n",
    "    try : \n",
    "        global sales_con \n",
    "        sales_con = sqlite3.connect(\"../Assets/Week 2/go_sales.sqlite\")\n",
    "        print(\"Connected to go_sales sqlite.\")\n",
    "\n",
    "        global crm_con \n",
    "        crm_con = sqlite3.connect(\"../Assets/Week 2/go_crm.sqlite\")\n",
    "        print(\"Connected to go_crm sqlite.\")\n",
    "\n",
    "        global staff_con \n",
    "        staff_con = sqlite3.connect(\"../Assets/Week 2/go_staff.sqlite\")\n",
    "        print(\"Connected to go_staff sqlite.\")\n",
    "\n",
    "\n",
    "    except sqlite3.Error as error: \n",
    "        print(\"Failed to read data from sqlite table\", error)\n",
    "\n",
    "dataframe()"
   ]
  },
  {
   "cell_type": "markdown",
   "metadata": {},
   "source": [
    "### Tabellen inlezen"
   ]
  },
  {
   "cell_type": "markdown",
   "metadata": {},
   "source": [
    "#### GO_CRM"
   ]
  },
  {
   "cell_type": "code",
   "execution_count": 38,
   "metadata": {},
   "outputs": [],
   "source": [
    "# go_crm\n",
    "\n",
    "global go_crm_age_group\n",
    "go_crm_age_group = pd.read_sql_query(\"SELECT * FROM {}\".format(\"age_group\"),crm_con)\n",
    "go_crm_age_group = go_crm_age_group[go_crm_age_group.columns.drop(list(go_crm_age_group.filter(regex=\"TRIAL\")))]\n",
    "\n",
    "\n",
    "global go_crm_country\n",
    "go_crm_country = pd.read_sql_query(\"SELECT * FROM {}\".format(\"country\"),crm_con)\n",
    "go_crm_country = go_crm_country[go_crm_country.columns.drop(list(go_crm_country.filter(regex=\"TRIAL\")))]\n",
    "\n",
    "global go_crm_retailer\n",
    "go_crm_retailer = pd.read_sql_query(\"SELECT * FROM {}\".format(\"retailer\"),crm_con)\n",
    "go_crm_retailer = go_crm_retailer[go_crm_retailer.columns.drop(list(go_crm_retailer.filter(regex=\"TRIAL\")))]\n",
    "\n",
    "global go_crm_retailer_contact\n",
    "go_crm_retailer_contact = pd.read_sql_query(\"SELECT * FROM {}\".format(\"retailer_contact\"),crm_con)\n",
    "go_crm_retailer_contact = go_crm_retailer_contact[go_crm_retailer_contact.columns.drop(list(go_crm_retailer_contact.filter(regex=\"TRIAL\")))]\n",
    "\n",
    "global go_crm_retailer_headquarters\n",
    "go_crm_retailer_headquarters = pd.read_sql_query(\"SELECT * FROM {}\".format(\"retailer_headquarters\"),crm_con)\n",
    "go_crm_retailer_headquarters = go_crm_retailer_headquarters[go_crm_retailer_headquarters.columns.drop(list(go_crm_retailer_headquarters.filter(regex=\"TRIAL\")))]\n",
    "\n",
    "global go_crm_retailer_segment\n",
    "go_crm_retailer_segment = pd.read_sql_query(\"SELECT * FROM {}\".format(\"retailer_segment\"),crm_con)\n",
    "go_crm_retailer_segment = go_crm_retailer_segment[go_crm_retailer_segment.columns.drop(list(go_crm_retailer_segment.filter(regex=\"TRIAL\")))]\n",
    "\n",
    "global go_crm_retailer_site\n",
    "go_crm_retailer_site = pd.read_sql_query(\"SELECT * FROM {}\".format(\"retailer_site\"),crm_con)\n",
    "go_crm_retailer_site = go_crm_retailer_site[go_crm_retailer_site.columns.drop(list(go_crm_retailer_site.filter(regex=\"TRIAL\")))]\n",
    "\n",
    "global go_crm_retailer_type\n",
    "go_crm_retailer_type = pd.read_sql_query(\"SELECT * FROM {}\".format(\"retailer_type\"),crm_con)\n",
    "go_crm_retailer_type = go_crm_retailer_type[go_crm_retailer_type.columns.drop(list(go_crm_retailer_type.filter(regex=\"TRIAL\")))]\n",
    "\n",
    "global go_crm_sales_demographic\n",
    "go_crm_sales_demographic = pd.read_sql_query(\"SELECT * FROM {}\".format(\"sales_demographic\"),crm_con)\n",
    "go_crm_sales_demographic = go_crm_sales_demographic[go_crm_sales_demographic.columns.drop(list(go_crm_sales_demographic.filter(regex=\"TRIAL\")))]\n",
    "\n",
    "global go_crm_sales_territory\n",
    "go_crm_sales_territory = pd.read_sql_query(\"SELECT * FROM {}\".format(\"sales_territory\"),crm_con)\n",
    "go_crm_sales_territory = go_crm_sales_territory[go_crm_sales_territory.columns.drop(list(go_crm_sales_territory.filter(regex=\"TRIAL\")))]"
   ]
  },
  {
   "cell_type": "markdown",
   "metadata": {},
   "source": [
    "#### GO_STAFF"
   ]
  },
  {
   "cell_type": "code",
   "execution_count": 39,
   "metadata": {},
   "outputs": [],
   "source": [
    "# go_staff\n",
    "\n",
    "global go_staff_course \n",
    "go_staff_course = pd.read_sql_query(\"SELECT * FROM {}\".format(\"course\"),staff_con)\n",
    "go_staff_course = go_staff_course[go_staff_course.columns.drop(list(go_staff_course.filter(regex=\"TRIAL\")))]\n",
    "\n",
    "\n",
    "global go_staff_sales_branch \n",
    "go_staff_sales_branch = pd.read_sql_query(\"SELECT * FROM {}\".format(\"sales_branch\"),staff_con)\n",
    "go_staff_sales_branch = go_staff_sales_branch[go_staff_sales_branch.columns.drop(list(go_staff_sales_branch.filter(regex=\"TRIAL\")))]\n",
    "\n",
    "\n",
    "global go_staff_staff\n",
    "go_staff_staff = pd.read_sql_query(\"SELECT * FROM {}\".format(\"sales_staff\"),staff_con)\n",
    "go_staff_staff = go_staff_staff[go_staff_staff.columns.drop(list(go_staff_staff.filter(regex=\"TRIAL\")))]\n",
    "\n",
    "\n",
    "global go_staff_satisfaction\n",
    "go_staff_satisfaction = pd.read_sql_query(\"SELECT * FROM {}\".format(\"satisfaction\"),staff_con)\n",
    "go_staff_satisfaction = go_staff_satisfaction[go_staff_satisfaction.columns.drop(list(go_staff_satisfaction.filter(regex=\"TRIAL\")))]\n",
    "\n",
    "\n",
    "global go_staff_satisfaction_type\n",
    "go_staff_satisfaction_type = pd.read_sql_query(\"SELECT * FROM {}\".format(\"satisfaction_type\"),staff_con)\n",
    "go_staff_satisfaction_type = go_staff_satisfaction_type[go_staff_satisfaction_type.columns.drop(list(go_staff_satisfaction_type.filter(regex=\"TRIAL\")))]\n",
    "\n",
    "\n",
    "global go_staff_training\n",
    "go_staff_training = pd.read_sql_query(\"SELECT * FROM {}\".format(\"training\"),staff_con)\n",
    "go_staff_training = go_staff_training = go_staff_training[go_staff_training.columns.drop(list(go_staff_training.filter(regex=\"TRIAL\")))]"
   ]
  },
  {
   "cell_type": "markdown",
   "metadata": {},
   "source": [
    "#### GO_SALES"
   ]
  },
  {
   "cell_type": "code",
   "execution_count": 40,
   "metadata": {},
   "outputs": [],
   "source": [
    "#go_sales\n",
    "global product\n",
    "product = pd.read_sql_query(\"SELECT * FROM {}\".format(\"product\"),sales_con)\n",
    "product = product[product.columns.drop(list(product.filter(regex=\"TRIAL\")))]\n",
    "\n",
    "\n",
    "global product_type\n",
    "product_type = pd.read_sql_query(\"SELECT * FROM {}\".format(\"product_type\"),sales_con)\n",
    "product_type = product_type[product_type.columns.drop(list(product_type.filter(regex=\"TRIAL\")))]\n",
    "\n",
    "global product_line\n",
    "product_line = pd.read_sql_query(\"SELECT * FROM {}\".format(\"product_line\"),sales_con)\n",
    "product_line = product_line[product_line.columns.drop(list(product_line.filter(regex=\"TRIAL\")))]\n",
    "\n",
    "global sales_staff\n",
    "sales_staff = pd.read_sql_query(\"SELECT * FROM {}\".format(\"sales_staff\"),sales_con)\n",
    "sales_staff = sales_staff[sales_staff.columns.drop(list(sales_staff.filter(regex=\"TRIAL\")))]\n",
    "\n",
    "global sales_branch\n",
    "sales_branch = pd.read_sql_query(\"SELECT * FROM {}\".format(\"sales_branch\"),sales_con)\n",
    "sales_branch = sales_branch[sales_branch.columns.drop(list(sales_branch.filter(regex=\"TRIAL\")))]\n",
    "\n",
    "global retailer_site\n",
    "retailer_site = pd.read_sql_query(\"SELECT * FROM {}\".format(\"retailer_site\"),sales_con)\n",
    "retailer_site = retailer_site[retailer_site.columns.drop(list(retailer_site.filter(regex=\"TRIAL\")))]\n",
    "\n",
    "global country\n",
    "country = pd.read_sql_query(\"SELECT * FROM {}\".format(\"country\"),sales_con)\n",
    "country = country[country.columns.drop(list(country.filter(regex=\"TRIAL\")))]\n",
    "\n",
    "global order_header\n",
    "order_header = pd.read_sql_query(\"SELECT * FROM {}\".format(\"order_header\"),sales_con)\n",
    "order_header = order_header[order_header.columns.drop(list(order_header.filter(regex=\"TRIAL\")))]\n",
    "\n",
    "global order_method\n",
    "order_method = pd.read_sql_query(\"SELECT * FROM {}\".format(\"order_method\"),sales_con)\n",
    "order_method = order_method[order_method.columns.drop(list(order_method.filter(regex=\"TRIAL\")))]\n",
    "\n",
    "global order_details\n",
    "order_details = pd.read_sql_query(\"SELECT * FROM {}\".format(\"order_details\"),sales_con)\n",
    "order_details = order_details[order_details.columns.drop(list(order_details.filter(regex=\"TRIAL\")))]\n",
    "\n",
    "global returned_item\n",
    "returned_item = pd.read_sql_query(\"SELECT * FROM {}\".format(\"returned_item\"),sales_con)\n",
    "returned_item = returned_item[returned_item.columns.drop(list(returned_item.filter(regex=\"TRIAL\")))]\n",
    "\n",
    "global return_reason\n",
    "return_reason = pd.read_sql_query(\"SELECT * FROM {}\".format(\"return_reason\"),sales_con)\n",
    "return_reason = return_reason[return_reason.columns.drop(list(return_reason.filter(regex=\"TRIAL\")))]\n",
    "\n",
    "global SALES_TARGETData\n",
    "SALES_TARGETData = pd.read_sql_query(\"SELECT * FROM {}\".format(\"SALES_TARGETData\"),sales_con)\n",
    "SALES_TARGETData = SALES_TARGETData[SALES_TARGETData.columns.drop(list(SALES_TARGETData.filter(regex=\"TRIAL\")))]"
   ]
  },
  {
   "cell_type": "markdown",
   "metadata": {},
   "source": [
    "### Tabeltypes converteren"
   ]
  },
  {
   "cell_type": "markdown",
   "metadata": {},
   "source": [
    "#### GO_CRM"
   ]
  },
  {
   "cell_type": "code",
   "execution_count": 41,
   "metadata": {},
   "outputs": [
    {
     "data": {
      "text/plain": [
       "AGE_GROUP_CODE    int32\n",
       "UPPER_AGE         int32\n",
       "LOWER_AGE         int32\n",
       "dtype: object"
      ]
     },
     "metadata": {},
     "output_type": "display_data"
    },
    {
     "data": {
      "text/plain": [
       "COUNTRY_CODE             int32\n",
       "COUNTRY_EN              object\n",
       "FLAG_IMAGE              object\n",
       "SALES_TERRITORY_CODE     int32\n",
       "dtype: object"
      ]
     },
     "metadata": {},
     "output_type": "display_data"
    },
    {
     "data": {
      "text/plain": [
       "RETAILER_CODE           int32\n",
       "RETAILER_CODEMR       float64\n",
       "COMPANY_NAME           object\n",
       "RETAILER_TYPE_CODE      int32\n",
       "dtype: object"
      ]
     },
     "metadata": {},
     "output_type": "display_data"
    },
    {
     "data": {
      "text/plain": [
       "RETAILER_CONTACT_CODE      int32\n",
       "RETAILER_SITE_CODE         int32\n",
       "FIRST_NAME                object\n",
       "LAST_NAME                 object\n",
       "JOB_POSITION_EN           object\n",
       "EXTENSION                float64\n",
       "FAX                       object\n",
       "E_MAIL                    object\n",
       "GENDER                    object\n",
       "dtype: object"
      ]
     },
     "metadata": {},
     "output_type": "display_data"
    },
    {
     "data": {
      "text/plain": [
       "RETAILER_CODEMR    float64\n",
       "RETAILER_NAME       object\n",
       "ADDRESS1            object\n",
       "ADDRESS2            object\n",
       "CITY                object\n",
       "REGION              object\n",
       "POSTAL_ZONE         object\n",
       "COUNTRY_CODE         int32\n",
       "PHONE               object\n",
       "FAX                 object\n",
       "SEGMENT_CODE         int32\n",
       "dtype: object"
      ]
     },
     "metadata": {},
     "output_type": "display_data"
    },
    {
     "data": {
      "text/plain": [
       "SEGMENT_CODE            int32\n",
       "LANGUAGE               object\n",
       "SEGMENT_NAME           object\n",
       "SEGMENT_DESCRIPTION    object\n",
       "dtype: object"
      ]
     },
     "metadata": {},
     "output_type": "display_data"
    },
    {
     "data": {
      "text/plain": [
       "RETAILER_SITE_CODE     int32\n",
       "RETAILER_CODE          int32\n",
       "ADDRESS1              object\n",
       "ADDRESS2              object\n",
       "CITY                  object\n",
       "REGION                object\n",
       "POSTAL_ZONE           object\n",
       "COUNTRY_CODE           int32\n",
       "ACTIVE_INDICATOR       int32\n",
       "dtype: object"
      ]
     },
     "metadata": {},
     "output_type": "display_data"
    },
    {
     "data": {
      "text/plain": [
       "RETAILER_TYPE_CODE     int32\n",
       "RETAILER_TYPE_EN      object\n",
       "dtype: object"
      ]
     },
     "metadata": {},
     "output_type": "display_data"
    },
    {
     "data": {
      "text/plain": [
       "DEMOGRAPHIC_CODE    object\n",
       "RETAILER_CODEMR     object\n",
       "AGE_GROUP_CODE      object\n",
       "SALES_PERCENT       object\n",
       "dtype: object"
      ]
     },
     "metadata": {},
     "output_type": "display_data"
    },
    {
     "data": {
      "text/plain": [
       "SALES_TERRITORY_CODE     int32\n",
       "TERRITORY_NAME_EN       object\n",
       "dtype: object"
      ]
     },
     "metadata": {},
     "output_type": "display_data"
    }
   ],
   "source": [
    "\n",
    "go_crm = [go_crm_age_group,go_crm_country,go_crm_retailer,go_crm_retailer_contact,go_crm_retailer_headquarters,\n",
    "          go_crm_retailer_segment,go_crm_retailer_site,go_crm_retailer_type,go_crm_sales_demographic,go_crm_sales_territory]\n",
    "\n",
    "go_crm_age_group[\"AGE_GROUP_CODE\"] = go_crm_age_group[\"AGE_GROUP_CODE\"].astype(int)\n",
    "go_crm_age_group[\"LOWER_AGE\"] = go_crm_age_group[\"LOWER_AGE\"].astype(int)\n",
    "go_crm_age_group[\"UPPER_AGE\"] = go_crm_age_group[\"UPPER_AGE\"].astype(int)\n",
    "\n",
    "go_crm_country[\"COUNTRY_CODE\"] = go_crm_country[\"COUNTRY_CODE\"].astype(int)\n",
    "go_crm_country[\"SALES_TERRITORY_CODE\"] = go_crm_country[\"SALES_TERRITORY_CODE\"].astype(int)\n",
    "\n",
    "go_crm_retailer[\"RETAILER_CODE\"] = go_crm_retailer[\"RETAILER_CODE\"].astype(int)\n",
    "go_crm_retailer[\"RETAILER_CODEMR\"] = go_crm_retailer[\"RETAILER_CODEMR\"].astype(float)\n",
    "go_crm_retailer[\"RETAILER_TYPE_CODE\"] = go_crm_retailer[\"RETAILER_TYPE_CODE\"].astype(int)\n",
    "\n",
    "go_crm_retailer_contact[\"EXTENSION\"] = go_crm_retailer_contact[\"EXTENSION\"].astype(float)\n",
    "go_crm_retailer_contact['RETAILER_CONTACT_CODE'] = go_crm_retailer_contact[\"RETAILER_CONTACT_CODE\"].astype(int)\n",
    "go_crm_retailer_contact[\"RETAILER_SITE_CODE\"] = go_crm_retailer_contact[\"RETAILER_SITE_CODE\"].astype(int)\n",
    "\n",
    "go_crm_retailer_headquarters[\"RETAILER_CODEMR\"] = go_crm_retailer_headquarters[\"RETAILER_CODEMR\"].astype(float)\n",
    "go_crm_retailer_headquarters[\"COUNTRY_CODE\"] = go_crm_retailer_headquarters[\"COUNTRY_CODE\"].astype(int)\n",
    "go_crm_retailer_headquarters[\"SEGMENT_CODE\"] = go_crm_retailer_headquarters[\"SEGMENT_CODE\"].astype(int)\n",
    "\n",
    "go_crm_retailer_segment[\"SEGMENT_CODE\"] = go_crm_retailer_segment[\"SEGMENT_CODE\"].astype(int)\n",
    "\n",
    "go_crm_retailer_site[\"RETAILER_CODE\"] = go_crm_retailer_site[\"RETAILER_CODE\"].astype(int)\n",
    "go_crm_retailer_site[\"RETAILER_SITE_CODE\"] = go_crm_retailer_site[\"RETAILER_SITE_CODE\"].astype(int)\n",
    "go_crm_retailer_site[\"COUNTRY_CODE\"] = go_crm_retailer_site[\"COUNTRY_CODE\"].astype(int)\n",
    "go_crm_retailer_site[\"ACTIVE_INDICATOR\"] = go_crm_retailer_site[\"ACTIVE_INDICATOR\"].astype(int)\n",
    "\n",
    "go_crm_retailer_type[\"RETAILER_TYPE_CODE\"] = go_crm_retailer_type[\"RETAILER_TYPE_CODE\"].astype(int)\n",
    "\n",
    "go_crm_sales_territory[\"SALES_TERRITORY_CODE\"] = go_crm_sales_territory[\"SALES_TERRITORY_CODE\"].astype(int)\n",
    "\n",
    "\n",
    "for table in go_crm:\n",
    "    display(table.dtypes)"
   ]
  },
  {
   "cell_type": "markdown",
   "metadata": {},
   "source": [
    "#### GO_STAFF"
   ]
  },
  {
   "cell_type": "code",
   "execution_count": 42,
   "metadata": {},
   "outputs": [
    {
     "name": "stderr",
     "output_type": "stream",
     "text": [
      "C:\\Users\\arcde\\AppData\\Local\\Temp\\ipykernel_13908\\865043711.py:12: UserWarning: Could not infer format, so each element will be parsed individually, falling back to `dateutil`. To ensure parsing is consistent and as-expected, please specify a format.\n",
      "  go_staff_staff[\"DATE_HIRED\"] = pd.to_datetime(go_staff_staff[\"DATE_HIRED\"])\n"
     ]
    },
    {
     "data": {
      "text/plain": [
       "COURSE_CODE            int32\n",
       "COURSE_DESCRIPTION    object\n",
       "dtype: object"
      ]
     },
     "metadata": {},
     "output_type": "display_data"
    },
    {
     "data": {
      "text/plain": [
       "SALES_BRANCH_CODE     int32\n",
       "ADDRESS1             object\n",
       "ADDRESS2             object\n",
       "CITY                 object\n",
       "REGION               object\n",
       "POSTAL_ZONE          object\n",
       "COUNTRY_CODE          int32\n",
       "dtype: object"
      ]
     },
     "metadata": {},
     "output_type": "display_data"
    },
    {
     "data": {
      "text/plain": [
       "SALES_STAFF_CODE              int32\n",
       "FIRST_NAME                   object\n",
       "LAST_NAME                    object\n",
       "POSITION_EN                  object\n",
       "WORK_PHONE                   object\n",
       "EXTENSION                   float64\n",
       "FAX                          object\n",
       "EMAIL                        object\n",
       "DATE_HIRED           datetime64[ns]\n",
       "SALES_BRANCH_CODE             int32\n",
       "MANAGER_CODE                  int32\n",
       "dtype: object"
      ]
     },
     "metadata": {},
     "output_type": "display_data"
    },
    {
     "data": {
      "text/plain": [
       "YEAR                      int32\n",
       "SALES_STAFF_CODE          int32\n",
       "SATISFACTION_TYPE_CODE    int32\n",
       "dtype: object"
      ]
     },
     "metadata": {},
     "output_type": "display_data"
    },
    {
     "data": {
      "text/plain": [
       "SATISFACTION_TYPE_CODE            int32\n",
       "SATISFACTION_TYPE_DESCRIPTION    object\n",
       "dtype: object"
      ]
     },
     "metadata": {},
     "output_type": "display_data"
    },
    {
     "data": {
      "text/plain": [
       "YEAR                int32\n",
       "SALES_STAFF_CODE    int32\n",
       "COURSE_CODE         int32\n",
       "dtype: object"
      ]
     },
     "metadata": {},
     "output_type": "display_data"
    }
   ],
   "source": [
    "go_staff = [go_staff_course, go_staff_sales_branch,go_staff_staff,go_staff_satisfaction, go_staff_satisfaction_type, go_staff_training]\n",
    "\n",
    "go_staff_course[\"COURSE_CODE\"] = go_staff_course[\"COURSE_CODE\"].astype(int)\n",
    "\n",
    "go_staff_sales_branch[\"COUNTRY_CODE\"] = go_staff_sales_branch[\"COUNTRY_CODE\"].astype(int)\n",
    "go_staff_sales_branch[\"SALES_BRANCH_CODE\"] = go_staff_sales_branch[\"SALES_BRANCH_CODE\"].astype(int)\n",
    "\n",
    "go_staff_staff[\"SALES_STAFF_CODE\"] = go_staff_staff[\"SALES_STAFF_CODE\"].astype(int)\n",
    "go_staff_staff[\"SALES_BRANCH_CODE\"] = go_staff_staff[\"SALES_BRANCH_CODE\"].astype(int)\n",
    "go_staff_staff[\"MANAGER_CODE\"] = go_staff_staff[\"MANAGER_CODE\"].astype(int)\n",
    "go_staff_staff[\"EXTENSION\"] = go_staff_staff[\"EXTENSION\"].astype(float)\n",
    "go_staff_staff[\"DATE_HIRED\"] = pd.to_datetime(go_staff_staff[\"DATE_HIRED\"])\n",
    "\n",
    "go_staff_satisfaction[\"SALES_STAFF_CODE\"] = go_staff_satisfaction[\"SALES_STAFF_CODE\"].astype(int)\n",
    "go_staff_satisfaction[\"SATISFACTION_TYPE_CODE\"] = go_staff_satisfaction[\"SATISFACTION_TYPE_CODE\"].astype(int)\n",
    "# wat voor datatype for Year? Kijken naar dimensiewaardes\n",
    "# losse gedeeltes van datetimes (eg. dag, jaar) opslaan als integers\n",
    "go_staff_satisfaction[\"YEAR\"] = go_staff_satisfaction[\"YEAR\"].astype(int)\n",
    "\n",
    "go_staff_satisfaction_type[\"SATISFACTION_TYPE_CODE\"] = go_staff_satisfaction_type[\"SATISFACTION_TYPE_CODE\"].astype(int)\n",
    "\n",
    "go_staff_training[\"SALES_STAFF_CODE\"] = go_staff_training[\"SALES_STAFF_CODE\"].astype(int)\n",
    "go_staff_training[\"COURSE_CODE\"] = go_staff_training[\"COURSE_CODE\"].astype(int)\n",
    "go_staff_training[\"YEAR\"] = go_staff_training[\"YEAR\"].astype(int)\n",
    "\n",
    "\n",
    "for table in go_staff:\n",
    "    # table = table.drop(\"TRIAL633\", axis=1)\n",
    "    table = table[table.columns.drop(list(table.filter(regex=\"TRIAL\")))]\n",
    "    display(table.dtypes)\n",
    "\n"
   ]
  },
  {
   "cell_type": "markdown",
   "metadata": {},
   "source": [
    "#### GO_SALES"
   ]
  },
  {
   "cell_type": "code",
   "execution_count": 43,
   "metadata": {},
   "outputs": [
    {
     "name": "stderr",
     "output_type": "stream",
     "text": [
      "C:\\Users\\arcde\\AppData\\Local\\Temp\\ipykernel_13908\\933722837.py:34: UserWarning: Parsing dates in %d-%m-%Y format when dayfirst=False (the default) was specified. Pass `dayfirst=True` or specify a format to silence this warning.\n",
      "  product[\"INTRODUCTION_DATE\"] = pd.to_datetime(product[\"INTRODUCTION_DATE\"])\n",
      "C:\\Users\\arcde\\AppData\\Local\\Temp\\ipykernel_13908\\933722837.py:54: UserWarning: Parsing dates in %d-%m-%Y format when dayfirst=False (the default) was specified. Pass `dayfirst=True` or specify a format to silence this warning.\n",
      "  sales_staff[\"DATE_HIRED\"] = pd.to_datetime(sales_staff[\"DATE_HIRED\"])\n"
     ]
    },
    {
     "data": {
      "text/plain": [
       "Id                   int32\n",
       "SALES_STAFF_CODE     int32\n",
       "SALES_YEAR          object\n",
       "SALES_PERIOD         int32\n",
       "RETAILER_NAME       object\n",
       "PRODUCT_NUMBER       int32\n",
       "SALES_TARGET         int32\n",
       "RETAILER_CODE        int32\n",
       "dtype: object"
      ]
     },
     "metadata": {},
     "output_type": "display_data"
    },
    {
     "data": {
      "text/plain": [
       "COUNTRY_CODE      int32\n",
       "COUNTRY          object\n",
       "LANGUAGE         object\n",
       "CURRENCY_NAME    object\n",
       "dtype: object"
      ]
     },
     "metadata": {},
     "output_type": "display_data"
    },
    {
     "data": {
      "text/plain": [
       "ORDER_DETAIL_CODE      int32\n",
       "ORDER_NUMBER           int32\n",
       "PRODUCT_NUMBER         int32\n",
       "QUANTITY               int32\n",
       "UNIT_COST            float64\n",
       "UNIT_PRICE           float64\n",
       "UNIT_SALE_PRICE      float64\n",
       "dtype: object"
      ]
     },
     "metadata": {},
     "output_type": "display_data"
    },
    {
     "data": {
      "text/plain": [
       "ORDER_NUMBER                      int32\n",
       "RETAILER_NAME                    object\n",
       "RETAILER_SITE_CODE                int32\n",
       "RETAILER_CONTACT_CODE             int32\n",
       "SALES_STAFF_CODE                  int32\n",
       "SALES_BRANCH_CODE                 int32\n",
       "ORDER_DATE               datetime64[ns]\n",
       "ORDER_METHOD_CODE                 int32\n",
       "dtype: object"
      ]
     },
     "metadata": {},
     "output_type": "display_data"
    },
    {
     "data": {
      "text/plain": [
       "ORDER_METHOD_CODE     int32\n",
       "ORDER_METHOD_EN      object\n",
       "dtype: object"
      ]
     },
     "metadata": {},
     "output_type": "display_data"
    },
    {
     "data": {
      "text/plain": [
       "PRODUCT_NUMBER                int32\n",
       "INTRODUCTION_DATE    datetime64[ns]\n",
       "PRODUCT_TYPE_CODE             int32\n",
       "PRODUCTION_COST             float64\n",
       "MARGIN                      float64\n",
       "PRODUCT_IMAGE                object\n",
       "LANGUAGE                     object\n",
       "PRODUCT_NAME                 object\n",
       "DESCRIPTION                  object\n",
       "dtype: object"
      ]
     },
     "metadata": {},
     "output_type": "display_data"
    },
    {
     "data": {
      "text/plain": [
       "PRODUCT_LINE_CODE     int32\n",
       "PRODUCT_LINE_EN      object\n",
       "dtype: object"
      ]
     },
     "metadata": {},
     "output_type": "display_data"
    },
    {
     "data": {
      "text/plain": [
       "PRODUCT_TYPE_CODE     int32\n",
       "PRODUCT_LINE_CODE     int32\n",
       "PRODUCT_TYPE_EN      object\n",
       "dtype: object"
      ]
     },
     "metadata": {},
     "output_type": "display_data"
    },
    {
     "data": {
      "text/plain": [
       "RETURN_CODE                    int32\n",
       "RETURN_DATE           datetime64[ns]\n",
       "ORDER_DETAIL_CODE              int32\n",
       "RETURN_REASON_CODE             int32\n",
       "RETURN_QUANTITY                int32\n",
       "dtype: object"
      ]
     },
     "metadata": {},
     "output_type": "display_data"
    },
    {
     "data": {
      "text/plain": [
       "RETURN_REASON_CODE        int32\n",
       "RETURN_DESCRIPTION_EN    object\n",
       "dtype: object"
      ]
     },
     "metadata": {},
     "output_type": "display_data"
    },
    {
     "data": {
      "text/plain": [
       "SALES_STAFF_CODE              int32\n",
       "FIRST_NAME                   object\n",
       "LAST_NAME                    object\n",
       "POSITION_EN                  object\n",
       "WORK_PHONE                   object\n",
       "EXTENSION                   float64\n",
       "FAX                          object\n",
       "EMAIL                        object\n",
       "DATE_HIRED           datetime64[ns]\n",
       "SALES_BRANCH_CODE             int32\n",
       "dtype: object"
      ]
     },
     "metadata": {},
     "output_type": "display_data"
    },
    {
     "data": {
      "text/plain": [
       "SALES_BRANCH_CODE     int32\n",
       "ADDRESS1             object\n",
       "ADDRESS2             object\n",
       "CITY                 object\n",
       "REGION               object\n",
       "POSTAL_ZONE          object\n",
       "COUNTRY_CODE          int32\n",
       "dtype: object"
      ]
     },
     "metadata": {},
     "output_type": "display_data"
    },
    {
     "data": {
      "text/plain": [
       "RETAILER_SITE_CODE     int32\n",
       "RETAILER_CODE          int32\n",
       "ADDRESS1              object\n",
       "ADDRESS2              object\n",
       "CITY                  object\n",
       "REGION                object\n",
       "POSTAL_ZONE           object\n",
       "COUNTRY_CODE           int32\n",
       "ACTIVE_INDICATOR       int32\n",
       "dtype: object"
      ]
     },
     "metadata": {},
     "output_type": "display_data"
    }
   ],
   "source": [
    "go_sales = [SALES_TARGETData,country,order_details,order_header,\n",
    "            order_method,product,product_line,product_type,returned_item,\n",
    "            return_reason, sales_staff,sales_branch,retailer_site]\n",
    "\n",
    "SALES_TARGETData[\"Id\"] = SALES_TARGETData[\"Id\"].astype(int)\n",
    "SALES_TARGETData[\"SALES_STAFF_CODE\"] = SALES_TARGETData[\"SALES_STAFF_CODE\"].astype(int)\n",
    "SALES_TARGETData[\"SALES_PERIOD\"] = SALES_TARGETData[\"SALES_PERIOD\"].astype(int)\n",
    "SALES_TARGETData[\"PRODUCT_NUMBER\"] = SALES_TARGETData[\"PRODUCT_NUMBER\"].astype(int)\n",
    "SALES_TARGETData[\"SALES_TARGET\"] = SALES_TARGETData[\"SALES_TARGET\"].astype(int)\n",
    "SALES_TARGETData[\"RETAILER_CODE\"] = SALES_TARGETData[\"RETAILER_CODE\"].astype(int)\n",
    "# datatype voor sales_year ?\n",
    "\n",
    "country[\"COUNTRY_CODE\"] = country[\"COUNTRY_CODE\"].astype(int)\n",
    "\n",
    "order_details[\"ORDER_DETAIL_CODE\"] = order_details[\"ORDER_DETAIL_CODE\"].astype(int)\n",
    "order_details[\"ORDER_NUMBER\"] = order_details[\"ORDER_NUMBER\"].astype(int)\n",
    "order_details[\"PRODUCT_NUMBER\"] = order_details[\"PRODUCT_NUMBER\"].astype(int)\n",
    "order_details[\"QUANTITY\"] = order_details[\"QUANTITY\"].astype(int)\n",
    "order_details[\"UNIT_COST\"] = order_details[\"UNIT_COST\"].apply(float)\n",
    "order_details[\"UNIT_PRICE\"] = order_details[\"UNIT_PRICE\"].apply(float)\n",
    "order_details[\"UNIT_SALE_PRICE\"] = order_details[\"UNIT_SALE_PRICE\"].apply(float)\n",
    "\n",
    "order_header[\"ORDER_NUMBER\"] = order_header[\"ORDER_NUMBER\"].astype(int)\n",
    "order_header[\"RETAILER_SITE_CODE\"] = order_header[\"RETAILER_SITE_CODE\"].astype(int)\n",
    "order_header[\"RETAILER_CONTACT_CODE\"] = order_header[\"RETAILER_CONTACT_CODE\"].astype(int)\n",
    "order_header[\"SALES_STAFF_CODE\"] = order_header[\"SALES_STAFF_CODE\"].astype(int)\n",
    "order_header[\"SALES_BRANCH_CODE\"] = order_header[\"SALES_BRANCH_CODE\"].astype(int)\n",
    "order_header[\"ORDER_DATE\"] = pd.to_datetime(order_header[\"ORDER_DATE\"])\n",
    "order_header[\"ORDER_METHOD_CODE\"] = order_header[\"ORDER_METHOD_CODE\"].astype(int)\n",
    "\n",
    "order_method[\"ORDER_METHOD_CODE\"] = order_method[\"ORDER_METHOD_CODE\"].astype(int)\n",
    "\n",
    "product[\"PRODUCT_NUMBER\"] = product[\"PRODUCT_NUMBER\"].astype(int)\n",
    "product[\"INTRODUCTION_DATE\"] = pd.to_datetime(product[\"INTRODUCTION_DATE\"])\n",
    "product[\"PRODUCT_TYPE_CODE\"] = product[\"PRODUCT_TYPE_CODE\"].astype(int)\n",
    "product[\"PRODUCTION_COST\"] = product[\"PRODUCTION_COST\"].astype(float)\n",
    "product[\"MARGIN\"] = product[\"MARGIN\"].astype(float)\n",
    "\n",
    "product_line[\"PRODUCT_LINE_CODE\"] = product_line[\"PRODUCT_LINE_CODE\"].astype(int)\n",
    "\n",
    "product_type[\"PRODUCT_LINE_CODE\"] = product_type[\"PRODUCT_LINE_CODE\"].astype(int)\n",
    "product_type[\"PRODUCT_TYPE_CODE\"] = product_type[\"PRODUCT_TYPE_CODE\"].astype(int)\n",
    "\n",
    "returned_item[\"RETURN_CODE\"] = returned_item[\"RETURN_CODE\"].astype(int)\n",
    "returned_item[\"RETURN_DATE\"] = pd.to_datetime(returned_item[\"RETURN_DATE\"], format=\"%d-%m-%Y %H:%M:%S\")\n",
    "returned_item[\"ORDER_DETAIL_CODE\"] = returned_item[\"ORDER_DETAIL_CODE\"].astype(int)\n",
    "returned_item[\"RETURN_REASON_CODE\"] = returned_item[\"RETURN_REASON_CODE\"].astype(int)\n",
    "returned_item[\"RETURN_QUANTITY\"] = returned_item[\"RETURN_QUANTITY\"].astype(int)\n",
    "\n",
    "return_reason[\"RETURN_REASON_CODE\"] = return_reason[\"RETURN_REASON_CODE\"].astype(int)\n",
    "\n",
    "sales_staff[\"SALES_STAFF_CODE\"] = sales_staff[\"SALES_STAFF_CODE\"].astype(int)\n",
    "sales_staff[\"EXTENSION\"] = sales_staff[\"EXTENSION\"].astype(float)\n",
    "sales_staff[\"DATE_HIRED\"] = pd.to_datetime(sales_staff[\"DATE_HIRED\"])\n",
    "sales_staff[\"SALES_BRANCH_CODE\"] = sales_staff[\"SALES_BRANCH_CODE\"].astype(int) \n",
    "\n",
    "sales_branch[\"SALES_BRANCH_CODE\"] = sales_branch[\"SALES_BRANCH_CODE\"].astype(int)\n",
    "sales_branch[\"COUNTRY_CODE\"] = sales_branch[\"COUNTRY_CODE\"].astype(int)\n",
    "\n",
    "retailer_site[\"RETAILER_SITE_CODE\"] = retailer_site[\"RETAILER_SITE_CODE\"].astype(int)\n",
    "retailer_site[\"RETAILER_CODE\"] = retailer_site[\"RETAILER_CODE\"].astype(int)\n",
    "retailer_site[\"COUNTRY_CODE\"] = retailer_site[\"COUNTRY_CODE\"].astype(int)\n",
    "retailer_site[\"ACTIVE_INDICATOR\"] = retailer_site[\"ACTIVE_INDICATOR\"].astype(int)\n",
    "\n",
    "for table in go_sales:\n",
    "    display(table.dtypes)\n",
    "    \n"
   ]
  },
  {
   "cell_type": "markdown",
   "metadata": {},
   "source": [
    "### Data opschonen"
   ]
  },
  {
   "cell_type": "code",
   "execution_count": 44,
   "metadata": {},
   "outputs": [],
   "source": [
    "# De bedoeling hier is om ervoor te zorgen dat data zich in de goede kolommen bevindt.\n",
    "# Dus geen plaatsnaam waar een prijs verwacht wordt.\n",
    "\n",
    "#10-3-2024 - De nieuwe SQLite database bestanden dat op brightspace staan lijken schoon aangeleverd te zijn."
   ]
  },
  {
   "cell_type": "markdown",
   "metadata": {},
   "source": [
    "## Data samenvoegen"
   ]
  },
  {
   "cell_type": "markdown",
   "metadata": {},
   "source": [
    "### Dimensietabellen"
   ]
  },
  {
   "cell_type": "markdown",
   "metadata": {},
   "source": [
    "#### Product\n",
    "Samengestelde dimensietabel bestaande uit Product, Product_Type, Product_Line"
   ]
  },
  {
   "cell_type": "code",
   "execution_count": 45,
   "metadata": {},
   "outputs": [],
   "source": [
    "produc_types_content = pd.merge(product_type,product_line, left_on=\"PRODUCT_LINE_CODE\", how=\"inner\", right_on=\"PRODUCT_LINE_CODE\")\n",
    "\n",
    "PRODUCT_REGISTRY = product.merge(produc_types_content, left_on=\"PRODUCT_TYPE_CODE\", how=\"inner\", right_on=\"PRODUCT_TYPE_CODE\")\n",
    "\n",
    "# display(PRODUCT_REGISTRY)"
   ]
  },
  {
   "cell_type": "markdown",
   "metadata": {},
   "source": [
    "#### Sales_Staff\n",
    "Samengesteld uit go_sales.sales_staff, go_staff.sales_staff"
   ]
  },
  {
   "cell_type": "code",
   "execution_count": 46,
   "metadata": {},
   "outputs": [],
   "source": [
    "sales_staff_combined = pd.concat([sales_staff, go_staff_staff], ignore_index=True)\n",
    "sales_staff_combined = sales_staff_combined.sort_values(by=[\"SALES_STAFF_CODE\"])\n",
    "# inplace=False om een een nieuwe dataframe te returnen, anders gaat het sales_staff aanpassen en krijg je niks terug\n",
    "sales_staff_combined = sales_staff_combined.dropna(subset=[\"MANAGER_CODE\"], inplace=False)\n",
    "\n",
    "# display(sales_staff_combined)"
   ]
  },
  {
   "cell_type": "markdown",
   "metadata": {},
   "source": [
    "#### Sales_Branch\n",
    "Samengesteld uit go_staff_sales_branch en go_sales_sales_branch"
   ]
  },
  {
   "cell_type": "code",
   "execution_count": 47,
   "metadata": {},
   "outputs": [],
   "source": [
    "sales_branch_combined = pd.concat([sales_branch, go_staff_sales_branch], ignore_index=True)\n",
    "sales_branch_combined = sales_branch_combined.drop_duplicates()\n",
    "sales_branch_combined[\"POSTAL_ADDRESS\"] = sales_branch_combined[[\"ADDRESS1\", \"POSTAL_ZONE\"]].agg( \", \".join, axis=1)\n",
    "\n",
    "# display(sales_branch_combined)"
   ]
  },
  {
   "cell_type": "markdown",
   "metadata": {},
   "source": [
    "#### Retailer\n",
    "Samengevoegde tabel, bestaat uit go_crm.Retailer_Contact, Retailer_Site, Retailer, Retailer_Type, Country, Sales_Territory"
   ]
  },
  {
   "cell_type": "code",
   "execution_count": 48,
   "metadata": {},
   "outputs": [
    {
     "data": {
      "text/plain": [
       "RETAILER_SITE_CODE       391\n",
       "RETAILER_CODE            391\n",
       "ADDRESS1                 391\n",
       "ADDRESS2                 105\n",
       "CITY                     391\n",
       "REGION                   251\n",
       "POSTAL_ZONE              390\n",
       "COUNTRY_CODE             391\n",
       "ACTIVE_INDICATOR         391\n",
       "COUNTRY_EN               391\n",
       "FLAG_IMAGE               391\n",
       "SALES_TERRITORY_CODE     391\n",
       "TERRITORY_NAME_EN        391\n",
       "RETAILER_CONTACT_CODE    391\n",
       "FIRST_NAME               391\n",
       "LAST_NAME                391\n",
       "JOB_POSITION_EN          391\n",
       "EXTENSION                 70\n",
       "FAX                      390\n",
       "E_MAIL                   386\n",
       "GENDER                   391\n",
       "RETAILER_CODEMR          347\n",
       "COMPANY_NAME             391\n",
       "RETAILER_TYPE_CODE       391\n",
       "RETAILER_TYPE_EN         391\n",
       "dtype: int64"
      ]
     },
     "metadata": {},
     "output_type": "display_data"
    }
   ],
   "source": [
    "# combineer de verschillende retailer_site tabellen en drop duplicates\n",
    "retailer_site_combined = pd.concat([retailer_site, go_crm_retailer_site], ignore_index=True)\n",
    "retailer_site_combined = retailer_site_combined.drop_duplicates()\n",
    "\n",
    "# merge pad 1 : Retailer_Site --> Country --> Sales_Territory\n",
    "country_content = pd.merge(go_crm_country, go_crm_sales_territory, left_on=\"SALES_TERRITORY_CODE\", how=\"inner\", right_on=\"SALES_TERRITORY_CODE\")\n",
    "retailer = pd.merge(retailer_site_combined, country_content, left_on=\"COUNTRY_CODE\", how=\"inner\", right_on=\"COUNTRY_CODE\")\n",
    "\n",
    "# merge pad 2 : retailer_site --> retailer_contact\n",
    "retailer = pd.merge(retailer, go_crm_retailer_contact, left_on=\"RETAILER_SITE_CODE\", how=\"inner\", right_on=\"RETAILER_SITE_CODE\")\n",
    "\n",
    "# merge pad 3 : retailer_site --> retailer\n",
    "retailer = pd.merge(retailer, go_crm_retailer, left_on=\"RETAILER_CODE\", how=\"inner\", right_on=\"RETAILER_CODE\")\n",
    "retailer = pd.merge(retailer, go_crm_retailer_type, left_on=\"RETAILER_TYPE_CODE\", how=\"inner\", right_on=\"RETAILER_TYPE_CODE\")\n",
    "\n",
    "display(retailer.count())"
   ]
  },
  {
   "cell_type": "markdown",
   "metadata": {},
   "source": [
    "#### Return_Reason\n",
    "\n",
    "Deze dimensietabel kan 1 op 1 overgenomen worden. Er moet nog gekeken worden of dimensies die in andere dimensies zijn samengevoegd ook apart opgenomen moeten worden."
   ]
  },
  {
   "cell_type": "markdown",
   "metadata": {},
   "source": [
    "#### Order_Method\n",
    "\n",
    "Deze dimensietabel kan 1 op 1 overgenomen worden. Er moet nog gekeken worden of dimensies die in andere dimensies zijn samengevoegd ook apart opgenomen moeten worden."
   ]
  },
  {
   "cell_type": "markdown",
   "metadata": {},
   "source": [
    "#### Date"
   ]
  },
  {
   "cell_type": "code",
   "execution_count": null,
   "metadata": {},
   "outputs": [],
   "source": []
  },
  {
   "cell_type": "markdown",
   "metadata": {},
   "source": [
    "#### Satisfaction"
   ]
  },
  {
   "cell_type": "markdown",
   "metadata": {},
   "source": [
    "### Feittabellen samenstellen"
   ]
  },
  {
   "cell_type": "markdown",
   "metadata": {},
   "source": [
    "#### Order_Details \n",
    "Feit #1, #2 - Geaggregeerd feit Order_Details en Order_Header"
   ]
  },
  {
   "cell_type": "code",
   "execution_count": 49,
   "metadata": {},
   "outputs": [
    {
     "data": {
      "text/html": [
       "<div>\n",
       "<style scoped>\n",
       "    .dataframe tbody tr th:only-of-type {\n",
       "        vertical-align: middle;\n",
       "    }\n",
       "\n",
       "    .dataframe tbody tr th {\n",
       "        vertical-align: top;\n",
       "    }\n",
       "\n",
       "    .dataframe thead th {\n",
       "        text-align: right;\n",
       "    }\n",
       "</style>\n",
       "<table border=\"1\" class=\"dataframe\">\n",
       "  <thead>\n",
       "    <tr style=\"text-align: right;\">\n",
       "      <th></th>\n",
       "      <th>ORDER_NUMBER</th>\n",
       "      <th>RETAILER_NAME</th>\n",
       "      <th>RETAILER_SITE_CODE</th>\n",
       "      <th>RETAILER_CONTACT_CODE</th>\n",
       "      <th>SALES_STAFF_CODE</th>\n",
       "      <th>SALES_BRANCH_CODE</th>\n",
       "      <th>ORDER_DATE</th>\n",
       "      <th>ORDER_METHOD_CODE</th>\n",
       "      <th>ORDER_DETAIL_CODE</th>\n",
       "      <th>PRODUCT_NUMBER</th>\n",
       "      <th>QUANTITY</th>\n",
       "      <th>UNIT_COST</th>\n",
       "      <th>UNIT_PRICE</th>\n",
       "      <th>UNIT_SALE_PRICE</th>\n",
       "      <th>ORDER_METHOD_EN</th>\n",
       "      <th>TURNOVER</th>\n",
       "      <th>PROFIT</th>\n",
       "      <th>DISCOUNT_PERCENTAGE</th>\n",
       "    </tr>\n",
       "  </thead>\n",
       "  <tbody>\n",
       "    <tr>\n",
       "      <th>0</th>\n",
       "      <td>1153</td>\n",
       "      <td>Ultra Sports</td>\n",
       "      <td>4</td>\n",
       "      <td>6</td>\n",
       "      <td>50</td>\n",
       "      <td>18</td>\n",
       "      <td>2020-04-14</td>\n",
       "      <td>7</td>\n",
       "      <td>47747</td>\n",
       "      <td>2</td>\n",
       "      <td>100</td>\n",
       "      <td>9.64</td>\n",
       "      <td>12.53</td>\n",
       "      <td>11.81</td>\n",
       "      <td>Sales visit</td>\n",
       "      <td>1181.00</td>\n",
       "      <td>217.00</td>\n",
       "      <td>94.25</td>\n",
       "    </tr>\n",
       "    <tr>\n",
       "      <th>1</th>\n",
       "      <td>1153</td>\n",
       "      <td>Ultra Sports</td>\n",
       "      <td>4</td>\n",
       "      <td>6</td>\n",
       "      <td>50</td>\n",
       "      <td>18</td>\n",
       "      <td>2020-04-14</td>\n",
       "      <td>7</td>\n",
       "      <td>47994</td>\n",
       "      <td>32</td>\n",
       "      <td>254</td>\n",
       "      <td>18.25</td>\n",
       "      <td>27.37</td>\n",
       "      <td>25.10</td>\n",
       "      <td>Sales visit</td>\n",
       "      <td>6375.40</td>\n",
       "      <td>1739.90</td>\n",
       "      <td>91.71</td>\n",
       "    </tr>\n",
       "    <tr>\n",
       "      <th>2</th>\n",
       "      <td>1153</td>\n",
       "      <td>Ultra Sports</td>\n",
       "      <td>4</td>\n",
       "      <td>6</td>\n",
       "      <td>50</td>\n",
       "      <td>18</td>\n",
       "      <td>2020-04-14</td>\n",
       "      <td>7</td>\n",
       "      <td>48015</td>\n",
       "      <td>35</td>\n",
       "      <td>114</td>\n",
       "      <td>19.67</td>\n",
       "      <td>26.54</td>\n",
       "      <td>24.82</td>\n",
       "      <td>Sales visit</td>\n",
       "      <td>2829.48</td>\n",
       "      <td>587.10</td>\n",
       "      <td>93.52</td>\n",
       "    </tr>\n",
       "    <tr>\n",
       "      <th>3</th>\n",
       "      <td>1153</td>\n",
       "      <td>Ultra Sports</td>\n",
       "      <td>4</td>\n",
       "      <td>6</td>\n",
       "      <td>50</td>\n",
       "      <td>18</td>\n",
       "      <td>2020-04-14</td>\n",
       "      <td>7</td>\n",
       "      <td>48022</td>\n",
       "      <td>36</td>\n",
       "      <td>130</td>\n",
       "      <td>21.03</td>\n",
       "      <td>34.90</td>\n",
       "      <td>31.44</td>\n",
       "      <td>Sales visit</td>\n",
       "      <td>4087.20</td>\n",
       "      <td>1353.30</td>\n",
       "      <td>90.09</td>\n",
       "    </tr>\n",
       "    <tr>\n",
       "      <th>4</th>\n",
       "      <td>1153</td>\n",
       "      <td>Ultra Sports</td>\n",
       "      <td>4</td>\n",
       "      <td>6</td>\n",
       "      <td>50</td>\n",
       "      <td>18</td>\n",
       "      <td>2020-04-14</td>\n",
       "      <td>7</td>\n",
       "      <td>48049</td>\n",
       "      <td>39</td>\n",
       "      <td>74</td>\n",
       "      <td>42.33</td>\n",
       "      <td>67.73</td>\n",
       "      <td>61.38</td>\n",
       "      <td>Sales visit</td>\n",
       "      <td>4542.12</td>\n",
       "      <td>1409.70</td>\n",
       "      <td>90.62</td>\n",
       "    </tr>\n",
       "    <tr>\n",
       "      <th>...</th>\n",
       "      <td>...</td>\n",
       "      <td>...</td>\n",
       "      <td>...</td>\n",
       "      <td>...</td>\n",
       "      <td>...</td>\n",
       "      <td>...</td>\n",
       "      <td>...</td>\n",
       "      <td>...</td>\n",
       "      <td>...</td>\n",
       "      <td>...</td>\n",
       "      <td>...</td>\n",
       "      <td>...</td>\n",
       "      <td>...</td>\n",
       "      <td>...</td>\n",
       "      <td>...</td>\n",
       "      <td>...</td>\n",
       "      <td>...</td>\n",
       "      <td>...</td>\n",
       "    </tr>\n",
       "    <tr>\n",
       "      <th>43058</th>\n",
       "      <td>9479</td>\n",
       "      <td>Preben's T°y</td>\n",
       "      <td>338</td>\n",
       "      <td>329</td>\n",
       "      <td>27</td>\n",
       "      <td>15</td>\n",
       "      <td>2022-02-02</td>\n",
       "      <td>5</td>\n",
       "      <td>110788</td>\n",
       "      <td>52</td>\n",
       "      <td>64</td>\n",
       "      <td>19.00</td>\n",
       "      <td>38.00</td>\n",
       "      <td>33.25</td>\n",
       "      <td>Web</td>\n",
       "      <td>2128.00</td>\n",
       "      <td>912.00</td>\n",
       "      <td>87.50</td>\n",
       "    </tr>\n",
       "    <tr>\n",
       "      <th>43059</th>\n",
       "      <td>9479</td>\n",
       "      <td>Preben's T°y</td>\n",
       "      <td>338</td>\n",
       "      <td>329</td>\n",
       "      <td>27</td>\n",
       "      <td>15</td>\n",
       "      <td>2022-02-02</td>\n",
       "      <td>5</td>\n",
       "      <td>110816</td>\n",
       "      <td>56</td>\n",
       "      <td>24</td>\n",
       "      <td>9.00</td>\n",
       "      <td>18.00</td>\n",
       "      <td>15.75</td>\n",
       "      <td>Web</td>\n",
       "      <td>378.00</td>\n",
       "      <td>162.00</td>\n",
       "      <td>87.50</td>\n",
       "    </tr>\n",
       "    <tr>\n",
       "      <th>43060</th>\n",
       "      <td>9479</td>\n",
       "      <td>Preben's T°y</td>\n",
       "      <td>338</td>\n",
       "      <td>329</td>\n",
       "      <td>27</td>\n",
       "      <td>15</td>\n",
       "      <td>2022-02-02</td>\n",
       "      <td>5</td>\n",
       "      <td>110827</td>\n",
       "      <td>57</td>\n",
       "      <td>40</td>\n",
       "      <td>40.00</td>\n",
       "      <td>80.00</td>\n",
       "      <td>70.00</td>\n",
       "      <td>Web</td>\n",
       "      <td>2800.00</td>\n",
       "      <td>1200.00</td>\n",
       "      <td>87.50</td>\n",
       "    </tr>\n",
       "    <tr>\n",
       "      <th>43061</th>\n",
       "      <td>9479</td>\n",
       "      <td>Preben's T°y</td>\n",
       "      <td>338</td>\n",
       "      <td>329</td>\n",
       "      <td>27</td>\n",
       "      <td>15</td>\n",
       "      <td>2022-02-02</td>\n",
       "      <td>5</td>\n",
       "      <td>110914</td>\n",
       "      <td>78</td>\n",
       "      <td>32</td>\n",
       "      <td>79.19</td>\n",
       "      <td>99.00</td>\n",
       "      <td>94.05</td>\n",
       "      <td>Web</td>\n",
       "      <td>3009.60</td>\n",
       "      <td>475.52</td>\n",
       "      <td>95.00</td>\n",
       "    </tr>\n",
       "    <tr>\n",
       "      <th>43062</th>\n",
       "      <td>9479</td>\n",
       "      <td>Preben's T°y</td>\n",
       "      <td>338</td>\n",
       "      <td>329</td>\n",
       "      <td>27</td>\n",
       "      <td>15</td>\n",
       "      <td>2022-02-02</td>\n",
       "      <td>5</td>\n",
       "      <td>110948</td>\n",
       "      <td>88</td>\n",
       "      <td>144</td>\n",
       "      <td>2.00</td>\n",
       "      <td>7.00</td>\n",
       "      <td>5.75</td>\n",
       "      <td>Web</td>\n",
       "      <td>828.00</td>\n",
       "      <td>540.00</td>\n",
       "      <td>82.14</td>\n",
       "    </tr>\n",
       "  </tbody>\n",
       "</table>\n",
       "<p>43063 rows × 18 columns</p>\n",
       "</div>"
      ],
      "text/plain": [
       "       ORDER_NUMBER RETAILER_NAME  RETAILER_SITE_CODE  RETAILER_CONTACT_CODE  \\\n",
       "0              1153  Ultra Sports                   4                      6   \n",
       "1              1153  Ultra Sports                   4                      6   \n",
       "2              1153  Ultra Sports                   4                      6   \n",
       "3              1153  Ultra Sports                   4                      6   \n",
       "4              1153  Ultra Sports                   4                      6   \n",
       "...             ...           ...                 ...                    ...   \n",
       "43058          9479  Preben's T°y                 338                    329   \n",
       "43059          9479  Preben's T°y                 338                    329   \n",
       "43060          9479  Preben's T°y                 338                    329   \n",
       "43061          9479  Preben's T°y                 338                    329   \n",
       "43062          9479  Preben's T°y                 338                    329   \n",
       "\n",
       "       SALES_STAFF_CODE  SALES_BRANCH_CODE ORDER_DATE  ORDER_METHOD_CODE  \\\n",
       "0                    50                 18 2020-04-14                  7   \n",
       "1                    50                 18 2020-04-14                  7   \n",
       "2                    50                 18 2020-04-14                  7   \n",
       "3                    50                 18 2020-04-14                  7   \n",
       "4                    50                 18 2020-04-14                  7   \n",
       "...                 ...                ...        ...                ...   \n",
       "43058                27                 15 2022-02-02                  5   \n",
       "43059                27                 15 2022-02-02                  5   \n",
       "43060                27                 15 2022-02-02                  5   \n",
       "43061                27                 15 2022-02-02                  5   \n",
       "43062                27                 15 2022-02-02                  5   \n",
       "\n",
       "       ORDER_DETAIL_CODE  PRODUCT_NUMBER  QUANTITY  UNIT_COST  UNIT_PRICE  \\\n",
       "0                  47747               2       100       9.64       12.53   \n",
       "1                  47994              32       254      18.25       27.37   \n",
       "2                  48015              35       114      19.67       26.54   \n",
       "3                  48022              36       130      21.03       34.90   \n",
       "4                  48049              39        74      42.33       67.73   \n",
       "...                  ...             ...       ...        ...         ...   \n",
       "43058             110788              52        64      19.00       38.00   \n",
       "43059             110816              56        24       9.00       18.00   \n",
       "43060             110827              57        40      40.00       80.00   \n",
       "43061             110914              78        32      79.19       99.00   \n",
       "43062             110948              88       144       2.00        7.00   \n",
       "\n",
       "       UNIT_SALE_PRICE ORDER_METHOD_EN  TURNOVER   PROFIT  DISCOUNT_PERCENTAGE  \n",
       "0                11.81     Sales visit   1181.00   217.00                94.25  \n",
       "1                25.10     Sales visit   6375.40  1739.90                91.71  \n",
       "2                24.82     Sales visit   2829.48   587.10                93.52  \n",
       "3                31.44     Sales visit   4087.20  1353.30                90.09  \n",
       "4                61.38     Sales visit   4542.12  1409.70                90.62  \n",
       "...                ...             ...       ...      ...                  ...  \n",
       "43058            33.25             Web   2128.00   912.00                87.50  \n",
       "43059            15.75             Web    378.00   162.00                87.50  \n",
       "43060            70.00             Web   2800.00  1200.00                87.50  \n",
       "43061            94.05             Web   3009.60   475.52                95.00  \n",
       "43062             5.75             Web    828.00   540.00                82.14  \n",
       "\n",
       "[43063 rows x 18 columns]"
      ]
     },
     "metadata": {},
     "output_type": "display_data"
    }
   ],
   "source": [
    "Order_Details_Feit = None\n",
    "order_details_content = pd.merge(order_header, order_details, left_on=\"ORDER_NUMBER\", how=\"inner\", right_on=\"ORDER_NUMBER\" )\n",
    "order_details_content = pd.merge(order_details_content, order_method, left_on=\"ORDER_METHOD_CODE\", how=\"inner\", right_on=\"ORDER_METHOD_CODE\")\n",
    "order_details_content[\"TURNOVER\"] = order_details_content[\"UNIT_SALE_PRICE\"] * order_details_content[\"QUANTITY\"]\n",
    "order_details_content[\"PROFIT\"] = ((order_details_content[\"UNIT_SALE_PRICE\"] * order_details_content[\"QUANTITY\"]) - (order_details_content[\"UNIT_COST\"] * order_details_content[\"QUANTITY\"]))\n",
    "order_details_content[\"DISCOUNT_PERCENTAGE\"] = ((order_details_content[\"UNIT_SALE_PRICE\"]/order_details_content[\"UNIT_PRICE\"]) * 100)\n",
    "order_details_content[\"DISCOUNT_PERCENTAGE\"] = order_details_content[\"DISCOUNT_PERCENTAGE\"].round(2)\n",
    "\n",
    "\n",
    "display(order_details_content)\n"
   ]
  },
  {
   "cell_type": "markdown",
   "metadata": {},
   "source": [
    "#### Returned_Item\n",
    "Feit #3 "
   ]
  },
  {
   "cell_type": "code",
   "execution_count": 50,
   "metadata": {},
   "outputs": [],
   "source": [
    "returned_item_combined = pd.merge(returned_item, return_reason, left_on=\"RETURN_REASON_CODE\", how=\"inner\", right_on=\"RETURN_REASON_CODE\")\n",
    "returned_item_combined = pd.merge(returned_item_combined, order_details, left_on=\"ORDER_DETAIL_CODE\", how=\"inner\", right_on=\"ORDER_DETAIL_CODE\")\n",
    "returned_item_combined = pd.merge(returned_item_combined, product, left_on=\"PRODUCT_NUMBER\", how=\"inner\", right_on=\"PRODUCT_NUMBER\")\n",
    "returned_item_combined = returned_item_combined.loc[:,[\"RETURN_CODE\",\"ORDER_DETAIL_CODE\",\"RETURN_DATE\",\"PRODUCT_NUMBER\",\"RETURN_QUANTITY\",\"RETURN_REASON_CODE\",\"RETURN_DESCRIPTION_EN\"]]\n",
    "\n",
    "# display(returned_item_combined)"
   ]
  },
  {
   "cell_type": "markdown",
   "metadata": {},
   "source": [
    "#### Staff_Training\n",
    "Feit #4\n",
    "\n",
    "(Moeten er wel zoveel merges zijn? Hoe zit het met foreign keys in de Data Warehouse?)\n",
    "\n",
    "(Misschien het overzicht zo laten en de foreign keys in de database implementeren)\n",
    "\n",
    "Het lijkt erop dat in een sterschema elke tabel atomisch moet zijn en geen verwijzingen naar anderen moet hebben. (Met uitzondering van Feit-Dimensie)\n"
   ]
  },
  {
   "cell_type": "code",
   "execution_count": 51,
   "metadata": {},
   "outputs": [
    {
     "data": {
      "text/html": [
       "<div>\n",
       "<style scoped>\n",
       "    .dataframe tbody tr th:only-of-type {\n",
       "        vertical-align: middle;\n",
       "    }\n",
       "\n",
       "    .dataframe tbody tr th {\n",
       "        vertical-align: top;\n",
       "    }\n",
       "\n",
       "    .dataframe thead th {\n",
       "        text-align: right;\n",
       "    }\n",
       "</style>\n",
       "<table border=\"1\" class=\"dataframe\">\n",
       "  <thead>\n",
       "    <tr style=\"text-align: right;\">\n",
       "      <th></th>\n",
       "      <th>YEAR</th>\n",
       "      <th>SALES_STAFF_CODE</th>\n",
       "      <th>FULL_NAME</th>\n",
       "      <th>POSITION_EN</th>\n",
       "      <th>COURSE_CODE</th>\n",
       "      <th>COURSE_DESCRIPTION</th>\n",
       "      <th>SATISFACTION_TYPE_CODE</th>\n",
       "      <th>SATISFACTION_TYPE_DESCRIPTION</th>\n",
       "    </tr>\n",
       "  </thead>\n",
       "  <tbody>\n",
       "    <tr>\n",
       "      <th>0</th>\n",
       "      <td>2004</td>\n",
       "      <td>100</td>\n",
       "      <td>Tuomas, Savolainen</td>\n",
       "      <td>Level 2 Sales Representative</td>\n",
       "      <td>2</td>\n",
       "      <td>GO Communication</td>\n",
       "      <td>1</td>\n",
       "      <td>Not satisfied</td>\n",
       "    </tr>\n",
       "    <tr>\n",
       "      <th>1</th>\n",
       "      <td>2004</td>\n",
       "      <td>100</td>\n",
       "      <td>Tuomas, Savolainen</td>\n",
       "      <td>Level 2 Sales Representative</td>\n",
       "      <td>3</td>\n",
       "      <td>GO Sales 1</td>\n",
       "      <td>1</td>\n",
       "      <td>Not satisfied</td>\n",
       "    </tr>\n",
       "    <tr>\n",
       "      <th>2</th>\n",
       "      <td>2004</td>\n",
       "      <td>100</td>\n",
       "      <td>Tuomas, Savolainen</td>\n",
       "      <td>Level 2 Sales Representative</td>\n",
       "      <td>4</td>\n",
       "      <td>GO Sales 2</td>\n",
       "      <td>1</td>\n",
       "      <td>Not satisfied</td>\n",
       "    </tr>\n",
       "    <tr>\n",
       "      <th>3</th>\n",
       "      <td>2005</td>\n",
       "      <td>100</td>\n",
       "      <td>Tuomas, Savolainen</td>\n",
       "      <td>Level 2 Sales Representative</td>\n",
       "      <td>5</td>\n",
       "      <td>GO Marketing 1</td>\n",
       "      <td>4</td>\n",
       "      <td>Very Satisfied</td>\n",
       "    </tr>\n",
       "    <tr>\n",
       "      <th>4</th>\n",
       "      <td>2006</td>\n",
       "      <td>100</td>\n",
       "      <td>Tuomas, Savolainen</td>\n",
       "      <td>Level 2 Sales Representative</td>\n",
       "      <td>6</td>\n",
       "      <td>GO Marketing 2</td>\n",
       "      <td>4</td>\n",
       "      <td>Very Satisfied</td>\n",
       "    </tr>\n",
       "    <tr>\n",
       "      <th>...</th>\n",
       "      <td>...</td>\n",
       "      <td>...</td>\n",
       "      <td>...</td>\n",
       "      <td>...</td>\n",
       "      <td>...</td>\n",
       "      <td>...</td>\n",
       "      <td>...</td>\n",
       "      <td>...</td>\n",
       "    </tr>\n",
       "    <tr>\n",
       "      <th>394</th>\n",
       "      <td>2006</td>\n",
       "      <td>98</td>\n",
       "      <td>Eduardo, Guimarães</td>\n",
       "      <td>Level 2 Sales Representative</td>\n",
       "      <td>5</td>\n",
       "      <td>GO Marketing 1</td>\n",
       "      <td>4</td>\n",
       "      <td>Very Satisfied</td>\n",
       "    </tr>\n",
       "    <tr>\n",
       "      <th>395</th>\n",
       "      <td>2005</td>\n",
       "      <td>99</td>\n",
       "      <td>Helena, Lindholm</td>\n",
       "      <td>Level 3 Sales Representative</td>\n",
       "      <td>2</td>\n",
       "      <td>GO Communication</td>\n",
       "      <td>5</td>\n",
       "      <td>More than satisfied</td>\n",
       "    </tr>\n",
       "    <tr>\n",
       "      <th>396</th>\n",
       "      <td>2004</td>\n",
       "      <td>99</td>\n",
       "      <td>Helena, Lindholm</td>\n",
       "      <td>Level 3 Sales Representative</td>\n",
       "      <td>5</td>\n",
       "      <td>GO Marketing 1</td>\n",
       "      <td>3</td>\n",
       "      <td>Satisfied</td>\n",
       "    </tr>\n",
       "    <tr>\n",
       "      <th>397</th>\n",
       "      <td>2005</td>\n",
       "      <td>99</td>\n",
       "      <td>Helena, Lindholm</td>\n",
       "      <td>Level 3 Sales Representative</td>\n",
       "      <td>6</td>\n",
       "      <td>GO Marketing 2</td>\n",
       "      <td>5</td>\n",
       "      <td>More than satisfied</td>\n",
       "    </tr>\n",
       "    <tr>\n",
       "      <th>398</th>\n",
       "      <td>2005</td>\n",
       "      <td>99</td>\n",
       "      <td>Helena, Lindholm</td>\n",
       "      <td>Level 3 Sales Representative</td>\n",
       "      <td>7</td>\n",
       "      <td>GO Marketing 3</td>\n",
       "      <td>5</td>\n",
       "      <td>More than satisfied</td>\n",
       "    </tr>\n",
       "  </tbody>\n",
       "</table>\n",
       "<p>399 rows × 8 columns</p>\n",
       "</div>"
      ],
      "text/plain": [
       "     YEAR  SALES_STAFF_CODE           FULL_NAME                   POSITION_EN  \\\n",
       "0    2004               100  Tuomas, Savolainen  Level 2 Sales Representative   \n",
       "1    2004               100  Tuomas, Savolainen  Level 2 Sales Representative   \n",
       "2    2004               100  Tuomas, Savolainen  Level 2 Sales Representative   \n",
       "3    2005               100  Tuomas, Savolainen  Level 2 Sales Representative   \n",
       "4    2006               100  Tuomas, Savolainen  Level 2 Sales Representative   \n",
       "..    ...               ...                 ...                           ...   \n",
       "394  2006                98  Eduardo, Guimarães  Level 2 Sales Representative   \n",
       "395  2005                99    Helena, Lindholm  Level 3 Sales Representative   \n",
       "396  2004                99    Helena, Lindholm  Level 3 Sales Representative   \n",
       "397  2005                99    Helena, Lindholm  Level 3 Sales Representative   \n",
       "398  2005                99    Helena, Lindholm  Level 3 Sales Representative   \n",
       "\n",
       "     COURSE_CODE COURSE_DESCRIPTION  SATISFACTION_TYPE_CODE  \\\n",
       "0              2   GO Communication                       1   \n",
       "1              3         GO Sales 1                       1   \n",
       "2              4         GO Sales 2                       1   \n",
       "3              5     GO Marketing 1                       4   \n",
       "4              6     GO Marketing 2                       4   \n",
       "..           ...                ...                     ...   \n",
       "394            5     GO Marketing 1                       4   \n",
       "395            2   GO Communication                       5   \n",
       "396            5     GO Marketing 1                       3   \n",
       "397            6     GO Marketing 2                       5   \n",
       "398            7     GO Marketing 3                       5   \n",
       "\n",
       "    SATISFACTION_TYPE_DESCRIPTION  \n",
       "0                   Not satisfied  \n",
       "1                   Not satisfied  \n",
       "2                   Not satisfied  \n",
       "3                  Very Satisfied  \n",
       "4                  Very Satisfied  \n",
       "..                            ...  \n",
       "394                Very Satisfied  \n",
       "395           More than satisfied  \n",
       "396                     Satisfied  \n",
       "397           More than satisfied  \n",
       "398           More than satisfied  \n",
       "\n",
       "[399 rows x 8 columns]"
      ]
     },
     "metadata": {},
     "output_type": "display_data"
    }
   ],
   "source": [
    "staff_training_combined = pd.merge(go_staff_training, go_staff_course, left_on=\"COURSE_CODE\", how=\"inner\", right_on=\"COURSE_CODE\")\n",
    "staff_training_combined = pd.merge(staff_training_combined, go_staff_staff, left_on=\"SALES_STAFF_CODE\", how=\"inner\", right_on=\"SALES_STAFF_CODE\")\n",
    "staff_training_combined[\"FULL_NAME\"] = staff_training_combined[[\"FIRST_NAME\", \"LAST_NAME\"]].agg( \", \".join, axis=1)\n",
    "staff_training_combined = pd.merge(staff_training_combined, go_staff_satisfaction, left_on=[\"YEAR\",\"SALES_STAFF_CODE\"], how=\"inner\", right_on=[\"YEAR\",\"SALES_STAFF_CODE\"])\n",
    "staff_training_combined = pd.merge(staff_training_combined, go_staff_satisfaction_type, left_on=\"SATISFACTION_TYPE_CODE\", how=\"inner\", right_on=\"SATISFACTION_TYPE_CODE\")\n",
    "staff_training_combined = staff_training_combined.loc[:,[\"YEAR\",\"SALES_STAFF_CODE\", \"FULL_NAME\",\"POSITION_EN\",\"COURSE_CODE\",\"COURSE_DESCRIPTION\",\"SATISFACTION_TYPE_CODE\",\"SATISFACTION_TYPE_DESCRIPTION\"]]\n",
    "\n",
    "display(staff_training_combined)"
   ]
  },
  {
   "cell_type": "markdown",
   "metadata": {},
   "source": [
    "#### Sales_Demographic\n",
    "\n",
    "Feit #5"
   ]
  },
  {
   "cell_type": "markdown",
   "metadata": {},
   "source": [
    "##### "
   ]
  },
  {
   "cell_type": "markdown",
   "metadata": {},
   "source": [
    "#### GO_SALES_PRODUCT_FORECASTData\n",
    "\n",
    "Feit #6"
   ]
  },
  {
   "cell_type": "markdown",
   "metadata": {},
   "source": [
    "#### GO_SALES_INVENTORY_LEVELSData\n",
    "\n",
    "Feit #7"
   ]
  },
  {
   "cell_type": "markdown",
   "metadata": {},
   "source": [
    "## Tabellen aanmaken in SQL Server"
   ]
  },
  {
   "cell_type": "code",
   "execution_count": null,
   "metadata": {},
   "outputs": [
    {
     "name": "stderr",
     "output_type": "stream",
     "text": [
      "<>:1: SyntaxWarning: invalid escape sequence '\\W'\n",
      "<>:1: SyntaxWarning: invalid escape sequence '\\W'\n",
      "C:\\Users\\arcde\\AppData\\Local\\Temp\\ipykernel_13908\\1196247930.py:1: SyntaxWarning: invalid escape sequence '\\W'\n",
      "  with open(\"Assets\\Week 4\\Tables.sql\",\"r\") as file:\n",
      "C:\\Users\\arcde\\AppData\\Local\\Temp\\ipykernel_13908\\1196247930.py:1: SyntaxWarning: invalid escape sequence '\\W'\n",
      "  with open(\"Assets\\Week 4\\Tables.sql\",\"r\") as file:\n"
     ]
    },
    {
     "ename": "FileNotFoundError",
     "evalue": "[Errno 2] No such file or directory: 'Assets\\\\Week 4\\\\Tables.sql'",
     "output_type": "error",
     "traceback": [
      "\u001b[1;31m---------------------------------------------------------------------------\u001b[0m",
      "\u001b[1;31mFileNotFoundError\u001b[0m                         Traceback (most recent call last)",
      "Cell \u001b[1;32mIn[53], line 1\u001b[0m\n\u001b[1;32m----> 1\u001b[0m \u001b[38;5;28;01mwith\u001b[39;00m \u001b[38;5;28;43mopen\u001b[39;49m\u001b[43m(\u001b[49m\u001b[38;5;124;43m\"\u001b[39;49m\u001b[38;5;124;43mAssets\u001b[39;49m\u001b[38;5;124;43m\\\u001b[39;49m\u001b[38;5;124;43mWeek 4\u001b[39;49m\u001b[38;5;124;43m\\\u001b[39;49m\u001b[38;5;124;43mTables.sql\u001b[39;49m\u001b[38;5;124;43m\"\u001b[39;49m\u001b[43m,\u001b[49m\u001b[38;5;124;43m\"\u001b[39;49m\u001b[38;5;124;43mr\u001b[39;49m\u001b[38;5;124;43m\"\u001b[39;49m\u001b[43m)\u001b[49m \u001b[38;5;28;01mas\u001b[39;00m file:\n\u001b[0;32m      2\u001b[0m     SQL_statements \u001b[38;5;241m=\u001b[39m file\u001b[38;5;241m.\u001b[39mread()\n",
      "File \u001b[1;32mc:\\Users\\arcde\\Documents\\Haagse Hogeschool\\Jaar 2\\Semester 4\\DEDS\\DEDS_portfolio\\.venv\\Lib\\site-packages\\IPython\\core\\interactiveshell.py:310\u001b[0m, in \u001b[0;36m_modified_open\u001b[1;34m(file, *args, **kwargs)\u001b[0m\n\u001b[0;32m    303\u001b[0m \u001b[38;5;28;01mif\u001b[39;00m file \u001b[38;5;129;01min\u001b[39;00m {\u001b[38;5;241m0\u001b[39m, \u001b[38;5;241m1\u001b[39m, \u001b[38;5;241m2\u001b[39m}:\n\u001b[0;32m    304\u001b[0m     \u001b[38;5;28;01mraise\u001b[39;00m \u001b[38;5;167;01mValueError\u001b[39;00m(\n\u001b[0;32m    305\u001b[0m         \u001b[38;5;124mf\u001b[39m\u001b[38;5;124m\"\u001b[39m\u001b[38;5;124mIPython won\u001b[39m\u001b[38;5;124m'\u001b[39m\u001b[38;5;124mt let you open fd=\u001b[39m\u001b[38;5;132;01m{\u001b[39;00mfile\u001b[38;5;132;01m}\u001b[39;00m\u001b[38;5;124m by default \u001b[39m\u001b[38;5;124m\"\u001b[39m\n\u001b[0;32m    306\u001b[0m         \u001b[38;5;124m\"\u001b[39m\u001b[38;5;124mas it is likely to crash IPython. If you know what you are doing, \u001b[39m\u001b[38;5;124m\"\u001b[39m\n\u001b[0;32m    307\u001b[0m         \u001b[38;5;124m\"\u001b[39m\u001b[38;5;124myou can use builtins\u001b[39m\u001b[38;5;124m'\u001b[39m\u001b[38;5;124m open.\u001b[39m\u001b[38;5;124m\"\u001b[39m\n\u001b[0;32m    308\u001b[0m     )\n\u001b[1;32m--> 310\u001b[0m \u001b[38;5;28;01mreturn\u001b[39;00m \u001b[43mio_open\u001b[49m\u001b[43m(\u001b[49m\u001b[43mfile\u001b[49m\u001b[43m,\u001b[49m\u001b[43m \u001b[49m\u001b[38;5;241;43m*\u001b[39;49m\u001b[43margs\u001b[49m\u001b[43m,\u001b[49m\u001b[43m \u001b[49m\u001b[38;5;241;43m*\u001b[39;49m\u001b[38;5;241;43m*\u001b[39;49m\u001b[43mkwargs\u001b[49m\u001b[43m)\u001b[49m\n",
      "\u001b[1;31mFileNotFoundError\u001b[0m: [Errno 2] No such file or directory: 'Assets\\\\Week 4\\\\Tables.sql'"
     ]
    }
   ],
   "source": [
    "with open(\"../Assets/Week 4/Tables.sql\",\"r\") as file:\n",
    "    SQL_statements = file.read()"
   ]
  },
  {
   "cell_type": "markdown",
   "metadata": {},
   "source": [
    "## Data invoeren"
   ]
  },
  {
   "cell_type": "code",
   "execution_count": null,
   "metadata": {},
   "outputs": [],
   "source": [
    "for index, row in PRODUCT_REGISTRY.iterrows():\n",
    "    try:\n",
    "        query = None\n",
    "        export_cursor.execute(query)\n",
    "    except pyodbc.Error:\n",
    "        print(query)\n",
    "export_cursor.commit()\n",
    "\n",
    "\n",
    "for index, row in sales_staff_combined.iterrows():\n",
    "    try:\n",
    "        query = None\n",
    "        export_cursor.execute(query)\n",
    "    except pyodbc.Error:\n",
    "        print(query)\n",
    "export_cursor.commit()\n",
    "\n",
    "for index, row in sales_staff_combined.iterrows():\n",
    "    try:\n",
    "        query = None\n",
    "        export_cursor.execute(query)\n",
    "    except pyodbc.Error:\n",
    "        print(query)\n",
    "export_cursor.commit()\n",
    "\n",
    "for index, row in sales_staff_combined.iterrows():\n",
    "    try:\n",
    "        query = None\n",
    "        export_cursor.execute(query)\n",
    "    except pyodbc.Error:\n",
    "        print(query)\n",
    "export_cursor.commit()\n",
    "\n",
    "\n",
    "\n",
    "\n",
    "export_cursor.close()\n",
    "        \n",
    "\n"
   ]
  }
 ],
 "metadata": {
  "kernelspec": {
   "display_name": ".venv",
   "language": "python",
   "name": "python3"
  },
  "language_info": {
   "codemirror_mode": {
    "name": "ipython",
    "version": 3
   },
   "file_extension": ".py",
   "mimetype": "text/x-python",
   "name": "python",
   "nbconvert_exporter": "python",
   "pygments_lexer": "ipython3",
   "version": "3.12.2"
  }
 },
 "nbformat": 4,
 "nbformat_minor": 2
}
