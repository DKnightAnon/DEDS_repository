{
 "cells": [
  {
   "cell_type": "markdown",
   "metadata": {},
   "source": [
    "# Practicumopdrachten Week 3.1 (Algoritmes)"
   ]
  },
  {
   "cell_type": "markdown",
   "metadata": {},
   "source": [
    "## Opdracht\n",
    "\n",
    "1. Maak met python minimaal drie arrays van minimaal 20 willekeurige en niet gesorteerde integers (meer mag ook).\n",
    "2. Zoek op internet naar ten minste drie verschillende sorteeralgoritmes die je wilt gebruiken om de integer arrays mee te sorteren.\n",
    "3. Implementer je gekozen sorteeralgoritmes om de integer arrays mee te sorteren. Maak voor elk sorteeralgoritme een nieuwe methode aan die een integer array als parameter heeft en de integer array gesorteerd returnt.\n",
    "\n",
    "*Kudos als je een moeilijk, super efficient of creatief algoritme kunt vinden óf zelfs bedenken ;*"
   ]
  },
  {
   "cell_type": "markdown",
   "metadata": {},
   "source": [
    "### Package imports"
   ]
  },
  {
   "cell_type": "code",
   "execution_count": 9,
   "metadata": {},
   "outputs": [],
   "source": [
    "import warnings\n",
    "import numpy as np\n",
    "import sqlite3\n",
    "import pandas as pd\n",
    "import math\n",
    "warnings.simplefilter('ignore')"
   ]
  },
  {
   "cell_type": "markdown",
   "metadata": {},
   "source": [
    "### Creër ungesorteerde arrays"
   ]
  },
  {
   "cell_type": "code",
   "execution_count": 5,
   "metadata": {},
   "outputs": [
    {
     "name": "stdout",
     "output_type": "stream",
     "text": [
      "[3 2 2 2 7 0 1 9 3 0 6 8 1 4 6 4 6 0 4 2]\n",
      "[8 4 8 6 7 7 6 6 1 6 3 0 3 0 5 4 5 2 7 9]\n",
      "[4 9 8 3 0 4 6 1 1 7 6 2 2 0 9 3 1 2 3 5]\n"
     ]
    }
   ],
   "source": [
    "array1 = np.random.randint(10, size=(20)) \n",
    "array2 = np.random.randint(10, size=(20)) \n",
    "array3 = np.random.randint(10, size=(20)) \n",
    "\n",
    "print(array1)\n",
    "print(array2)\n",
    "print(array3)"
   ]
  },
  {
   "cell_type": "markdown",
   "metadata": {},
   "source": [
    "### Sorteer algoritme methodes"
   ]
  },
  {
   "cell_type": "markdown",
   "metadata": {},
   "source": [
    "##### Shell sort\n",
    "\n",
    "Bij Shellsort worden elementen met elkaar vergeleken dat niet direct naast elkaar, maar een stuk apart liggen. Dit algoritme werkt via de volgende manier: \n",
    "1. − Start\n",
    "2. − Initialize the value of gap size. Example: h\n",
    "3. − Divide the list into smaller sub-part. Each must have equal intervals to h\n",
    "4. − Sort these sub-lists using insertion sort\n",
    "5. – Repeat this step 2 until the list is sorted.\n",
    "6. – Print a sorted list.\n",
    "7. – Stop.\n"
   ]
  },
  {
   "cell_type": "code",
   "execution_count": 7,
   "metadata": {},
   "outputs": [],
   "source": [
    "def shellSort(array):\n",
    "    n = len(array)\n",
    "    k = int(math.log2(n))\n",
    "    interval = 2**k -1\n",
    "    while interval > 0:\n",
    "        for i in range(interval, n):\n",
    "            temp = array[i]\n",
    "            j = i\n",
    "            while j >= interval and array[j - interval] > temp:\n",
    "                array[j] = array[j - interval]\n",
    "                j -= interval\n",
    "            array[j] = temp\n",
    "        k -= 1\n",
    "        interval = 2**k -1\n",
    "    return array"
   ]
  },
  {
   "cell_type": "markdown",
   "metadata": {},
   "source": [
    "### Resultaten"
   ]
  },
  {
   "cell_type": "code",
   "execution_count": 13,
   "metadata": {},
   "outputs": [
    {
     "name": "stdout",
     "output_type": "stream",
     "text": [
      "SHELL SORT\n",
      "[0 0 0 1 1 2 2 2 2 3 3 4 4 4 6 6 6 7 8 9]\n",
      "[0 0 1 2 3 3 4 4 5 5 6 6 6 6 7 7 7 8 8 9]\n",
      "[0 0 1 1 1 2 2 2 3 3 3 4 4 5 6 6 7 8 9 9]\n",
      "-----------------\n"
     ]
    }
   ],
   "source": [
    "\n",
    "print(\"SHELL SORT\")\n",
    "print(shellSort(array1))\n",
    "print(shellSort(array2))\n",
    "print(shellSort(array3))\n",
    "print(\"-----------------\")\n",
    "print()\n"
   ]
  },
  {
   "cell_type": "markdown",
   "metadata": {},
   "source": [
    "### Bronnen"
   ]
  },
  {
   "cell_type": "markdown",
   "metadata": {},
   "source": [
    "1. Rathore, A. S. (2023, January 22). Sorting algorithms — with Python - towards data science. Medium. https://towardsdatascience.com/sorting-algorithms-with-python-4ec7081d78a1 \n",
    "2. GfG. (2023, January 10). ShellSort. GeeksforGeeks. https://www.geeksforgeeks.org/shellsort/ "
   ]
  }
 ],
 "metadata": {
  "kernelspec": {
   "display_name": ".venv",
   "language": "python",
   "name": "python3"
  },
  "language_info": {
   "codemirror_mode": {
    "name": "ipython",
    "version": 3
   },
   "file_extension": ".py",
   "mimetype": "text/x-python",
   "name": "python",
   "nbconvert_exporter": "python",
   "pygments_lexer": "ipython3",
   "version": "3.12.2"
  }
 },
 "nbformat": 4,
 "nbformat_minor": 2
}
